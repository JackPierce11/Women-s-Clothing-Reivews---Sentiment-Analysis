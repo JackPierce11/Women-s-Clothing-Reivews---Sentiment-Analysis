{
 "cells": [
  {
   "cell_type": "code",
   "execution_count": 1,
   "id": "83d7866a",
   "metadata": {
    "_cell_guid": "b1076dfc-b9ad-4769-8c92-a6c4dae69d19",
    "_uuid": "8f2839f25d086af736a60e9eeb907d3b93b6e0e5",
    "execution": {
     "iopub.execute_input": "2023-03-02T10:03:44.797810Z",
     "iopub.status.busy": "2023-03-02T10:03:44.796620Z",
     "iopub.status.idle": "2023-03-02T10:03:44.818263Z",
     "shell.execute_reply": "2023-03-02T10:03:44.817074Z"
    },
    "papermill": {
     "duration": 0.038942,
     "end_time": "2023-03-02T10:03:44.820989",
     "exception": false,
     "start_time": "2023-03-02T10:03:44.782047",
     "status": "completed"
    },
    "tags": []
   },
   "outputs": [
    {
     "name": "stdout",
     "output_type": "stream",
     "text": [
      "/kaggle/input/reviews-cleaned/reviews_cleaned.csv\n"
     ]
    }
   ],
   "source": [
    "# This Python 3 environment comes with many helpful analytics libraries installed\n",
    "# It is defined by the kaggle/python Docker image: https://github.com/kaggle/docker-python\n",
    "# For example, here's several helpful packages to load\n",
    "\n",
    "import numpy as np # linear algebra\n",
    "import pandas as pd # data processing, CSV file I/O (e.g. pd.read_csv)\n",
    "\n",
    "# Input data files are available in the read-only \"../input/\" directory\n",
    "# For example, running this (by clicking run or pressing Shift+Enter) will list all files under the input directory\n",
    "\n",
    "import os\n",
    "for dirname, _, filenames in os.walk('/kaggle/input'):\n",
    "    for filename in filenames:\n",
    "        print(os.path.join(dirname, filename))\n",
    "\n",
    "# You can write up to 20GB to the current directory (/kaggle/working/) that gets preserved as output when you create a version using \"Save & Run All\" \n",
    "# You can also write temporary files to /kaggle/temp/, but they won't be saved outside of the current session"
   ]
  },
  {
   "cell_type": "markdown",
   "id": "d9b53916",
   "metadata": {
    "papermill": {
     "duration": 0.007413,
     "end_time": "2023-03-02T10:03:44.836527",
     "exception": false,
     "start_time": "2023-03-02T10:03:44.829114",
     "status": "completed"
    },
    "tags": []
   },
   "source": [
    "# Women's Clothing Reviews - Sentiment Analysis: Building Word2Vec\n",
    "\n",
    "## Overall Project Goal\n",
    "In this project I want to understand this dataset on women's clothing reviews, create a Word2Vec model based off of the review texts in the data set and then use this Word2Vec model to build a sentiment analysis model on the dataset which attempts to predict whether the customer left a 5-star review or not.\n",
    "\n",
    "### Project Notebooks\n",
    "This notebook is part of a series of 3 notebooks on performing sentiment analysis on a dataset of women's clothing reviews.\n",
    "1. Women's Clothing Reviews - Sentiment Analysis: EDA **{ADD LINKS}**\n",
    "2. **Women's Clothing Reviews - Sentiment Analysis: Building Word2Vec Model** \n",
    "3. Women's Clothing Reviews - Sentiment Analysis: Building a Sentiment Analysis Model\n",
    "\n",
    "\n",
    "\n",
    "## Goal of this notebook: Building Word2Vec Model\n",
    "In this notebook, I want to take all the text in the dataset, preprocess it and use it to build a Word2Vec model that can then be used to vectorise the data and use it in a neural network for the task of sentiment analysis."
   ]
  },
  {
   "cell_type": "code",
   "execution_count": 2,
   "id": "bea907cc",
   "metadata": {
    "execution": {
     "iopub.execute_input": "2023-03-02T10:03:44.854076Z",
     "iopub.status.busy": "2023-03-02T10:03:44.853290Z",
     "iopub.status.idle": "2023-03-02T10:03:47.386368Z",
     "shell.execute_reply": "2023-03-02T10:03:47.385196Z"
    },
    "papermill": {
     "duration": 2.54516,
     "end_time": "2023-03-02T10:03:47.389374",
     "exception": false,
     "start_time": "2023-03-02T10:03:44.844214",
     "status": "completed"
    },
    "tags": []
   },
   "outputs": [],
   "source": [
    "# Linear algebra and data processing\n",
    "import pandas as pd\n",
    "import numpy as np\n",
    "\n",
    "# Data vizualisation\n",
    "import matplotlib.pyplot as plt\n",
    "%matplotlib inline\n",
    "import seaborn as sns\n",
    "\n",
    "# Data preprocessing\n",
    "from bs4 import BeautifulSoup\n",
    "import re\n",
    "from nltk.corpus import stopwords\n",
    "\n",
    "# Importing the model\n",
    "from gensim.models import word2vec, Phrases"
   ]
  },
  {
   "cell_type": "code",
   "execution_count": 3,
   "id": "dfa8b4cc",
   "metadata": {
    "execution": {
     "iopub.execute_input": "2023-03-02T10:03:47.407078Z",
     "iopub.status.busy": "2023-03-02T10:03:47.406643Z",
     "iopub.status.idle": "2023-03-02T10:03:47.642906Z",
     "shell.execute_reply": "2023-03-02T10:03:47.641701Z"
    },
    "papermill": {
     "duration": 0.248062,
     "end_time": "2023-03-02T10:03:47.645446",
     "exception": false,
     "start_time": "2023-03-02T10:03:47.397384",
     "status": "completed"
    },
    "tags": []
   },
   "outputs": [],
   "source": [
    "# Loading the cleaned dataset from the EDA notebook\n",
    "data = pd.read_csv('/kaggle/input/reviews-cleaned/reviews_cleaned.csv', index_col='Unnamed: 0')"
   ]
  },
  {
   "cell_type": "code",
   "execution_count": 4,
   "id": "c55efdaf",
   "metadata": {
    "execution": {
     "iopub.execute_input": "2023-03-02T10:03:47.662738Z",
     "iopub.status.busy": "2023-03-02T10:03:47.662088Z",
     "iopub.status.idle": "2023-03-02T10:03:47.679416Z",
     "shell.execute_reply": "2023-03-02T10:03:47.678306Z"
    },
    "papermill": {
     "duration": 0.028118,
     "end_time": "2023-03-02T10:03:47.681623",
     "exception": false,
     "start_time": "2023-03-02T10:03:47.653505",
     "status": "completed"
    },
    "tags": []
   },
   "outputs": [
    {
     "data": {
      "text/html": [
       "<div>\n",
       "<style scoped>\n",
       "    .dataframe tbody tr th:only-of-type {\n",
       "        vertical-align: middle;\n",
       "    }\n",
       "\n",
       "    .dataframe tbody tr th {\n",
       "        vertical-align: top;\n",
       "    }\n",
       "\n",
       "    .dataframe thead th {\n",
       "        text-align: right;\n",
       "    }\n",
       "</style>\n",
       "<table border=\"1\" class=\"dataframe\">\n",
       "  <thead>\n",
       "    <tr style=\"text-align: right;\">\n",
       "      <th></th>\n",
       "      <th>Title</th>\n",
       "      <th>Review Text</th>\n",
       "      <th>Five Star</th>\n",
       "    </tr>\n",
       "  </thead>\n",
       "  <tbody>\n",
       "    <tr>\n",
       "      <th>0</th>\n",
       "      <td>NaN</td>\n",
       "      <td>Absolutely wonderful - silky and sexy and comf...</td>\n",
       "      <td>0</td>\n",
       "    </tr>\n",
       "    <tr>\n",
       "      <th>1</th>\n",
       "      <td>NaN</td>\n",
       "      <td>Love this dress!  it's sooo pretty.  i happene...</td>\n",
       "      <td>1</td>\n",
       "    </tr>\n",
       "    <tr>\n",
       "      <th>2</th>\n",
       "      <td>Some major design flaws</td>\n",
       "      <td>I had such high hopes for this dress and reall...</td>\n",
       "      <td>0</td>\n",
       "    </tr>\n",
       "    <tr>\n",
       "      <th>3</th>\n",
       "      <td>My favorite buy!</td>\n",
       "      <td>I love, love, love this jumpsuit. it's fun, fl...</td>\n",
       "      <td>1</td>\n",
       "    </tr>\n",
       "    <tr>\n",
       "      <th>4</th>\n",
       "      <td>Flattering shirt</td>\n",
       "      <td>This shirt is very flattering to all due to th...</td>\n",
       "      <td>1</td>\n",
       "    </tr>\n",
       "  </tbody>\n",
       "</table>\n",
       "</div>"
      ],
      "text/plain": [
       "                     Title                                        Review Text  \\\n",
       "0                      NaN  Absolutely wonderful - silky and sexy and comf...   \n",
       "1                      NaN  Love this dress!  it's sooo pretty.  i happene...   \n",
       "2  Some major design flaws  I had such high hopes for this dress and reall...   \n",
       "3         My favorite buy!  I love, love, love this jumpsuit. it's fun, fl...   \n",
       "4         Flattering shirt  This shirt is very flattering to all due to th...   \n",
       "\n",
       "   Five Star  \n",
       "0          0  \n",
       "1          1  \n",
       "2          0  \n",
       "3          1  \n",
       "4          1  "
      ]
     },
     "execution_count": 4,
     "metadata": {},
     "output_type": "execute_result"
    }
   ],
   "source": [
    "# Looking at the first 5 rows of the dataset\n",
    "data.head()"
   ]
  },
  {
   "cell_type": "markdown",
   "id": "150d6e43",
   "metadata": {
    "papermill": {
     "duration": 0.008198,
     "end_time": "2023-03-02T10:03:47.697768",
     "exception": false,
     "start_time": "2023-03-02T10:03:47.689570",
     "status": "completed"
    },
    "tags": []
   },
   "source": [
    "## 1. Data Preprocessing\n",
    "\n",
    "In this step, the data needs to be preprocessed in order to be used to create the Word2Vec model. The preprocessing steps include:\n",
    "- Removing HTML\n",
    "- Removing non-letters\n",
    "- Converting all to lowercase\n",
    "- Lemmatization of the words\n",
    "\n",
    "To create the Word2Vec model a tokeniser will be used to split the text into sentences and the sentences will be split into a list of preprocessed words (so we will have a list of lists format). Also we will take the reviews that contain a title and add the title to the review text so that we can build the model based on the entirety of the text available."
   ]
  },
  {
   "cell_type": "code",
   "execution_count": 5,
   "id": "565e145e",
   "metadata": {
    "execution": {
     "iopub.execute_input": "2023-03-02T10:03:47.715739Z",
     "iopub.status.busy": "2023-03-02T10:03:47.715275Z",
     "iopub.status.idle": "2023-03-02T10:03:47.757772Z",
     "shell.execute_reply": "2023-03-02T10:03:47.756681Z"
    },
    "papermill": {
     "duration": 0.0547,
     "end_time": "2023-03-02T10:03:47.760398",
     "exception": false,
     "start_time": "2023-03-02T10:03:47.705698",
     "status": "completed"
    },
    "tags": []
   },
   "outputs": [],
   "source": [
    "# Replace missing values with a space character\n",
    "data['Title'] = data['Title'].apply(lambda x: ' ' if pd.isna(x) else x)\n",
    "\n",
    "# Creating a new column that contains the title and review text together\n",
    "data['Total Text'] = data['Title'] + '. ' +data['Review Text'] "
   ]
  },
  {
   "cell_type": "code",
   "execution_count": 6,
   "id": "fcc33869",
   "metadata": {
    "execution": {
     "iopub.execute_input": "2023-03-02T10:03:47.778856Z",
     "iopub.status.busy": "2023-03-02T10:03:47.778057Z",
     "iopub.status.idle": "2023-03-02T10:03:47.784208Z",
     "shell.execute_reply": "2023-03-02T10:03:47.783500Z"
    },
    "papermill": {
     "duration": 0.017738,
     "end_time": "2023-03-02T10:03:47.786373",
     "exception": false,
     "start_time": "2023-03-02T10:03:47.768635",
     "status": "completed"
    },
    "tags": []
   },
   "outputs": [],
   "source": [
    "# importing a lemmatizer\n",
    "import nltk\n",
    "from nltk.stem import WordNetLemmatizer\n",
    "from nltk.corpus import stopwords\n",
    "\n",
    "def lemmatize(words):\n",
    "    # This function takes in a list of words and returns the list\n",
    "    # of words with the words in their lemmatized form\n",
    "    # it priotizes correctly lemmatizing verbs\n",
    "    lemmatizer = WordNetLemmatizer()\n",
    "    lemmatized_words = [lemmatizer.lemmatize(word, pos='v') for word in words]\n",
    "    return lemmatized_words\n"
   ]
  },
  {
   "cell_type": "code",
   "execution_count": 7,
   "id": "805f6d8d",
   "metadata": {
    "execution": {
     "iopub.execute_input": "2023-03-02T10:03:47.804531Z",
     "iopub.status.busy": "2023-03-02T10:03:47.803772Z",
     "iopub.status.idle": "2023-03-02T10:03:47.810520Z",
     "shell.execute_reply": "2023-03-02T10:03:47.809800Z"
    },
    "papermill": {
     "duration": 0.018391,
     "end_time": "2023-03-02T10:03:47.812700",
     "exception": false,
     "start_time": "2023-03-02T10:03:47.794309",
     "status": "completed"
    },
    "tags": []
   },
   "outputs": [],
   "source": [
    "def review_to_wordlist(review):\n",
    "    \n",
    "    # This is our data preprocessing function that removes HTML, removes non letters and \n",
    "    # returns the review with words split into items in a list and all in lowercase.\n",
    "    \n",
    "    # Remove HTML\n",
    "    review = BeautifulSoup(review).get_text()\n",
    "    \n",
    "    # Remove non-letters\n",
    "    review = re.sub(\"[^a-zA-Z]\", \" \", review)\n",
    "    \n",
    "    # Convert words to lowercase and split them\n",
    "    review = review.lower().split()\n",
    "    \n",
    "    # Converting stopwords list to a set (for processing time)\n",
    "    stops = set(stopwords.words(\"english\"))\n",
    "    \n",
    "    # Removing stopwords\n",
    "    review = [w for w in review if not w in stops]\n",
    "    \n",
    "    # Lemmatize the words\n",
    "    review = lemmatize(review)\n",
    "    \n",
    "    \n",
    "    return review"
   ]
  },
  {
   "cell_type": "code",
   "execution_count": 8,
   "id": "e058cf16",
   "metadata": {
    "execution": {
     "iopub.execute_input": "2023-03-02T10:03:47.829900Z",
     "iopub.status.busy": "2023-03-02T10:03:47.829518Z",
     "iopub.status.idle": "2023-03-02T10:04:06.570266Z",
     "shell.execute_reply": "2023-03-02T10:04:06.569250Z"
    },
    "papermill": {
     "duration": 18.75243,
     "end_time": "2023-03-02T10:04:06.573042",
     "exception": false,
     "start_time": "2023-03-02T10:03:47.820612",
     "status": "completed"
    },
    "tags": []
   },
   "outputs": [
    {
     "name": "stderr",
     "output_type": "stream",
     "text": [
      "/opt/conda/lib/python3.7/site-packages/bs4/__init__.py:439: MarkupResemblesLocatorWarning: The input looks more like a filename than markup. You may want to open this file and pass the filehandle into Beautiful Soup.\n",
      "  MarkupResemblesLocatorWarning\n"
     ]
    }
   ],
   "source": [
    "# Preprocessing data so that it can be used in the model building notebook\n",
    "data_preprocessed = data.copy()\n",
    "data_preprocessed['Total Text'] = data['Total Text'].apply(lambda review: review_to_wordlist(review))\n",
    "data_preprocessed.to_csv('data_preprocessed.csv', index=False)"
   ]
  },
  {
   "cell_type": "code",
   "execution_count": 9,
   "id": "ac501409",
   "metadata": {
    "execution": {
     "iopub.execute_input": "2023-03-02T10:04:06.591529Z",
     "iopub.status.busy": "2023-03-02T10:04:06.591096Z",
     "iopub.status.idle": "2023-03-02T10:04:06.598996Z",
     "shell.execute_reply": "2023-03-02T10:04:06.598000Z"
    },
    "papermill": {
     "duration": 0.019718,
     "end_time": "2023-03-02T10:04:06.601091",
     "exception": false,
     "start_time": "2023-03-02T10:04:06.581373",
     "status": "completed"
    },
    "tags": []
   },
   "outputs": [
    {
     "data": {
      "text/plain": [
       "['love',\n",
       " 'dress',\n",
       " 'sooo',\n",
       " 'pretty',\n",
       " 'happen',\n",
       " 'find',\n",
       " 'store',\n",
       " 'glad',\n",
       " 'bc',\n",
       " 'never']"
      ]
     },
     "execution_count": 9,
     "metadata": {},
     "output_type": "execute_result"
    }
   ],
   "source": [
    "# Example of results of review_to_wordlist\n",
    "review_to_wordlist(data['Review Text'][1])[:10]"
   ]
  },
  {
   "cell_type": "markdown",
   "id": "c04fcc4e",
   "metadata": {
    "papermill": {
     "duration": 0.007843,
     "end_time": "2023-03-02T10:04:06.617051",
     "exception": false,
     "start_time": "2023-03-02T10:04:06.609208",
     "status": "completed"
    },
    "tags": []
   },
   "source": [
    "Word2Vec expects to recieve text in a specific format. It expects single sentences as a list of words. The input format is therefore a list of lists breaking down the text into sentences and words. We will use the tokenizer to define the different sentences in the text."
   ]
  },
  {
   "cell_type": "code",
   "execution_count": 10,
   "id": "d4e366e1",
   "metadata": {
    "execution": {
     "iopub.execute_input": "2023-03-02T10:04:06.635340Z",
     "iopub.status.busy": "2023-03-02T10:04:06.634239Z",
     "iopub.status.idle": "2023-03-02T10:04:06.649427Z",
     "shell.execute_reply": "2023-03-02T10:04:06.648596Z"
    },
    "papermill": {
     "duration": 0.026775,
     "end_time": "2023-03-02T10:04:06.651688",
     "exception": false,
     "start_time": "2023-03-02T10:04:06.624913",
     "status": "completed"
    },
    "tags": []
   },
   "outputs": [],
   "source": [
    "# Download the punkt tokenizer for sentence splitting\n",
    "import nltk.data\n",
    "\n",
    "# Load the punkt tokenizer\n",
    "tokenizer = nltk.data.load('tokenizers/punkt/english.pickle')"
   ]
  },
  {
   "cell_type": "code",
   "execution_count": 11,
   "id": "e963880b",
   "metadata": {
    "execution": {
     "iopub.execute_input": "2023-03-02T10:04:06.670297Z",
     "iopub.status.busy": "2023-03-02T10:04:06.669293Z",
     "iopub.status.idle": "2023-03-02T10:04:06.675547Z",
     "shell.execute_reply": "2023-03-02T10:04:06.674709Z"
    },
    "papermill": {
     "duration": 0.017675,
     "end_time": "2023-03-02T10:04:06.677597",
     "exception": false,
     "start_time": "2023-03-02T10:04:06.659922",
     "status": "completed"
    },
    "tags": []
   },
   "outputs": [],
   "source": [
    "def review_to_sentences(review, tokenizer):\n",
    "    # This function splits the review into passed sentences\n",
    "    # and returns a list of sentences, where each sentence is a list of words\n",
    "    \n",
    "    # Using the tokeniser to split the reivew into sentences\n",
    "    raw_sentences = tokenizer.tokenize(review.strip())\n",
    "    \n",
    "    # Creating an empty list to append the preprocessed lists of words to\n",
    "    sentences = []\n",
    "    \n",
    "    # Iterating over the sentences split by the tokeniser\n",
    "    for raw_sentence in raw_sentences:\n",
    "        if len(raw_sentence) > 0:\n",
    "            # Using the review_to_wordlist function to return a list of lists\n",
    "            sentences.append(review_to_wordlist(raw_sentence))\n",
    "\n",
    "    return sentences\n",
    "        "
   ]
  },
  {
   "cell_type": "code",
   "execution_count": 12,
   "id": "d41654b9",
   "metadata": {
    "execution": {
     "iopub.execute_input": "2023-03-02T10:04:06.696395Z",
     "iopub.status.busy": "2023-03-02T10:04:06.695738Z",
     "iopub.status.idle": "2023-03-02T10:05:23.056427Z",
     "shell.execute_reply": "2023-03-02T10:05:23.055318Z"
    },
    "papermill": {
     "duration": 76.373373,
     "end_time": "2023-03-02T10:05:23.059321",
     "exception": false,
     "start_time": "2023-03-02T10:04:06.685948",
     "status": "completed"
    },
    "tags": []
   },
   "outputs": [
    {
     "name": "stdout",
     "output_type": "stream",
     "text": [
      "0 reviews processed in data out of 22641\n",
      "5000 reviews processed in data out of 22641\n",
      "10000 reviews processed in data out of 22641\n",
      "15000 reviews processed in data out of 22641\n",
      "20000 reviews processed in data out of 22641\n"
     ]
    }
   ],
   "source": [
    "# Defining the empty list to put the sentences in\n",
    "sentences = []\n",
    "\n",
    "# Preprocessing the reviews in `train_labeled` and appending to list\n",
    "for i, review in enumerate(data['Total Text']):\n",
    "    if i%5000 == 0:\n",
    "        print(f'{i} reviews processed in data out of {len(data)}')\n",
    "    sentences += review_to_sentences(review, tokenizer)"
   ]
  },
  {
   "cell_type": "code",
   "execution_count": 13,
   "id": "213a886f",
   "metadata": {
    "execution": {
     "iopub.execute_input": "2023-03-02T10:05:23.079615Z",
     "iopub.status.busy": "2023-03-02T10:05:23.078644Z",
     "iopub.status.idle": "2023-03-02T10:05:23.125780Z",
     "shell.execute_reply": "2023-03-02T10:05:23.124703Z"
    },
    "papermill": {
     "duration": 0.059859,
     "end_time": "2023-03-02T10:05:23.128099",
     "exception": false,
     "start_time": "2023-03-02T10:05:23.068240",
     "status": "completed"
    },
    "tags": []
   },
   "outputs": [
    {
     "name": "stdout",
     "output_type": "stream",
     "text": [
      "The dataset contains 131,187 sentences and a total of 685,461 words\n"
     ]
    }
   ],
   "source": [
    "# Seeing how many sentences and words are in the corpus\n",
    "num_sent = len(sentences)\n",
    "num_words = sum(len(sentence) for sentence in sentences)\n",
    "\n",
    "# Printing the number of sentences and words\n",
    "print(f'The dataset contains {num_sent:,} sentences and a total of {num_words:,} words')"
   ]
  },
  {
   "cell_type": "markdown",
   "id": "c24588bb",
   "metadata": {
    "papermill": {
     "duration": 0.008263,
     "end_time": "2023-03-02T10:05:23.144866",
     "exception": false,
     "start_time": "2023-03-02T10:05:23.136603",
     "status": "completed"
    },
    "tags": []
   },
   "source": [
    "## 2. Analysing the Corpus of Text\n",
    "\n",
    "Lets take a look at the different word frequencies to get a better understanding of the corpus of text we are going to train the Word2Vec model on."
   ]
  },
  {
   "cell_type": "code",
   "execution_count": 14,
   "id": "19d4c9c7",
   "metadata": {
    "execution": {
     "iopub.execute_input": "2023-03-02T10:05:23.164573Z",
     "iopub.status.busy": "2023-03-02T10:05:23.163274Z",
     "iopub.status.idle": "2023-03-02T10:05:23.445448Z",
     "shell.execute_reply": "2023-03-02T10:05:23.444235Z"
    },
    "papermill": {
     "duration": 0.295002,
     "end_time": "2023-03-02T10:05:23.448352",
     "exception": false,
     "start_time": "2023-03-02T10:05:23.153350",
     "status": "completed"
    },
    "tags": []
   },
   "outputs": [],
   "source": [
    "# Creating an empty dictionary to add in words and their frequencies\n",
    "word_frequencies = {}\n",
    "\n",
    "# Iterating through sentences, then words and adding up their frequencies in the dictionary\n",
    "for sentence in sentences:\n",
    "    for word in sentence:\n",
    "        if word in word_frequencies:\n",
    "            word_frequencies[word] += 1\n",
    "        else:\n",
    "            word_frequencies[word] = 1"
   ]
  },
  {
   "cell_type": "code",
   "execution_count": 15,
   "id": "b938018f",
   "metadata": {
    "execution": {
     "iopub.execute_input": "2023-03-02T10:05:23.467916Z",
     "iopub.status.busy": "2023-03-02T10:05:23.466833Z",
     "iopub.status.idle": "2023-03-02T10:05:23.487483Z",
     "shell.execute_reply": "2023-03-02T10:05:23.486331Z"
    },
    "papermill": {
     "duration": 0.033079,
     "end_time": "2023-03-02T10:05:23.489994",
     "exception": false,
     "start_time": "2023-03-02T10:05:23.456915",
     "status": "completed"
    },
    "tags": []
   },
   "outputs": [],
   "source": [
    "# Convert the dictionary into a list of tuples\n",
    "word_freq_list = [(word, freq) for word, freq in word_frequencies.items()]\n",
    "\n",
    "# Create a pandas dataframe from the list\n",
    "word_freqs = pd.DataFrame(word_freq_list, columns=['Word', 'Frequency'])\n",
    "\n",
    "# Sort the dataframe by frequency in descending order and reseting the index\n",
    "word_freqs = word_freqs.sort_values(by='Frequency', ascending=False)\n",
    "word_freqs = word_freqs.reset_index(drop=True)"
   ]
  },
  {
   "cell_type": "code",
   "execution_count": 16,
   "id": "8c40a7cf",
   "metadata": {
    "execution": {
     "iopub.execute_input": "2023-03-02T10:05:23.510240Z",
     "iopub.status.busy": "2023-03-02T10:05:23.508984Z",
     "iopub.status.idle": "2023-03-02T10:05:23.517294Z",
     "shell.execute_reply": "2023-03-02T10:05:23.516350Z"
    },
    "papermill": {
     "duration": 0.020859,
     "end_time": "2023-03-02T10:05:23.519646",
     "exception": false,
     "start_time": "2023-03-02T10:05:23.498787",
     "status": "completed"
    },
    "tags": []
   },
   "outputs": [],
   "source": [
    "# Creating subsets which show words greater than certain frequencies\n",
    "word_freqs_100 = word_freqs[word_freqs['Frequency'] > 100]\n",
    "word_freqs_500 = word_freqs[word_freqs['Frequency'] > 500]"
   ]
  },
  {
   "cell_type": "code",
   "execution_count": 17,
   "id": "f5ac2fab",
   "metadata": {
    "execution": {
     "iopub.execute_input": "2023-03-02T10:05:23.539341Z",
     "iopub.status.busy": "2023-03-02T10:05:23.538594Z",
     "iopub.status.idle": "2023-03-02T10:05:24.996236Z",
     "shell.execute_reply": "2023-03-02T10:05:24.995132Z"
    },
    "papermill": {
     "duration": 1.470594,
     "end_time": "2023-03-02T10:05:24.998958",
     "exception": false,
     "start_time": "2023-03-02T10:05:23.528364",
     "status": "completed"
    },
    "tags": []
   },
   "outputs": [
    {
     "data": {
      "image/png": "[encoded data removed]",
      "text/plain": [
       "<Figure size 1000x300 with 3 Axes>"
      ]
     },
     "metadata": {},
     "output_type": "display_data"
    }
   ],
   "source": [
    "# Creating a figure to plot histograms for word frequency distributions\n",
    "fig = plt.figure(figsize=(10,3))\n",
    "\n",
    "# Word frequency distribution for all words\n",
    "plt.subplot(1,3,1)\n",
    "sns.histplot(word_freqs['Frequency'], bins = 150)\n",
    "plt.title('All words frequency')\n",
    "\n",
    "# Word frequency distribution for words with a frequency above 100\n",
    "plt.subplot(1,3,2)\n",
    "sns.histplot(word_freqs_100['Frequency'])\n",
    "plt.title('Word frequency > 100')\n",
    "plt.ylabel('')\n",
    "\n",
    "# Word frequency distribution for words with a frequency above 500\n",
    "plt.subplot(1,3,3)\n",
    "sns.histplot(word_freqs_500['Frequency'])\n",
    "plt.title('Word frequency > 500')\n",
    "plt.ylabel('')\n",
    "\n",
    "\n",
    "plt.show()"
   ]
  },
  {
   "cell_type": "markdown",
   "id": "12f0fd1d",
   "metadata": {
    "papermill": {
     "duration": 0.008752,
     "end_time": "2023-03-02T10:05:25.017116",
     "exception": false,
     "start_time": "2023-03-02T10:05:25.008364",
     "status": "completed"
    },
    "tags": []
   },
   "source": [
    "Here we can clearly see that the word frequencies have a heavily right skewed distribution. A small group of words have an extremely high frequency and the reset of the words have quite a low frequency."
   ]
  },
  {
   "cell_type": "markdown",
   "id": "66c11fe5",
   "metadata": {
    "papermill": {
     "duration": 0.009065,
     "end_time": "2023-03-02T10:05:25.035289",
     "exception": false,
     "start_time": "2023-03-02T10:05:25.026224",
     "status": "completed"
    },
    "tags": []
   },
   "source": [
    "## 3. Training the Word2Vec model\n",
    "\n",
    "Now that we have the corpus of text preprocessed and in the correct format we can train our Word2Vec model. First we will find bigrams and trigrams in the corpus and then train the model."
   ]
  },
  {
   "cell_type": "code",
   "execution_count": 18,
   "id": "301553a2",
   "metadata": {
    "execution": {
     "iopub.execute_input": "2023-03-02T10:05:25.055161Z",
     "iopub.status.busy": "2023-03-02T10:05:25.054751Z",
     "iopub.status.idle": "2023-03-02T10:05:26.318551Z",
     "shell.execute_reply": "2023-03-02T10:05:26.317422Z"
    },
    "papermill": {
     "duration": 1.277181,
     "end_time": "2023-03-02T10:05:26.321396",
     "exception": false,
     "start_time": "2023-03-02T10:05:25.044215",
     "status": "completed"
    },
    "tags": []
   },
   "outputs": [],
   "source": [
    "# Finding bigrams from the corpus\n",
    "bigrams = Phrases(sentences=sentences)"
   ]
  },
  {
   "cell_type": "code",
   "execution_count": 19,
   "id": "f954c82a",
   "metadata": {
    "execution": {
     "iopub.execute_input": "2023-03-02T10:05:26.342209Z",
     "iopub.status.busy": "2023-03-02T10:05:26.341798Z",
     "iopub.status.idle": "2023-03-02T10:05:29.645702Z",
     "shell.execute_reply": "2023-03-02T10:05:29.644528Z"
    },
    "papermill": {
     "duration": 3.317498,
     "end_time": "2023-03-02T10:05:29.648587",
     "exception": false,
     "start_time": "2023-03-02T10:05:26.331089",
     "status": "completed"
    },
    "tags": []
   },
   "outputs": [],
   "source": [
    "# Finding trigrams from the corpus\n",
    "trigrams = Phrases(sentences=bigrams[sentences])"
   ]
  },
  {
   "cell_type": "code",
   "execution_count": 20,
   "id": "1091a6e5",
   "metadata": {
    "execution": {
     "iopub.execute_input": "2023-03-02T10:05:29.669602Z",
     "iopub.status.busy": "2023-03-02T10:05:29.669080Z",
     "iopub.status.idle": "2023-03-02T10:05:59.056880Z",
     "shell.execute_reply": "2023-03-02T10:05:59.054485Z"
    },
    "papermill": {
     "duration": 29.401153,
     "end_time": "2023-03-02T10:05:59.059348",
     "exception": false,
     "start_time": "2023-03-02T10:05:29.658195",
     "status": "completed"
    },
    "tags": []
   },
   "outputs": [
    {
     "name": "stdout",
     "output_type": "stream",
     "text": [
      "True\n"
     ]
    },
    {
     "name": "stderr",
     "output_type": "stream",
     "text": [
      "/opt/conda/lib/python3.7/site-packages/ipykernel_launcher.py:25: DeprecationWarning: Call to deprecated `init_sims` (Gensim 4.0.0 implemented internal optimizations that make calls to init_sims() unnecessary. init_sims() is now obsoleted and will be completely removed in future versions. See https://github.com/RaRe-Technologies/gensim/wiki/Migrating-from-Gensim-3.x-to-4).\n"
     ]
    }
   ],
   "source": [
    "# This is so we can see how the training is going\n",
    "import logging\n",
    "logging.basicConfig(format='%(asctime)s : %(levelname)s : %(message)s', level=logging.INFO)\n",
    "print(logging.getLogger().isEnabledFor(logging.INFO))\n",
    "\n",
    "# Defining the model parameters\n",
    "num_features = 300    # Word vector dimensionality                      \n",
    "min_word_count = 5   # Minimum word count                        \n",
    "num_workers = 4       # Number of threads to run in parallel\n",
    "context = 20          # Context window size                                                                                    \n",
    "downsampling = 1e-3   # Downsample setting for frequent words\n",
    "\n",
    "\n",
    "# Calling the model\n",
    "model = word2vec.Word2Vec(\n",
    "    sentences=trigrams[bigrams[sentences]], \n",
    "    workers=num_workers,\n",
    "    vector_size=num_features, \n",
    "    min_count=min_word_count,\n",
    "    window=context,\n",
    "    sample=downsampling,\n",
    ")\n",
    "\n",
    "# Makes the model more memory efficient\n",
    "model.init_sims(replace=True)\n",
    "\n",
    "# Saving the model\n",
    "model_name = \"wcr_trigrams_300features_5minwords_20context.bin\" # 'wcr' stands for womens clothes reviews\n",
    "model.wv.save_word2vec_format(model_name, binary=True)"
   ]
  },
  {
   "cell_type": "markdown",
   "id": "9f6e88a7",
   "metadata": {
    "papermill": {
     "duration": 0.009495,
     "end_time": "2023-03-02T10:05:59.078921",
     "exception": false,
     "start_time": "2023-03-02T10:05:59.069426",
     "status": "completed"
    },
    "tags": []
   },
   "source": [
    "## 4. Exploring the Word2Vec Model"
   ]
  },
  {
   "cell_type": "code",
   "execution_count": 21,
   "id": "7d0a5ecd",
   "metadata": {
    "execution": {
     "iopub.execute_input": "2023-03-02T10:05:59.099716Z",
     "iopub.status.busy": "2023-03-02T10:05:59.099242Z",
     "iopub.status.idle": "2023-03-02T10:05:59.105124Z",
     "shell.execute_reply": "2023-03-02T10:05:59.104325Z"
    },
    "papermill": {
     "duration": 0.018962,
     "end_time": "2023-03-02T10:05:59.107384",
     "exception": false,
     "start_time": "2023-03-02T10:05:59.088422",
     "status": "completed"
    },
    "tags": []
   },
   "outputs": [
    {
     "name": "stdout",
     "output_type": "stream",
     "text": [
      "Vocabulary size: 5291\n"
     ]
    }
   ],
   "source": [
    "# Get the vocabulary size\n",
    "vocab_size = len(model.wv.key_to_index)\n",
    "print(\"Vocabulary size:\", vocab_size)"
   ]
  },
  {
   "cell_type": "code",
   "execution_count": 22,
   "id": "902e0d19",
   "metadata": {
    "execution": {
     "iopub.execute_input": "2023-03-02T10:05:59.128222Z",
     "iopub.status.busy": "2023-03-02T10:05:59.127554Z",
     "iopub.status.idle": "2023-03-02T10:05:59.141931Z",
     "shell.execute_reply": "2023-03-02T10:05:59.139846Z"
    },
    "papermill": {
     "duration": 0.029727,
     "end_time": "2023-03-02T10:05:59.146343",
     "exception": false,
     "start_time": "2023-03-02T10:05:59.116616",
     "status": "completed"
    },
    "tags": []
   },
   "outputs": [
    {
     "data": {
      "text/plain": [
       "[('purple', 0.982776403427124),\n",
       " ('green', 0.9761893153190613),\n",
       " ('orange', 0.9716302156448364),\n",
       " ('gray', 0.9687690734863281),\n",
       " ('red', 0.9669089913368225),\n",
       " ('peach', 0.9661256670951843),\n",
       " ('pink', 0.9620094299316406),\n",
       " ('blue', 0.9609580039978027),\n",
       " ('shade', 0.9602628350257874),\n",
       " ('coral', 0.9574291706085205)]"
      ]
     },
     "execution_count": 22,
     "metadata": {},
     "output_type": "execute_result"
    }
   ],
   "source": [
    "model.wv.most_similar('yellow')"
   ]
  },
  {
   "cell_type": "code",
   "execution_count": 23,
   "id": "82b301e8",
   "metadata": {
    "execution": {
     "iopub.execute_input": "2023-03-02T10:05:59.197896Z",
     "iopub.status.busy": "2023-03-02T10:05:59.197146Z",
     "iopub.status.idle": "2023-03-02T10:05:59.211574Z",
     "shell.execute_reply": "2023-03-02T10:05:59.209978Z"
    },
    "papermill": {
     "duration": 0.044866,
     "end_time": "2023-03-02T10:05:59.215683",
     "exception": false,
     "start_time": "2023-03-02T10:05:59.170817",
     "status": "completed"
    },
    "tags": []
   },
   "outputs": [
    {
     "data": {
      "text/plain": [
       "[('large', 0.9557020664215088),\n",
       " ('l', 0.9044143557548523),\n",
       " ('normal_size', 0.8949816226959229),\n",
       " ('larger', 0.8788132667541504),\n",
       " ('ft_inch_lbs', 0.8786118626594543),\n",
       " ('normal', 0.8722407817840576),\n",
       " ('sometimes', 0.8645698428153992),\n",
       " ('snug', 0.8635272979736328),\n",
       " ('usual_size', 0.8630632162094116),\n",
       " ('big', 0.8612691164016724)]"
      ]
     },
     "execution_count": 23,
     "metadata": {},
     "output_type": "execute_result"
    }
   ],
   "source": [
    "model.wv.most_similar('small')"
   ]
  },
  {
   "cell_type": "code",
   "execution_count": 24,
   "id": "4a742095",
   "metadata": {
    "execution": {
     "iopub.execute_input": "2023-03-02T10:05:59.268643Z",
     "iopub.status.busy": "2023-03-02T10:05:59.267895Z",
     "iopub.status.idle": "2023-03-02T10:05:59.281829Z",
     "shell.execute_reply": "2023-03-02T10:05:59.280256Z"
    },
    "papermill": {
     "duration": 0.045769,
     "end_time": "2023-03-02T10:05:59.285821",
     "exception": false,
     "start_time": "2023-03-02T10:05:59.240052",
     "status": "completed"
    },
    "tags": []
   },
   "outputs": [
    {
     "data": {
      "text/plain": [
       "[('adorable', 0.7121343016624451),\n",
       " ('fantastic', 0.6848126649856567),\n",
       " ('amaze', 0.6844492554664612),\n",
       " ('awesome', 0.6833465695381165),\n",
       " ('similar', 0.6385232210159302),\n",
       " ('different', 0.6361136436462402),\n",
       " ('fabulous', 0.6262713670730591),\n",
       " ('notch', 0.6209169030189514),\n",
       " ('cute', 0.6113894581794739),\n",
       " ('absolutely_gorgeous', 0.6103411912918091)]"
      ]
     },
     "execution_count": 24,
     "metadata": {},
     "output_type": "execute_result"
    }
   ],
   "source": [
    "model.wv.most_similar('love')"
   ]
  },
  {
   "cell_type": "markdown",
   "id": "904d9822",
   "metadata": {
    "papermill": {
     "duration": 0.024032,
     "end_time": "2023-03-02T10:05:59.334731",
     "exception": false,
     "start_time": "2023-03-02T10:05:59.310699",
     "status": "completed"
    },
    "tags": []
   },
   "source": [
    "The model appears to have done reasonably well at picking up some word similarities."
   ]
  },
  {
   "cell_type": "markdown",
   "id": "58277747",
   "metadata": {
    "papermill": {
     "duration": 0.02412,
     "end_time": "2023-03-02T10:05:59.384304",
     "exception": false,
     "start_time": "2023-03-02T10:05:59.360184",
     "status": "completed"
    },
    "tags": []
   },
   "source": [
    "# Possible Extensions\n",
    "\n",
    "To improve the accuracy and increase the vocabulary of the model, **more text data could be used**. The text data should be similar to the corpus of text we have so that the model can train on similar words and sees the words in similar contexts.\n",
    "    "
   ]
  },
  {
   "cell_type": "code",
   "execution_count": null,
   "id": "8e8abb5f",
   "metadata": {
    "papermill": {
     "duration": 0.009525,
     "end_time": "2023-03-02T10:05:59.409547",
     "exception": false,
     "start_time": "2023-03-02T10:05:59.400022",
     "status": "completed"
    },
    "tags": []
   },
   "outputs": [],
   "source": []
  }
 ],
 "metadata": {
  "kernelspec": {
   "display_name": "Python 3",
   "language": "python",
   "name": "python3"
  },
  "language_info": {
   "codemirror_mode": {
    "name": "ipython",
    "version": 3
   },
   "file_extension": ".py",
   "mimetype": "text/x-python",
   "name": "python",
   "nbconvert_exporter": "python",
   "pygments_lexer": "ipython3",
   "version": "3.7.12"
  },
  "papermill": {
   "default_parameters": {},
   "duration": 146.028482,
   "end_time": "2023-03-02T10:06:01.145610",
   "environment_variables": {},
   "exception": null,
   "input_path": "__notebook__.ipynb",
   "output_path": "__notebook__.ipynb",
   "parameters": {},
   "start_time": "2023-03-02T10:03:35.117128",
   "version": "2.3.4"
  }
 },
 "nbformat": 4,
 "nbformat_minor": 5
}
