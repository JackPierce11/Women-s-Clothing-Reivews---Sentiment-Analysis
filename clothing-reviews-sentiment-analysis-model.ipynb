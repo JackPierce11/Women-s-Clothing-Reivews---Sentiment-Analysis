{
 "cells": [
  {
   "cell_type": "code",
   "execution_count": 1,
   "id": "60c66485",
   "metadata": {
    "_cell_guid": "b1076dfc-b9ad-4769-8c92-a6c4dae69d19",
    "_uuid": "8f2839f25d086af736a60e9eeb907d3b93b6e0e5",
    "execution": {
     "iopub.execute_input": "2023-03-06T09:14:24.622577Z",
     "iopub.status.busy": "2023-03-06T09:14:24.621839Z",
     "iopub.status.idle": "2023-03-06T09:14:24.657921Z",
     "shell.execute_reply": "2023-03-06T09:14:24.656239Z"
    },
    "papermill": {
     "duration": 0.059323,
     "end_time": "2023-03-06T09:14:24.661667",
     "exception": false,
     "start_time": "2023-03-06T09:14:24.602344",
     "status": "completed"
    },
    "tags": []
   },
   "outputs": [
    {
     "name": "stdout",
     "output_type": "stream",
     "text": [
      "/kaggle/input/womens-ecommerce-clothing-reviews/Womens Clothing E-Commerce Reviews.csv\n",
      "/kaggle/input/wcr-preprocessed/wcr_preprocessed.csv\n",
      "/kaggle/input/wcr-w2v-model/wcr_trigrams_300features_5minwords_20context (2).bin\n",
      "/kaggle/input/lstm-model-sa/LSTM_model_30epochs.h5\n"
     ]
    }
   ],
   "source": [
    "# This Python 3 environment comes with many helpful analytics libraries installed\n",
    "# It is defined by the kaggle/python Docker image: https://github.com/kaggle/docker-python\n",
    "# For example, here's several helpful packages to load\n",
    "\n",
    "import numpy as np # linear algebra\n",
    "import pandas as pd # data processing, CSV file I/O (e.g. pd.read_csv)\n",
    "\n",
    "# Input data files are available in the read-only \"../input/\" directory\n",
    "# For example, running this (by clicking run or pressing Shift+Enter) will list all files under the input directory\n",
    "\n",
    "import os\n",
    "for dirname, _, filenames in os.walk('/kaggle/input'):\n",
    "    for filename in filenames:\n",
    "        print(os.path.join(dirname, filename))\n",
    "\n",
    "# You can write up to 20GB to the current directory (/kaggle/working/) that gets preserved as output when you create a version using \"Save & Run All\" \n",
    "# You can also write temporary files to /kaggle/temp/, but they won't be saved outside of the current session"
   ]
  },
  {
   "cell_type": "markdown",
   "id": "d303e790",
   "metadata": {
    "papermill": {
     "duration": 0.009438,
     "end_time": "2023-03-06T09:14:24.680844",
     "exception": false,
     "start_time": "2023-03-06T09:14:24.671406",
     "status": "completed"
    },
    "tags": []
   },
   "source": [
    "# Women's Clothing Reviews - Sentiment Analysis: Model Building\n",
    "\n",
    "## Overall Project Goal\n",
    "In this project I want to understand this dataset on women's clothing reviews, create a Word2Vec model based off of the review texts in the data set and then use this Word2Vec model to build a sentiment analysis model on the dataset which attempts to predict whether the customer left a 5-star review or not.\n",
    "\n",
    "### Project Notebooks\n",
    "This notebook is part of a series of 3 notebooks on performing sentiment analysis on a dataset of women's clothing reviews.\n",
    "1. Women's Clothing Reviews - Sentiment Analysis: EDA **{ADD LINKS}**\n",
    "2. Women's Clothing Reviews - Sentiment Analysis: Building Word2Vec Model\n",
    "3. **Women's Clothing Reviews - Sentiment Analysis: Building a Sentiment Analysis Model**\n",
    "\n",
    "\n",
    "## Goal of this notebook: Building Word2Vec Model\n",
    "In this notebook I want to: vectorise the data, split it into test, train and validation sets and build our sentiment analysis model using an LSTM architecture to attempt to classify whether a customer left a 5-star review or not, using their review text."
   ]
  },
  {
   "cell_type": "markdown",
   "id": "c3f6fa6d",
   "metadata": {
    "papermill": {
     "duration": 0.008533,
     "end_time": "2023-03-06T09:14:24.698149",
     "exception": false,
     "start_time": "2023-03-06T09:14:24.689616",
     "status": "completed"
    },
    "tags": []
   },
   "source": [
    "## 1. Loading Libraries and Data"
   ]
  },
  {
   "cell_type": "code",
   "execution_count": 2,
   "id": "8336893d",
   "metadata": {
    "execution": {
     "iopub.execute_input": "2023-03-06T09:14:24.719718Z",
     "iopub.status.busy": "2023-03-06T09:14:24.718840Z",
     "iopub.status.idle": "2023-03-06T09:14:35.557772Z",
     "shell.execute_reply": "2023-03-06T09:14:35.556348Z"
    },
    "papermill": {
     "duration": 10.853289,
     "end_time": "2023-03-06T09:14:35.561140",
     "exception": false,
     "start_time": "2023-03-06T09:14:24.707851",
     "status": "completed"
    },
    "tags": []
   },
   "outputs": [],
   "source": [
    "# Data manipulation tools\n",
    "import numpy as np\n",
    "import pandas as pd\n",
    "\n",
    "# Data visualisation tools\n",
    "import matplotlib.pyplot as plt\n",
    "%matplotlib inline\n",
    "import seaborn as sns\n",
    "\n",
    "# Tools for building a LSTM model\n",
    "from sklearn.model_selection import train_test_split\n",
    "from keras.models import Sequential\n",
    "from keras.layers import Dense, LSTM, Dropout, Bidirectional\n",
    "from tensorflow.keras.layers import Embedding\n",
    "from tensorflow.keras.preprocessing.sequence import pad_sequences\n",
    "from keras.callbacks import EarlyStopping\n",
    "import tensorflow as tf\n",
    "from sklearn.model_selection import train_test_split\n",
    "\n",
    "# Tool to load pretrained models\n",
    "from keras.models import load_model\n",
    "\n",
    "# Evaluating model performance\n",
    "from sklearn.metrics import accuracy_score\n",
    "from sklearn.metrics import confusion_matrix\n",
    "from sklearn.metrics import precision_score, recall_score, f1_score\n",
    "\n",
    "# To load the pretrained word2vec model\n",
    "from gensim.models import Word2Vec, Phrases\n",
    "from gensim.models import KeyedVectors\n",
    "\n"
   ]
  },
  {
   "cell_type": "code",
   "execution_count": 3,
   "id": "6b88f5a5",
   "metadata": {
    "execution": {
     "iopub.execute_input": "2023-03-06T09:14:35.583075Z",
     "iopub.status.busy": "2023-03-06T09:14:35.581501Z",
     "iopub.status.idle": "2023-03-06T09:14:35.914587Z",
     "shell.execute_reply": "2023-03-06T09:14:35.913318Z"
    },
    "papermill": {
     "duration": 0.347456,
     "end_time": "2023-03-06T09:14:35.917897",
     "exception": false,
     "start_time": "2023-03-06T09:14:35.570441",
     "status": "completed"
    },
    "tags": []
   },
   "outputs": [],
   "source": [
    "# Loading the cleaned and preprocessed dataset\n",
    "data = pd.read_csv('/kaggle/input/wcr-preprocessed/wcr_preprocessed.csv', usecols=['Five Star', 'Total Text', 'Rating'])"
   ]
  },
  {
   "cell_type": "code",
   "execution_count": 4,
   "id": "ada42624",
   "metadata": {
    "execution": {
     "iopub.execute_input": "2023-03-06T09:14:35.939744Z",
     "iopub.status.busy": "2023-03-06T09:14:35.938956Z",
     "iopub.status.idle": "2023-03-06T09:14:35.969336Z",
     "shell.execute_reply": "2023-03-06T09:14:35.967696Z"
    },
    "papermill": {
     "duration": 0.044906,
     "end_time": "2023-03-06T09:14:35.972312",
     "exception": false,
     "start_time": "2023-03-06T09:14:35.927406",
     "status": "completed"
    },
    "tags": []
   },
   "outputs": [
    {
     "data": {
      "text/html": [
       "<div>\n",
       "<style scoped>\n",
       "    .dataframe tbody tr th:only-of-type {\n",
       "        vertical-align: middle;\n",
       "    }\n",
       "\n",
       "    .dataframe tbody tr th {\n",
       "        vertical-align: top;\n",
       "    }\n",
       "\n",
       "    .dataframe thead th {\n",
       "        text-align: right;\n",
       "    }\n",
       "</style>\n",
       "<table border=\"1\" class=\"dataframe\">\n",
       "  <thead>\n",
       "    <tr style=\"text-align: right;\">\n",
       "      <th></th>\n",
       "      <th>Five Star</th>\n",
       "      <th>Rating</th>\n",
       "      <th>Total Text</th>\n",
       "    </tr>\n",
       "  </thead>\n",
       "  <tbody>\n",
       "    <tr>\n",
       "      <th>0</th>\n",
       "      <td>0</td>\n",
       "      <td>4</td>\n",
       "      <td>['absolutely', 'wonderful', 'silky', 'sexy', '...</td>\n",
       "    </tr>\n",
       "    <tr>\n",
       "      <th>1</th>\n",
       "      <td>1</td>\n",
       "      <td>5</td>\n",
       "      <td>['love', 'dress', 'sooo', 'pretty', 'happen', ...</td>\n",
       "    </tr>\n",
       "    <tr>\n",
       "      <th>2</th>\n",
       "      <td>0</td>\n",
       "      <td>3</td>\n",
       "      <td>['major', 'design_flaw', 'high_hop', 'dress', ...</td>\n",
       "    </tr>\n",
       "    <tr>\n",
       "      <th>3</th>\n",
       "      <td>1</td>\n",
       "      <td>5</td>\n",
       "      <td>['favorite', 'buy', 'love', 'love', 'love', 'j...</td>\n",
       "    </tr>\n",
       "    <tr>\n",
       "      <th>4</th>\n",
       "      <td>1</td>\n",
       "      <td>5</td>\n",
       "      <td>['flatter', 'shirt', 'shirt', 'flatter', 'due'...</td>\n",
       "    </tr>\n",
       "  </tbody>\n",
       "</table>\n",
       "</div>"
      ],
      "text/plain": [
       "   Five Star  Rating                                         Total Text\n",
       "0          0       4  ['absolutely', 'wonderful', 'silky', 'sexy', '...\n",
       "1          1       5  ['love', 'dress', 'sooo', 'pretty', 'happen', ...\n",
       "2          0       3  ['major', 'design_flaw', 'high_hop', 'dress', ...\n",
       "3          1       5  ['favorite', 'buy', 'love', 'love', 'love', 'j...\n",
       "4          1       5  ['flatter', 'shirt', 'shirt', 'flatter', 'due'..."
      ]
     },
     "execution_count": 4,
     "metadata": {},
     "output_type": "execute_result"
    }
   ],
   "source": [
    "# Looking at the first 5 rows of the data\n",
    "data.head()"
   ]
  },
  {
   "cell_type": "markdown",
   "id": "514263a7",
   "metadata": {
    "papermill": {
     "duration": 0.008819,
     "end_time": "2023-03-06T09:14:35.991018",
     "exception": false,
     "start_time": "2023-03-06T09:14:35.982199",
     "status": "completed"
    },
    "tags": []
   },
   "source": [
    "Now we are left with a dataframe that only contains two columns. The `Five Star` column, which is the target variable and the `Total Text` column, which is a concatenation of the title and the main text of the review. The `Total Text` column has also been preprocessed: it has had html removed, non letters removed, been made lowercase, stopwords removed and lemmatized. It has then be formatted to be a list of lists.\n",
    "\n",
    "## 2. Vectorising Data"
   ]
  },
  {
   "cell_type": "code",
   "execution_count": 5,
   "id": "e32fbd95",
   "metadata": {
    "execution": {
     "iopub.execute_input": "2023-03-06T09:14:36.012939Z",
     "iopub.status.busy": "2023-03-06T09:14:36.012413Z",
     "iopub.status.idle": "2023-03-06T09:14:36.064966Z",
     "shell.execute_reply": "2023-03-06T09:14:36.063430Z"
    },
    "papermill": {
     "duration": 0.066676,
     "end_time": "2023-03-06T09:14:36.068103",
     "exception": false,
     "start_time": "2023-03-06T09:14:36.001427",
     "status": "completed"
    },
    "tags": []
   },
   "outputs": [
    {
     "name": "stdout",
     "output_type": "stream",
     "text": [
      "The longest text used in the model has a length 60\n"
     ]
    }
   ],
   "source": [
    "# Finding the longest review to use number in padding later\n",
    "longest_review = max([len(review.split()) for review in data['Total Text']])\n",
    "print(f'The longest text used in the model has a length {longest_review}')"
   ]
  },
  {
   "cell_type": "code",
   "execution_count": 6,
   "id": "09fd09e5",
   "metadata": {
    "execution": {
     "iopub.execute_input": "2023-03-06T09:14:36.089219Z",
     "iopub.status.busy": "2023-03-06T09:14:36.088673Z",
     "iopub.status.idle": "2023-03-06T09:14:36.295493Z",
     "shell.execute_reply": "2023-03-06T09:14:36.294214Z"
    },
    "papermill": {
     "duration": 0.221324,
     "end_time": "2023-03-06T09:14:36.298910",
     "exception": false,
     "start_time": "2023-03-06T09:14:36.077586",
     "status": "completed"
    },
    "tags": []
   },
   "outputs": [],
   "source": [
    "# Loading the pretrained Word2Vec language model\n",
    "w2v_model = KeyedVectors.load_word2vec_format('/kaggle/input/wcr-w2v-model/wcr_trigrams_300features_5minwords_20context (2).bin', binary=True)"
   ]
  },
  {
   "cell_type": "code",
   "execution_count": 7,
   "id": "3cdce795",
   "metadata": {
    "execution": {
     "iopub.execute_input": "2023-03-06T09:14:36.320274Z",
     "iopub.status.busy": "2023-03-06T09:14:36.319744Z",
     "iopub.status.idle": "2023-03-06T09:20:52.847161Z",
     "shell.execute_reply": "2023-03-06T09:20:52.845600Z"
    },
    "papermill": {
     "duration": 376.550897,
     "end_time": "2023-03-06T09:20:52.859487",
     "exception": false,
     "start_time": "2023-03-06T09:14:36.308590",
     "status": "completed"
    },
    "tags": []
   },
   "outputs": [
    {
     "name": "stdout",
     "output_type": "stream",
     "text": [
      "Vectorizing sentences...\n",
      "Vectorizing sentences... Done\n",
      "Transform sentences to sequences... (done)\n",
      "CPU times: user 6min 16s, sys: 303 ms, total: 6min 16s\n",
      "Wall time: 6min 16s\n"
     ]
    }
   ],
   "source": [
    "%%time\n",
    "def vectorize_data(X_data, vocab):\n",
    "    \n",
    "    # This function takes in text data in the format of a review being broken down into a list \n",
    "    # of tokens, and a our vocab dictionary from the word2vec model we previously trained. It\n",
    "    # outputs the reviews broken down into a list indexes which refer to the vectors trained by the w2v model\n",
    "    \n",
    "    \n",
    "    print('Vectorizing sentences...')\n",
    "    \n",
    "    # Get the keys from the vocab dictionary\n",
    "    keys = list(vocab.keys())\n",
    "    \n",
    "    # Define a function to check if a word is in the vocab\n",
    "    def is_known(word):\n",
    "        return word in keys\n",
    "    \n",
    "    # Define a function to encode a review by mapping each word to its index in the vocab\n",
    "    def encode_review(review):\n",
    "        return [keys.index(word) for word in review if is_known(word)]\n",
    "    \n",
    "    # Vectorize each review in the data using the encode_review function\n",
    "    vectorized_data = [encode_review(review) for review in X_data]\n",
    "    \n",
    "    print('Vectorizing sentences... Done')\n",
    "    return vectorized_data\n",
    "\n",
    "\n",
    "# This is padding the reviews so that they all have the same length\n",
    "input_length = longest_review\n",
    "X_pad = pad_sequences(\n",
    "    sequences=vectorize_data(data['Total Text'], vocab=w2v_model.key_to_index),\n",
    "    maxlen=input_length,\n",
    "    padding='post')\n",
    "print('Transform sentences to sequences... (done)')"
   ]
  },
  {
   "cell_type": "markdown",
   "id": "773976b0",
   "metadata": {
    "papermill": {
     "duration": 0.009213,
     "end_time": "2023-03-06T09:20:52.878520",
     "exception": false,
     "start_time": "2023-03-06T09:20:52.869307",
     "status": "completed"
    },
    "tags": []
   },
   "source": [
    "## 3. Splitting Data into Train, Test and Validation Sets"
   ]
  },
  {
   "cell_type": "code",
   "execution_count": 8,
   "id": "198fdf34",
   "metadata": {
    "execution": {
     "iopub.execute_input": "2023-03-06T09:20:52.899443Z",
     "iopub.status.busy": "2023-03-06T09:20:52.898941Z",
     "iopub.status.idle": "2023-03-06T09:20:52.905513Z",
     "shell.execute_reply": "2023-03-06T09:20:52.903925Z"
    },
    "papermill": {
     "duration": 0.020694,
     "end_time": "2023-03-06T09:20:52.908351",
     "exception": false,
     "start_time": "2023-03-06T09:20:52.887657",
     "status": "completed"
    },
    "tags": []
   },
   "outputs": [],
   "source": [
    "# Splitting the target variable and the text\n",
    "X_data = X_pad\n",
    "y_data = data['Five Star']"
   ]
  },
  {
   "cell_type": "code",
   "execution_count": 9,
   "id": "4115f2cb",
   "metadata": {
    "execution": {
     "iopub.execute_input": "2023-03-06T09:20:52.929699Z",
     "iopub.status.busy": "2023-03-06T09:20:52.929207Z",
     "iopub.status.idle": "2023-03-06T09:20:52.948141Z",
     "shell.execute_reply": "2023-03-06T09:20:52.946209Z"
    },
    "papermill": {
     "duration": 0.032897,
     "end_time": "2023-03-06T09:20:52.950837",
     "exception": false,
     "start_time": "2023-03-06T09:20:52.917940",
     "status": "completed"
    },
    "tags": []
   },
   "outputs": [
    {
     "name": "stdout",
     "output_type": "stream",
     "text": [
      "Training set length:  15848\n",
      "Validation set length:  3397\n",
      "Test set length:  3396\n"
     ]
    }
   ],
   "source": [
    "# Split data into train and test sets (70% for training and 30% for testing)\n",
    "X_train, X_test, y_train, y_test = train_test_split(X_data, y_data, test_size=0.3, random_state=42)\n",
    "\n",
    "# Split the test set into test and validation sets (50% each)\n",
    "X_test, X_val, y_test, y_val = train_test_split(X_test, y_test, test_size=0.5, random_state=42)\n",
    "\n",
    "print(\"Training set length: \", len(X_train))\n",
    "print(\"Validation set length: \", len(X_val))\n",
    "print(\"Test set length: \", len(X_test))"
   ]
  },
  {
   "cell_type": "markdown",
   "id": "814f04d4",
   "metadata": {
    "papermill": {
     "duration": 0.009329,
     "end_time": "2023-03-06T09:20:52.969892",
     "exception": false,
     "start_time": "2023-03-06T09:20:52.960563",
     "status": "completed"
    },
    "tags": []
   },
   "source": [
    "## 4. Building LSTM Sentiment Analysis Model\n",
    "\n",
    "### 4.1"
   ]
  },
  {
   "cell_type": "code",
   "execution_count": 10,
   "id": "f5405c15",
   "metadata": {
    "execution": {
     "iopub.execute_input": "2023-03-06T09:20:52.990898Z",
     "iopub.status.busy": "2023-03-06T09:20:52.990371Z",
     "iopub.status.idle": "2023-03-06T09:31:05.011552Z",
     "shell.execute_reply": "2023-03-06T09:31:05.010261Z"
    },
    "papermill": {
     "duration": 612.035877,
     "end_time": "2023-03-06T09:31:05.015018",
     "exception": false,
     "start_time": "2023-03-06T09:20:52.979141",
     "status": "completed"
    },
    "tags": []
   },
   "outputs": [
    {
     "name": "stdout",
     "output_type": "stream",
     "text": [
      "Model: \"sequential\"\n",
      "_________________________________________________________________\n",
      " Layer (type)                Output Shape              Param #   \n",
      "=================================================================\n",
      " embedding (Embedding)       (None, 60, 300)           1587300   \n",
      "                                                                 \n",
      " lstm (LSTM)                 (None, 128)               219648    \n",
      "                                                                 \n",
      " dense (Dense)               (None, 1)                 129       \n",
      "                                                                 \n",
      "=================================================================\n",
      "Total params: 1,807,077\n",
      "Trainable params: 219,777\n",
      "Non-trainable params: 1,587,300\n",
      "_________________________________________________________________\n",
      "Epoch 1/30\n",
      "159/159 [==============================] - 28s 159ms/step - loss: 0.6864 - accuracy: 0.5525 - val_loss: 0.6867 - val_accuracy: 0.5349\n",
      "Epoch 2/30\n",
      "159/159 [==============================] - 25s 159ms/step - loss: 0.6840 - accuracy: 0.5654 - val_loss: 0.6848 - val_accuracy: 0.5646\n",
      "Epoch 3/30\n",
      "159/159 [==============================] - 25s 156ms/step - loss: 0.6825 - accuracy: 0.5697 - val_loss: 0.6861 - val_accuracy: 0.5508\n",
      "Epoch 4/30\n",
      "159/159 [==============================] - 25s 160ms/step - loss: 0.6810 - accuracy: 0.5745 - val_loss: 0.6845 - val_accuracy: 0.5679\n",
      "Epoch 5/30\n",
      "159/159 [==============================] - 25s 158ms/step - loss: 0.6782 - accuracy: 0.5788 - val_loss: 0.6835 - val_accuracy: 0.5664\n",
      "Epoch 6/30\n",
      "159/159 [==============================] - 25s 159ms/step - loss: 0.6760 - accuracy: 0.5804 - val_loss: 0.6808 - val_accuracy: 0.5649\n",
      "Epoch 7/30\n",
      "159/159 [==============================] - 25s 157ms/step - loss: 0.6727 - accuracy: 0.5861 - val_loss: 0.6774 - val_accuracy: 0.5676\n",
      "Epoch 8/30\n",
      "159/159 [==============================] - 25s 160ms/step - loss: 0.6701 - accuracy: 0.5856 - val_loss: 0.6751 - val_accuracy: 0.5602\n",
      "Epoch 9/30\n",
      "159/159 [==============================] - 26s 162ms/step - loss: 0.6627 - accuracy: 0.5933 - val_loss: 0.6791 - val_accuracy: 0.5649\n",
      "Epoch 10/30\n",
      "159/159 [==============================] - 25s 159ms/step - loss: 0.6563 - accuracy: 0.5998 - val_loss: 0.6575 - val_accuracy: 0.5943\n",
      "Epoch 11/30\n",
      "159/159 [==============================] - 26s 163ms/step - loss: 0.6401 - accuracy: 0.6205 - val_loss: 0.6396 - val_accuracy: 0.6300\n",
      "Epoch 12/30\n",
      "159/159 [==============================] - 25s 160ms/step - loss: 0.6183 - accuracy: 0.6512 - val_loss: 0.6184 - val_accuracy: 0.6426\n",
      "Epoch 13/30\n",
      "159/159 [==============================] - 25s 160ms/step - loss: 0.6016 - accuracy: 0.6655 - val_loss: 0.6037 - val_accuracy: 0.6653\n",
      "Epoch 14/30\n",
      "159/159 [==============================] - 26s 162ms/step - loss: 0.5845 - accuracy: 0.6803 - val_loss: 0.5963 - val_accuracy: 0.6771\n",
      "Epoch 15/30\n",
      "159/159 [==============================] - 25s 160ms/step - loss: 0.5751 - accuracy: 0.6895 - val_loss: 0.5908 - val_accuracy: 0.6771\n",
      "Epoch 16/30\n",
      "159/159 [==============================] - 25s 157ms/step - loss: 0.5668 - accuracy: 0.6978 - val_loss: 0.5900 - val_accuracy: 0.6812\n",
      "Epoch 17/30\n",
      "159/159 [==============================] - 25s 158ms/step - loss: 0.5590 - accuracy: 0.7040 - val_loss: 0.5877 - val_accuracy: 0.6830\n",
      "Epoch 18/30\n",
      "159/159 [==============================] - 26s 162ms/step - loss: 0.5517 - accuracy: 0.7094 - val_loss: 0.5911 - val_accuracy: 0.6797\n",
      "Epoch 19/30\n",
      "159/159 [==============================] - 25s 160ms/step - loss: 0.5407 - accuracy: 0.7182 - val_loss: 0.5841 - val_accuracy: 0.6956\n",
      "Epoch 20/30\n",
      "159/159 [==============================] - 25s 157ms/step - loss: 0.5304 - accuracy: 0.7290 - val_loss: 0.5898 - val_accuracy: 0.6947\n",
      "Epoch 21/30\n",
      "159/159 [==============================] - 26s 163ms/step - loss: 0.5199 - accuracy: 0.7361 - val_loss: 0.5924 - val_accuracy: 0.6874\n",
      "Epoch 22/30\n",
      "159/159 [==============================] - 25s 159ms/step - loss: 0.5068 - accuracy: 0.7446 - val_loss: 0.5974 - val_accuracy: 0.6850\n",
      "Epoch 23/30\n",
      "159/159 [==============================] - 25s 157ms/step - loss: 0.4983 - accuracy: 0.7535 - val_loss: 0.6057 - val_accuracy: 0.6753\n",
      "Epoch 24/30\n",
      "159/159 [==============================] - 25s 158ms/step - loss: 0.4825 - accuracy: 0.7609 - val_loss: 0.6101 - val_accuracy: 0.6859\n"
     ]
    }
   ],
   "source": [
    "# Set up the model\n",
    "model_simple = Sequential()\n",
    "\n",
    "# Add an embedding layer to convert integer inputs to dense vectors\n",
    "model_simple.add(Embedding(\n",
    "        input_dim = w2v_model.vectors.shape[0],\n",
    "        output_dim = w2v_model.vectors.shape[1], \n",
    "        input_length = input_length,\n",
    "        weights = [w2v_model.vectors],\n",
    "        trainable=False))\n",
    "\n",
    "# Add a single LSTM layer with 128 units\n",
    "model_simple.add(LSTM(units=128))\n",
    "\n",
    "# Add a dense output layer with sigmoid activation for binary classification\n",
    "model_simple.add(Dense(units=1, activation='sigmoid'))\n",
    "\n",
    "# Compile the model\n",
    "model_simple.compile(optimizer='adam', loss='binary_crossentropy', metrics=['accuracy'])\n",
    "\n",
    "# Print a summary of the model\n",
    "model_simple.summary()\n",
    "\n",
    "# Compile the model\n",
    "model_simple.compile(\n",
    "    loss=\"binary_crossentropy\",\n",
    "    optimizer='adam',\n",
    "    metrics=['accuracy'])\n",
    "\n",
    "# Add early stop to stop training if val loss stops changing\n",
    "early_stop = EarlyStopping(monitor='val_loss', patience=5)\n",
    "\n",
    "# Fit the model to the data\n",
    "history_simple = model_simple.fit(\n",
    "    x=X_train,\n",
    "    y=y_train,\n",
    "    validation_data=(X_val, y_val),\n",
    "    batch_size=100,\n",
    "    epochs=30, \n",
    "    callbacks=[early_stop])\n",
    "\n",
    "# Saving the trainined model\n",
    "model_simple.save('model_simple_lstm128.h5')"
   ]
  },
  {
   "cell_type": "code",
   "execution_count": 11,
   "id": "5030cf4b",
   "metadata": {
    "execution": {
     "iopub.execute_input": "2023-03-06T09:31:05.626635Z",
     "iopub.status.busy": "2023-03-06T09:31:05.625552Z",
     "iopub.status.idle": "2023-03-06T09:31:22.943206Z",
     "shell.execute_reply": "2023-03-06T09:31:22.941460Z"
    },
    "papermill": {
     "duration": 17.670183,
     "end_time": "2023-03-06T09:31:22.946621",
     "exception": false,
     "start_time": "2023-03-06T09:31:05.276438",
     "status": "completed"
    },
    "tags": []
   },
   "outputs": [
    {
     "name": "stdout",
     "output_type": "stream",
     "text": [
      "107/107 [==============================] - 4s 36ms/step\n",
      "The simple LSTM model has an accuracy score on the test set of 0.685\n"
     ]
    }
   ],
   "source": [
    "# Make predictions on the test data\n",
    "y_test_preds = model_simple.predict(X_test)\n",
    "y_test_preds = (y_test_preds > 0.5).astype(int)\n",
    "test_accuracy_model_simple = accuracy_score(y_test, y_test_preds)\n",
    "\n",
    "print(f'The simple LSTM model has an accuracy score on the test set of {test_accuracy_model_simple:.3f}')"
   ]
  },
  {
   "cell_type": "code",
   "execution_count": 12,
   "id": "45c5a661",
   "metadata": {
    "execution": {
     "iopub.execute_input": "2023-03-06T09:31:23.554764Z",
     "iopub.status.busy": "2023-03-06T09:31:23.554283Z",
     "iopub.status.idle": "2023-03-06T09:31:24.059300Z",
     "shell.execute_reply": "2023-03-06T09:31:24.058108Z"
    },
    "papermill": {
     "duration": 0.806423,
     "end_time": "2023-03-06T09:31:24.062873",
     "exception": false,
     "start_time": "2023-03-06T09:31:23.256450",
     "status": "completed"
    },
    "tags": []
   },
   "outputs": [
    {
     "data": {
      "image/png": "[encoded data removed]",
      "text/plain": [
       "<Figure size 1600x600 with 2 Axes>"
      ]
     },
     "metadata": {},
     "output_type": "display_data"
    }
   ],
   "source": [
    "fig, (axis1, axis2) = plt.subplots(nrows=1, ncols=2, figsize=(16,6))\n",
    "\n",
    "# summarize history for accuracy\n",
    "axis1.plot(history_simple.history['accuracy'], label='Train', linewidth=3)\n",
    "axis1.plot(history_simple.history['val_accuracy'], label='Validation', linewidth=3)\n",
    "axis1.set_title('Model accuracy', fontsize=16)\n",
    "axis1.set_ylabel('accuracy')\n",
    "axis1.set_xlabel('epoch')\n",
    "axis1.legend(loc='upper left')\n",
    "\n",
    "# summarize history for loss\n",
    "axis2.plot(history_simple.history['loss'], label='Train', linewidth=3)\n",
    "axis2.plot(history_simple.history['val_loss'], label='Validation', linewidth=3)\n",
    "axis2.set_title('Model loss', fontsize=16)\n",
    "axis2.set_ylabel('loss')\n",
    "axis2.set_xlabel('epoch')\n",
    "axis2.legend(loc='upper right')\n",
    "plt.show()"
   ]
  },
  {
   "cell_type": "markdown",
   "id": "7085aaee",
   "metadata": {
    "papermill": {
     "duration": 0.265836,
     "end_time": "2023-03-06T09:31:24.597413",
     "exception": false,
     "start_time": "2023-03-06T09:31:24.331577",
     "status": "completed"
    },
    "tags": []
   },
   "source": [
    "### 4.2"
   ]
  },
  {
   "cell_type": "code",
   "execution_count": 13,
   "id": "83f61958",
   "metadata": {
    "execution": {
     "iopub.execute_input": "2023-03-06T09:31:25.134635Z",
     "iopub.status.busy": "2023-03-06T09:31:25.133733Z",
     "iopub.status.idle": "2023-03-06T09:53:54.938832Z",
     "shell.execute_reply": "2023-03-06T09:53:54.937436Z"
    },
    "papermill": {
     "duration": 1350.080219,
     "end_time": "2023-03-06T09:53:54.942289",
     "exception": false,
     "start_time": "2023-03-06T09:31:24.862070",
     "status": "completed"
    },
    "tags": []
   },
   "outputs": [
    {
     "name": "stdout",
     "output_type": "stream",
     "text": [
      "Model: \"sequential_1\"\n",
      "_________________________________________________________________\n",
      " Layer (type)                Output Shape              Param #   \n",
      "=================================================================\n",
      " embedding_1 (Embedding)     (None, 60, 300)           1587300   \n",
      "                                                                 \n",
      " lstm_1 (LSTM)               (None, 60, 64)            93440     \n",
      "                                                                 \n",
      " lstm_2 (LSTM)               (None, 32)                12416     \n",
      "                                                                 \n",
      " dense_1 (Dense)             (None, 1)                 33        \n",
      "                                                                 \n",
      "=================================================================\n",
      "Total params: 1,693,189\n",
      "Trainable params: 105,889\n",
      "Non-trainable params: 1,587,300\n",
      "_________________________________________________________________\n",
      "Epoch 1/30\n",
      "159/159 [==============================] - 51s 278ms/step - loss: 0.6873 - accuracy: 0.5498 - val_loss: 0.6872 - val_accuracy: 0.5499\n",
      "Epoch 2/30\n",
      "159/159 [==============================] - 44s 275ms/step - loss: 0.6857 - accuracy: 0.5522 - val_loss: 0.6866 - val_accuracy: 0.5458\n",
      "Epoch 3/30\n",
      "159/159 [==============================] - 44s 274ms/step - loss: 0.6849 - accuracy: 0.5565 - val_loss: 0.6860 - val_accuracy: 0.5470\n",
      "Epoch 4/30\n",
      "159/159 [==============================] - 43s 274ms/step - loss: 0.6842 - accuracy: 0.5591 - val_loss: 0.6864 - val_accuracy: 0.5449\n",
      "Epoch 5/30\n",
      "159/159 [==============================] - 45s 283ms/step - loss: 0.6830 - accuracy: 0.5663 - val_loss: 0.6850 - val_accuracy: 0.5593\n",
      "Epoch 6/30\n",
      "159/159 [==============================] - 44s 274ms/step - loss: 0.6812 - accuracy: 0.5667 - val_loss: 0.6838 - val_accuracy: 0.5637\n",
      "Epoch 7/30\n",
      "159/159 [==============================] - 44s 276ms/step - loss: 0.6799 - accuracy: 0.5699 - val_loss: 0.6841 - val_accuracy: 0.5631\n",
      "Epoch 8/30\n",
      "159/159 [==============================] - 44s 275ms/step - loss: 0.6786 - accuracy: 0.5760 - val_loss: 0.6820 - val_accuracy: 0.5687\n",
      "Epoch 9/30\n",
      "159/159 [==============================] - 44s 275ms/step - loss: 0.6738 - accuracy: 0.5810 - val_loss: 0.6737 - val_accuracy: 0.5693\n",
      "Epoch 10/30\n",
      "159/159 [==============================] - 44s 275ms/step - loss: 0.6726 - accuracy: 0.5857 - val_loss: 0.6804 - val_accuracy: 0.5655\n",
      "Epoch 11/30\n",
      "159/159 [==============================] - 44s 276ms/step - loss: 0.6684 - accuracy: 0.5878 - val_loss: 0.6911 - val_accuracy: 0.5434\n",
      "Epoch 12/30\n",
      "159/159 [==============================] - 44s 275ms/step - loss: 0.6675 - accuracy: 0.5905 - val_loss: 0.6630 - val_accuracy: 0.5935\n",
      "Epoch 13/30\n",
      "159/159 [==============================] - 44s 278ms/step - loss: 0.6600 - accuracy: 0.6034 - val_loss: 0.6782 - val_accuracy: 0.5537\n",
      "Epoch 14/30\n",
      "159/159 [==============================] - 44s 277ms/step - loss: 0.6510 - accuracy: 0.6093 - val_loss: 0.6474 - val_accuracy: 0.6256\n",
      "Epoch 15/30\n",
      "159/159 [==============================] - 44s 276ms/step - loss: 0.6423 - accuracy: 0.6203 - val_loss: 0.6457 - val_accuracy: 0.6088\n",
      "Epoch 16/30\n",
      "159/159 [==============================] - 44s 279ms/step - loss: 0.6345 - accuracy: 0.6338 - val_loss: 0.6323 - val_accuracy: 0.6353\n",
      "Epoch 17/30\n",
      "159/159 [==============================] - 44s 276ms/step - loss: 0.6325 - accuracy: 0.6326 - val_loss: 0.6340 - val_accuracy: 0.6350\n",
      "Epoch 18/30\n",
      "159/159 [==============================] - 44s 276ms/step - loss: 0.6198 - accuracy: 0.6434 - val_loss: 0.6197 - val_accuracy: 0.6314\n",
      "Epoch 19/30\n",
      "159/159 [==============================] - 44s 278ms/step - loss: 0.6152 - accuracy: 0.6504 - val_loss: 0.6133 - val_accuracy: 0.6535\n",
      "Epoch 20/30\n",
      "159/159 [==============================] - 44s 274ms/step - loss: 0.6085 - accuracy: 0.6616 - val_loss: 0.6171 - val_accuracy: 0.6417\n",
      "Epoch 21/30\n",
      "159/159 [==============================] - 44s 278ms/step - loss: 0.6008 - accuracy: 0.6687 - val_loss: 0.5998 - val_accuracy: 0.6735\n",
      "Epoch 22/30\n",
      "159/159 [==============================] - 44s 277ms/step - loss: 0.5964 - accuracy: 0.6723 - val_loss: 0.6034 - val_accuracy: 0.6700\n",
      "Epoch 23/30\n",
      "159/159 [==============================] - 44s 276ms/step - loss: 0.5900 - accuracy: 0.6760 - val_loss: 0.6112 - val_accuracy: 0.6659\n",
      "Epoch 24/30\n",
      "159/159 [==============================] - 45s 281ms/step - loss: 0.5851 - accuracy: 0.6849 - val_loss: 0.5940 - val_accuracy: 0.6718\n",
      "Epoch 25/30\n",
      "159/159 [==============================] - 44s 277ms/step - loss: 0.5810 - accuracy: 0.6863 - val_loss: 0.5919 - val_accuracy: 0.6868\n",
      "Epoch 26/30\n",
      "159/159 [==============================] - 45s 280ms/step - loss: 0.5776 - accuracy: 0.6882 - val_loss: 0.5865 - val_accuracy: 0.6868\n",
      "Epoch 27/30\n",
      "159/159 [==============================] - 45s 282ms/step - loss: 0.5747 - accuracy: 0.6938 - val_loss: 0.5948 - val_accuracy: 0.6765\n",
      "Epoch 28/30\n",
      "159/159 [==============================] - 44s 279ms/step - loss: 0.5719 - accuracy: 0.6943 - val_loss: 0.5870 - val_accuracy: 0.6868\n",
      "Epoch 29/30\n",
      "159/159 [==============================] - 45s 286ms/step - loss: 0.5670 - accuracy: 0.7003 - val_loss: 0.6002 - val_accuracy: 0.6682\n",
      "Epoch 30/30\n",
      "159/159 [==============================] - 44s 279ms/step - loss: 0.5642 - accuracy: 0.7024 - val_loss: 0.5884 - val_accuracy: 0.6812\n"
     ]
    }
   ],
   "source": [
    "np.random.seed(42)\n",
    "tf.random.set_seed(42)\n",
    "\n",
    "def build_model_2(embedding_matrix: np.ndarray, input_length: int, random_seed: int = 42):\n",
    "    tf.random.set_seed(random_seed)\n",
    "    model_2 = Sequential()\n",
    "    model_2.add(Embedding(\n",
    "        input_dim = embedding_matrix.shape[0],\n",
    "        output_dim = embedding_matrix.shape[1], \n",
    "        input_length = input_length,\n",
    "        weights = [embedding_matrix],\n",
    "        trainable=False))\n",
    "    model_2.add(LSTM(64, dropout=0.2, recurrent_dropout=0.2, return_sequences=True))\n",
    "    model_2.add(LSTM(32, dropout=0.2, recurrent_dropout=0.2))\n",
    "    model_2.add(Dense(1, activation='sigmoid'))\n",
    "    model_2.summary()\n",
    "    return model_2\n",
    "\n",
    "# Build the model using the w2v vectors\n",
    "model_2 = build_model_2(\n",
    "    embedding_matrix=w2v_model.vectors,\n",
    "    input_length=input_length,\n",
    "    random_seed=42)\n",
    "\n",
    "# Compile the model\n",
    "model_2.compile(\n",
    "    loss=\"binary_crossentropy\",\n",
    "    optimizer='adam',\n",
    "    metrics=['accuracy'])\n",
    "\n",
    "# Add early stop to stop training if val loss stops changing\n",
    "early_stop = EarlyStopping(monitor='val_loss', patience=5)\n",
    "\n",
    "# Fit the model to the data\n",
    "history_2 = model_2.fit(\n",
    "    x=X_train,\n",
    "    y=y_train,\n",
    "    validation_data=(X_val, y_val),\n",
    "    batch_size=100,\n",
    "    epochs=30, \n",
    "    callbacks=[early_stop])\n",
    "\n",
    "# Saving the trainined model\n",
    "model_2.save('model_2_2lstm.h5')"
   ]
  },
  {
   "cell_type": "code",
   "execution_count": 14,
   "id": "e681d3c0",
   "metadata": {
    "execution": {
     "iopub.execute_input": "2023-03-06T09:53:56.112464Z",
     "iopub.status.busy": "2023-03-06T09:53:56.111992Z",
     "iopub.status.idle": "2023-03-06T09:54:00.299965Z",
     "shell.execute_reply": "2023-03-06T09:54:00.297583Z"
    },
    "papermill": {
     "duration": 4.774044,
     "end_time": "2023-03-06T09:54:00.303247",
     "exception": false,
     "start_time": "2023-03-06T09:53:55.529203",
     "status": "completed"
    },
    "tags": []
   },
   "outputs": [
    {
     "name": "stdout",
     "output_type": "stream",
     "text": [
      "107/107 [==============================] - 4s 36ms/step\n",
      "The model_2 with 2 LSTM layers has an accuracy score on the test set of 0.685\n"
     ]
    }
   ],
   "source": [
    "# Make predictions on the test data\n",
    "y_test_preds = model_simple.predict(X_test)\n",
    "y_test_preds = (y_test_preds > 0.5).astype(int)\n",
    "test_accuracy_model_2 = accuracy_score(y_test, y_test_preds)\n",
    "\n",
    "print(f'The model_2 with 2 LSTM layers has an accuracy score on the test set of {test_accuracy_model_2:.3f}')"
   ]
  },
  {
   "cell_type": "code",
   "execution_count": 15,
   "id": "b5d275c8",
   "metadata": {
    "execution": {
     "iopub.execute_input": "2023-03-06T09:54:01.571569Z",
     "iopub.status.busy": "2023-03-06T09:54:01.571054Z",
     "iopub.status.idle": "2023-03-06T09:54:01.970407Z",
     "shell.execute_reply": "2023-03-06T09:54:01.968880Z"
    },
    "papermill": {
     "duration": 0.991665,
     "end_time": "2023-03-06T09:54:01.973448",
     "exception": false,
     "start_time": "2023-03-06T09:54:00.981783",
     "status": "completed"
    },
    "tags": []
   },
   "outputs": [
    {
     "data": {
      "image/png": "[encoded data removed]",
      "text/plain": [
       "<Figure size 1600x600 with 2 Axes>"
      ]
     },
     "metadata": {},
     "output_type": "display_data"
    }
   ],
   "source": [
    "fig, (axis1, axis2) = plt.subplots(nrows=1, ncols=2, figsize=(16,6))\n",
    "\n",
    "# summarize history for accuracy\n",
    "axis1.plot(history_2.history['accuracy'], label='Train', linewidth=3)\n",
    "axis1.plot(history_2.history['val_accuracy'], label='Validation', linewidth=3)\n",
    "axis1.set_title('Model accuracy', fontsize=16)\n",
    "axis1.set_ylabel('accuracy')\n",
    "axis1.set_xlabel('epoch')\n",
    "axis1.legend(loc='upper left')\n",
    "\n",
    "# summarize history for loss\n",
    "axis2.plot(history_2.history['loss'], label='Train', linewidth=3)\n",
    "axis2.plot(history_2.history['val_loss'], label='Validation', linewidth=3)\n",
    "axis2.set_title('Model loss', fontsize=16)\n",
    "axis2.set_ylabel('loss')\n",
    "axis2.set_xlabel('epoch')\n",
    "axis2.legend(loc='upper right')\n",
    "plt.show()"
   ]
  },
  {
   "cell_type": "markdown",
   "id": "c54fd158",
   "metadata": {
    "papermill": {
     "duration": 0.578788,
     "end_time": "2023-03-06T09:54:03.240091",
     "exception": false,
     "start_time": "2023-03-06T09:54:02.661303",
     "status": "completed"
    },
    "tags": []
   },
   "source": [
    "### 4.3"
   ]
  },
  {
   "cell_type": "markdown",
   "id": "663604a9",
   "metadata": {
    "papermill": {
     "duration": 0.68071,
     "end_time": "2023-03-06T09:54:04.504593",
     "exception": false,
     "start_time": "2023-03-06T09:54:03.823883",
     "status": "completed"
    },
    "tags": []
   },
   "source": [
    "# Set random seed for reproducibility\n",
    "np.random.seed(42)\n",
    "tf.random.set_seed(42)\n",
    "\n",
    "# Instantiate the model\n",
    "def build_model(embedding_matrix: np.ndarray, input_length: int, random_seed: int = 42):\n",
    "    tf.random.set_seed(random_seed)\n",
    "    model = Sequential()\n",
    "    model.add(Embedding(\n",
    "        input_dim = embedding_matrix.shape[0],\n",
    "        output_dim = embedding_matrix.shape[1], \n",
    "        input_length = input_length,\n",
    "        weights = [embedding_matrix],\n",
    "        trainable=False))\n",
    "    model.add(Bidirectional(LSTM(128, recurrent_dropout=0.1)))\n",
    "    model.add(Dropout(0.25))\n",
    "    model.add(Dense(64))\n",
    "    model.add(Dropout(0.3))\n",
    "    model.add(Dense(1, activation='sigmoid'))\n",
    "    model.summary()\n",
    "    return model\n",
    "\n",
    "# Build the model using the w2v vectors\n",
    "model = build_model(\n",
    "    embedding_matrix=w2v_model.vectors,\n",
    "    input_length=input_length,\n",
    "    random_seed=42)\n",
    "\n",
    "# Compile the model\n",
    "model.compile(\n",
    "    loss=\"binary_crossentropy\",\n",
    "    optimizer='adam',\n",
    "    metrics=['accuracy'])\n",
    "\n",
    "# Add early stop to stop training if val loss stops changing\n",
    "early_stop = EarlyStopping(monitor='val_loss', patience=5)\n",
    "\n",
    "# Fit the model to the data\n",
    "history = model.fit(\n",
    "    x=X_train,\n",
    "    y=y_train,\n",
    "    validation_data=(X_val, y_val),\n",
    "    batch_size=100,\n",
    "    epochs=30, \n",
    "    callbacks=[early_stop])\n",
    "\n",
    "# Saving the trainined model\n",
    "model.save('LSTM_model_30epochs.h5')"
   ]
  },
  {
   "cell_type": "code",
   "execution_count": 16,
   "id": "c8ea485a",
   "metadata": {
    "execution": {
     "iopub.execute_input": "2023-03-06T09:54:05.675047Z",
     "iopub.status.busy": "2023-03-06T09:54:05.673955Z",
     "iopub.status.idle": "2023-03-06T09:54:06.443698Z",
     "shell.execute_reply": "2023-03-06T09:54:06.442061Z"
    },
    "papermill": {
     "duration": 1.362016,
     "end_time": "2023-03-06T09:54:06.447525",
     "exception": false,
     "start_time": "2023-03-06T09:54:05.085509",
     "status": "completed"
    },
    "tags": []
   },
   "outputs": [],
   "source": [
    "# Load the model from the .h5 file\n",
    "model = load_model('/kaggle/input/lstm-model-sa/LSTM_model_30epochs.h5')"
   ]
  },
  {
   "cell_type": "markdown",
   "id": "21005396",
   "metadata": {
    "execution": {
     "iopub.execute_input": "2023-03-03T09:05:19.556449Z",
     "iopub.status.busy": "2023-03-03T09:05:19.555990Z",
     "iopub.status.idle": "2023-03-03T09:05:19.854656Z",
     "shell.execute_reply": "2023-03-03T09:05:19.853643Z",
     "shell.execute_reply.started": "2023-03-03T09:05:19.556409Z"
    },
    "papermill": {
     "duration": 0.588198,
     "end_time": "2023-03-06T09:54:07.719317",
     "exception": false,
     "start_time": "2023-03-06T09:54:07.131119",
     "status": "completed"
    },
    "tags": []
   },
   "source": [
    "fig, (axis1, axis2) = plt.subplots(nrows=1, ncols=2, figsize=(16,6))\n",
    "\n",
    "# summarize history for accuracy\n",
    "axis1.plot(history.history['accuracy'], label='Train', linewidth=3)\n",
    "axis1.plot(history.history['val_accuracy'], label='Validation', linewidth=3)\n",
    "axis1.set_title('Model accuracy', fontsize=16)\n",
    "axis1.set_ylabel('accuracy')\n",
    "axis1.set_xlabel('epoch')\n",
    "axis1.legend(loc='upper left')\n",
    "\n",
    "# summarize history for loss\n",
    "axis2.plot(history.history['loss'], label='Train', linewidth=3)\n",
    "axis2.plot(history.history['val_loss'], label='Validation', linewidth=3)\n",
    "axis2.set_title('Model loss', fontsize=16)\n",
    "axis2.set_ylabel('loss')\n",
    "axis2.set_xlabel('epoch')\n",
    "axis2.legend(loc='upper right')\n",
    "plt.show()"
   ]
  },
  {
   "cell_type": "code",
   "execution_count": 17,
   "id": "83669815",
   "metadata": {
    "execution": {
     "iopub.execute_input": "2023-03-06T09:54:08.987248Z",
     "iopub.status.busy": "2023-03-06T09:54:08.986324Z",
     "iopub.status.idle": "2023-03-06T09:54:14.677789Z",
     "shell.execute_reply": "2023-03-06T09:54:14.676528Z"
    },
    "papermill": {
     "duration": 6.37784,
     "end_time": "2023-03-06T09:54:14.681369",
     "exception": false,
     "start_time": "2023-03-06T09:54:08.303529",
     "status": "completed"
    },
    "tags": []
   },
   "outputs": [
    {
     "name": "stdout",
     "output_type": "stream",
     "text": [
      "107/107 [==============================] - 5s 41ms/step\n",
      "The accuracy score on the test set is 0.691\n"
     ]
    }
   ],
   "source": [
    "# Make predictions on the test data\n",
    "y_test_preds = model.predict(X_test)\n",
    "y_test_preds = (y_test_preds > 0.5).astype(int)\n",
    "test_accuracy = accuracy_score(y_test, y_test_preds)\n",
    "\n",
    "print(f'The accuracy score on the test set is {test_accuracy:.3f}')"
   ]
  },
  {
   "cell_type": "code",
   "execution_count": 18,
   "id": "a19236dc",
   "metadata": {
    "execution": {
     "iopub.execute_input": "2023-03-06T09:54:15.862525Z",
     "iopub.status.busy": "2023-03-06T09:54:15.861655Z",
     "iopub.status.idle": "2023-03-06T09:54:16.126605Z",
     "shell.execute_reply": "2023-03-06T09:54:16.125161Z"
    },
    "papermill": {
     "duration": 0.858947,
     "end_time": "2023-03-06T09:54:16.129955",
     "exception": false,
     "start_time": "2023-03-06T09:54:15.271008",
     "status": "completed"
    },
    "tags": []
   },
   "outputs": [],
   "source": [
    "original_data = pd.read_csv('/kaggle/input/womens-ecommerce-clothing-reviews/Womens Clothing E-Commerce Reviews.csv')"
   ]
  },
  {
   "cell_type": "code",
   "execution_count": 19,
   "id": "cc22996b",
   "metadata": {
    "execution": {
     "iopub.execute_input": "2023-03-06T09:54:17.413252Z",
     "iopub.status.busy": "2023-03-06T09:54:17.411783Z",
     "iopub.status.idle": "2023-03-06T09:54:17.673793Z",
     "shell.execute_reply": "2023-03-06T09:54:17.672217Z"
    },
    "papermill": {
     "duration": 0.956286,
     "end_time": "2023-03-06T09:54:17.676851",
     "exception": false,
     "start_time": "2023-03-06T09:54:16.720565",
     "status": "completed"
    },
    "tags": []
   },
   "outputs": [
    {
     "data": {
      "image/png": "[encoded data removed]",
      "text/plain": [
       "<Figure size 640x480 with 2 Axes>"
      ]
     },
     "metadata": {},
     "output_type": "display_data"
    }
   ],
   "source": [
    "# Compute the confusion matrix\n",
    "cm = confusion_matrix(y_test, y_test_preds)\n",
    "labels = ['Negative', 'Positive']\n",
    "\n",
    "# Create a heatmap using Seaborn\n",
    "sns.set(font_scale=1.4)\n",
    "sns.heatmap(cm, annot=True, cmap='Blues', fmt='g', xticklabels=labels, yticklabels=labels)\n",
    "\n",
    "# Add labels and title\n",
    "plt.xlabel('Actual')\n",
    "plt.ylabel('Predicted')\n",
    "plt.title('Confusion Matrix')\n",
    "\n",
    "plt.show()\n"
   ]
  },
  {
   "cell_type": "code",
   "execution_count": 20,
   "id": "e3dc5921",
   "metadata": {
    "execution": {
     "iopub.execute_input": "2023-03-06T09:54:18.849331Z",
     "iopub.status.busy": "2023-03-06T09:54:18.848302Z",
     "iopub.status.idle": "2023-03-06T09:54:18.864672Z",
     "shell.execute_reply": "2023-03-06T09:54:18.862978Z"
    },
    "papermill": {
     "duration": 0.610115,
     "end_time": "2023-03-06T09:54:18.867629",
     "exception": false,
     "start_time": "2023-03-06T09:54:18.257514",
     "status": "completed"
    },
    "tags": []
   },
   "outputs": [
    {
     "name": "stdout",
     "output_type": "stream",
     "text": [
      "The model has a precision score of 0.686, recall of 0.839, and f1 of 0.755\n"
     ]
    }
   ],
   "source": [
    "# Calculating precision, recall and f1\n",
    "precision = precision_score(y_test, y_test_preds)\n",
    "recall = recall_score(y_test, y_test_preds)\n",
    "f1 = f1_score(y_test, y_test_preds)\n",
    "\n",
    "print(f'The model has a precision score of {precision:.3f}, recall of {recall:.3f}, and f1 of {f1:.3f}')"
   ]
  },
  {
   "cell_type": "markdown",
   "id": "e8c630bb",
   "metadata": {
    "papermill": {
     "duration": 0.591939,
     "end_time": "2023-03-06T09:54:20.150215",
     "exception": false,
     "start_time": "2023-03-06T09:54:19.558276",
     "status": "completed"
    },
    "tags": []
   },
   "source": [
    "**Observations**:\n",
    "- Precision: The precision score of 0.686 indicates that out of all the instances that the model predicted as positive, only 68.6% were actually positive. In other words, there were quite a few false positives.\n",
    "\n",
    "- Recall: The recall score of 0.839 indicates that out of all the actual positive instances in the data, the model was able to correctly identify 83.9% of them. In other words, the model has a relatively high ability to correctly identify positive instances.\n",
    "\n",
    "- F1 Score: The F1 score of 0.755 is the harmonic mean of precision and recall, and provides a balance between these two metrics. It is a single score that represents the overall performance of the model, and it indicates that the model is relatively good at balancing precision and recall.\n",
    "\n",
    "Let's compare the predictions against the ratings given for the test set."
   ]
  },
  {
   "cell_type": "code",
   "execution_count": 21,
   "id": "ace06f80",
   "metadata": {
    "execution": {
     "iopub.execute_input": "2023-03-06T09:54:21.421881Z",
     "iopub.status.busy": "2023-03-06T09:54:21.420958Z",
     "iopub.status.idle": "2023-03-06T09:54:21.709889Z",
     "shell.execute_reply": "2023-03-06T09:54:21.708109Z"
    },
    "papermill": {
     "duration": 0.973883,
     "end_time": "2023-03-06T09:54:21.713104",
     "exception": false,
     "start_time": "2023-03-06T09:54:20.739221",
     "status": "completed"
    },
    "tags": []
   },
   "outputs": [
    {
     "data": {
      "image/png": "[encoded data removed]",
      "text/plain": [
       "<Figure size 640x480 with 1 Axes>"
      ]
     },
     "metadata": {},
     "output_type": "display_data"
    }
   ],
   "source": [
    "# Adding predictions to a dataframe that is just the test set\n",
    "test_rows = data.loc[y_test.index]\n",
    "test_rows['Prediction'] = y_test_preds\n",
    "test_rows.head()\n",
    "\n",
    "# Create a cross-tabulation table\n",
    "ct = pd.crosstab(test_rows['Prediction'], test_rows['Rating'])\n",
    "ct = ct.rename(index={1:'5-star', 0:'Not 5-star'})\n",
    "\n",
    "# Create the heatmap\n",
    "sns.heatmap(ct, cmap='Blues', annot=True, fmt='d', cbar=False)\n",
    "\n",
    "# Set the axis labels and title\n",
    "plt.xlabel('Rating')\n",
    "plt.ylabel('Prediction')\n",
    "plt.title('Prediction vs Rating')\n",
    "plt.show()\n"
   ]
  },
  {
   "cell_type": "markdown",
   "id": "6dd90d2f",
   "metadata": {
    "papermill": {
     "duration": 0.611693,
     "end_time": "2023-03-06T09:54:22.974205",
     "exception": false,
     "start_time": "2023-03-06T09:54:22.362512",
     "status": "completed"
    },
    "tags": []
   },
   "source": [
    "**Observations:**\n",
    "- We can see that there wre 35 1-star ratings and 78 2-star ratings that the model predicted were 5-star. We will investigate some of these cases further to look at the text.\n",
    "- Also we can see that there were 310 5-star ratings that the model predicted were not 5-star. We will have a look at these examples too."
   ]
  },
  {
   "cell_type": "code",
   "execution_count": 22,
   "id": "260fa01f",
   "metadata": {
    "execution": {
     "iopub.execute_input": "2023-03-06T09:54:24.251168Z",
     "iopub.status.busy": "2023-03-06T09:54:24.250262Z",
     "iopub.status.idle": "2023-03-06T09:54:24.266990Z",
     "shell.execute_reply": "2023-03-06T09:54:24.265276Z"
    },
    "papermill": {
     "duration": 0.60916,
     "end_time": "2023-03-06T09:54:24.269446",
     "exception": false,
     "start_time": "2023-03-06T09:54:23.660286",
     "status": "completed"
    },
    "tags": []
   },
   "outputs": [
    {
     "data": {
      "text/html": [
       "<div>\n",
       "<style scoped>\n",
       "    .dataframe tbody tr th:only-of-type {\n",
       "        vertical-align: middle;\n",
       "    }\n",
       "\n",
       "    .dataframe tbody tr th {\n",
       "        vertical-align: top;\n",
       "    }\n",
       "\n",
       "    .dataframe thead th {\n",
       "        text-align: right;\n",
       "    }\n",
       "</style>\n",
       "<table border=\"1\" class=\"dataframe\">\n",
       "  <thead>\n",
       "    <tr style=\"text-align: right;\">\n",
       "      <th></th>\n",
       "      <th>Five Star</th>\n",
       "      <th>Rating</th>\n",
       "      <th>Total Text</th>\n",
       "      <th>Prediction</th>\n",
       "    </tr>\n",
       "  </thead>\n",
       "  <tbody>\n",
       "    <tr>\n",
       "      <th>14235</th>\n",
       "      <td>0</td>\n",
       "      <td>1</td>\n",
       "      <td>['absolutely', 'awful', 'excite', 'order', 'dress', 'love', 'normal', 'neck', 'nice', 'length', 'hole', 'back', 'dress', 'plain', 'awful', 'top', 'fit', 'tight_across_bust', 'flatten', 'like', 'wear', 'tight', 'sport_bra', 'back', 'zipper', 'pucker', 'bump', 'like', 'much', 'zipper', 'fabric', 'could', 'get', 'zipper', 'lay_flat', 'fabric', 'itchy', 'cheap', 'feel', 'top', 'color', 'much_brighter', 'appear']</td>\n",
       "      <td>1</td>\n",
       "    </tr>\n",
       "    <tr>\n",
       "      <th>4489</th>\n",
       "      <td>0</td>\n",
       "      <td>1</td>\n",
       "      <td>['fit', 'really', 'excite', 'get', 'dress', 'initially', 'order', 'small', 'size', 'try', 'really', 'tight', 'bodice', 'top', 'fit', 'strangely', 'shorten', 'strap', 'quite', 'bite', 'dress', 'look', 'love', 'retailer', 'get', 'dress', 'look', 'dress', 'line', 'beautiful', 'fit', 'right', 'love', 'lace', 'look', 'would', 'love', 'see', 'dress', 'design']</td>\n",
       "      <td>1</td>\n",
       "    </tr>\n",
       "    <tr>\n",
       "      <th>4296</th>\n",
       "      <td>0</td>\n",
       "      <td>1</td>\n",
       "      <td>['sleeves', 'dealbreaker', 'literally', 'unflattering', 'thing', 'ever', 'try', 'retailer', 'sleeves', 'weird', 'ugly', 'get', 'really', 'fat', 'top', 'like', 'dolman_sleeve', 'look', 'really', 'strange', 'flow', 'rest', 'top', 'structure', 'make', 'shoulder', 'look', 'huge', 'even_though', 'narrow_shoulder', 'apparent', 'model', 'picture', 'thick', 'black', 'seam', 'shoulder', 'also', 'place', 'really', 'awkward', 'spot', 'also', 'contri']</td>\n",
       "      <td>1</td>\n",
       "    </tr>\n",
       "    <tr>\n",
       "      <th>19432</th>\n",
       "      <td>0</td>\n",
       "      <td>1</td>\n",
       "      <td>['cute', 'style', 'shirt', 'overpower', 'vinegar', 'odor', 'take_package', 'mint_green', 'color', 'appeal', 'style', 'look', 'good', 'smell', 'much']</td>\n",
       "      <td>1</td>\n",
       "    </tr>\n",
       "  </tbody>\n",
       "</table>\n",
       "</div>"
      ],
      "text/plain": [
       "       Five Star  Rating  \\\n",
       "14235          0       1   \n",
       "4489           0       1   \n",
       "4296           0       1   \n",
       "19432          0       1   \n",
       "\n",
       "                                                                                                                                                                                                                                                                                                                                                                                                                                                         Total Text  \\\n",
       "14235                                   ['absolutely', 'awful', 'excite', 'order', 'dress', 'love', 'normal', 'neck', 'nice', 'length', 'hole', 'back', 'dress', 'plain', 'awful', 'top', 'fit', 'tight_across_bust', 'flatten', 'like', 'wear', 'tight', 'sport_bra', 'back', 'zipper', 'pucker', 'bump', 'like', 'much', 'zipper', 'fabric', 'could', 'get', 'zipper', 'lay_flat', 'fabric', 'itchy', 'cheap', 'feel', 'top', 'color', 'much_brighter', 'appear']   \n",
       "4489                                                                                           ['fit', 'really', 'excite', 'get', 'dress', 'initially', 'order', 'small', 'size', 'try', 'really', 'tight', 'bodice', 'top', 'fit', 'strangely', 'shorten', 'strap', 'quite', 'bite', 'dress', 'look', 'love', 'retailer', 'get', 'dress', 'look', 'dress', 'line', 'beautiful', 'fit', 'right', 'love', 'lace', 'look', 'would', 'love', 'see', 'dress', 'design']   \n",
       "4296   ['sleeves', 'dealbreaker', 'literally', 'unflattering', 'thing', 'ever', 'try', 'retailer', 'sleeves', 'weird', 'ugly', 'get', 'really', 'fat', 'top', 'like', 'dolman_sleeve', 'look', 'really', 'strange', 'flow', 'rest', 'top', 'structure', 'make', 'shoulder', 'look', 'huge', 'even_though', 'narrow_shoulder', 'apparent', 'model', 'picture', 'thick', 'black', 'seam', 'shoulder', 'also', 'place', 'really', 'awkward', 'spot', 'also', 'contri']   \n",
       "19432                                                                                                                                                                                                                                                                                                         ['cute', 'style', 'shirt', 'overpower', 'vinegar', 'odor', 'take_package', 'mint_green', 'color', 'appeal', 'style', 'look', 'good', 'smell', 'much']   \n",
       "\n",
       "       Prediction  \n",
       "14235           1  \n",
       "4489            1  \n",
       "4296            1  \n",
       "19432           1  "
      ]
     },
     "execution_count": 22,
     "metadata": {},
     "output_type": "execute_result"
    }
   ],
   "source": [
    "# Adjusting settings to see full text\n",
    "pd.options.display.max_colwidth = 500\n",
    "\n",
    "# Looking at rows that had a rating of 1-star, but the model predicted 5-star\n",
    "test_rows[(test_rows['Rating'] == 1) & (test_rows['Prediction'] == 1)][:4]"
   ]
  },
  {
   "cell_type": "markdown",
   "id": "dab97790",
   "metadata": {
    "papermill": {
     "duration": 0.685116,
     "end_time": "2023-03-06T09:54:25.541279",
     "exception": false,
     "start_time": "2023-03-06T09:54:24.856163",
     "status": "completed"
    },
    "tags": []
   },
   "source": [
    "**Observations**:\n",
    "- On some of these examples it is easy to see how the model might think the review is positive. For example in the second review above there are words like: 'excite', 'love' (features 3 times in this review), 'beautiful'. There were 'negative' words present but it isn't obvious that this was a 1-star review.\n",
    "- On the 4th review above (index 19432) the customer clearly had an issue with the smell of the package. We can see why the model did perform well in this case as it probably didn't train enough on reviews that referred to the smell.\n",
    "- On some cases it just seems the model performs poorly, the review clearly is not a 5-star review."
   ]
  },
  {
   "cell_type": "code",
   "execution_count": 23,
   "id": "9b8225cd",
   "metadata": {
    "execution": {
     "iopub.execute_input": "2023-03-06T09:54:26.840192Z",
     "iopub.status.busy": "2023-03-06T09:54:26.839285Z",
     "iopub.status.idle": "2023-03-06T09:54:26.855239Z",
     "shell.execute_reply": "2023-03-06T09:54:26.853875Z"
    },
    "papermill": {
     "duration": 0.72977,
     "end_time": "2023-03-06T09:54:26.857786",
     "exception": false,
     "start_time": "2023-03-06T09:54:26.128016",
     "status": "completed"
    },
    "tags": []
   },
   "outputs": [
    {
     "data": {
      "text/html": [
       "<div>\n",
       "<style scoped>\n",
       "    .dataframe tbody tr th:only-of-type {\n",
       "        vertical-align: middle;\n",
       "    }\n",
       "\n",
       "    .dataframe tbody tr th {\n",
       "        vertical-align: top;\n",
       "    }\n",
       "\n",
       "    .dataframe thead th {\n",
       "        text-align: right;\n",
       "    }\n",
       "</style>\n",
       "<table border=\"1\" class=\"dataframe\">\n",
       "  <thead>\n",
       "    <tr style=\"text-align: right;\">\n",
       "      <th></th>\n",
       "      <th>Five Star</th>\n",
       "      <th>Rating</th>\n",
       "      <th>Total Text</th>\n",
       "      <th>Prediction</th>\n",
       "    </tr>\n",
       "  </thead>\n",
       "  <tbody>\n",
       "    <tr>\n",
       "      <th>3187</th>\n",
       "      <td>1</td>\n",
       "      <td>5</td>\n",
       "      <td>['unique', 'pretty', 'top', 'pretty', 'would', 'say', 'probably', 'size', 'smaller', 'normal', 'like', 'crop', 'fit']</td>\n",
       "      <td>0</td>\n",
       "    </tr>\n",
       "    <tr>\n",
       "      <th>14546</th>\n",
       "      <td>1</td>\n",
       "      <td>5</td>\n",
       "      <td>['pretty', 'top', 'top', 'really', 'beautiful', 'lace_detail', 'color', 'much', 'deeper', 'pink', 'picture', 'online', 'order', 'xs', 'petite', 'fit', 'fine', 'like', 'top', 'longer', 'wish', 'get', 'regular', 'xs', 'instead', 'pretty']</td>\n",
       "      <td>0</td>\n",
       "    </tr>\n",
       "    <tr>\n",
       "      <th>17431</th>\n",
       "      <td>1</td>\n",
       "      <td>5</td>\n",
       "      <td>['cool', 'really', 'adorable', 'retro', 'look', 'fit', 'true_size', 'get', 'size', 'larger', 'want', 'tie', 'bottom', 'days', 'wear', 'twice_already']</td>\n",
       "      <td>0</td>\n",
       "    </tr>\n",
       "    <tr>\n",
       "      <th>8565</th>\n",
       "      <td>1</td>\n",
       "      <td>5</td>\n",
       "      <td>['love', 'know', 'bite', 'moot', 'point', 'since', 'chemise', 'sell', 'chance', 'come', 'back', 'stock', 'see', 'one', 'local_store', 'urge', 'try', 'fabric', 'incredible', 'luxurious', 'fit', 'amazingly', 'hard_time', 'whole', 'tight', 'chemise', 'slip', 'nightie', 'category', 'clothe', 'fairly', 'skinny', 'still', 'curvy', 'love', 'curve', 'muffin_top', 'get', 'real', 'awkward', 'try', 'look', 'sexy', 'however', 'godsend']</td>\n",
       "      <td>0</td>\n",
       "    </tr>\n",
       "    <tr>\n",
       "      <th>18521</th>\n",
       "      <td>1</td>\n",
       "      <td>5</td>\n",
       "      <td>['fun', 'summer', 'skirt', 'skirt', 'catch_eye', 'right_away', 'clearance', 'section', 'would', 'try', 'size', 'available', 'however', 'size', 'fit', 'fine', 'print', 'bright', 'summery', 'feel', 'line', 'skirt', 'carrot', 'orange_red', 'fabric', 'soft']</td>\n",
       "      <td>0</td>\n",
       "    </tr>\n",
       "    <tr>\n",
       "      <th>4128</th>\n",
       "      <td>1</td>\n",
       "      <td>5</td>\n",
       "      <td>['really', 'love', 'cloth_stone', 'top', 'disappoint', 'usually', 'size', 'small', 'top', 'tend', 'xs', 'halter', 'arm_hole', 'usually', 'big', 'go', 'usual_xs', 'fit_perfectly', 'nice', 'drape', 'super_soft', 'add', 'look', 'picture', 'notice', 'mute', 'pink', 'plaid', 'design', 'originally', 'think', 'navy_blue', 'white', 'plaid', 'however', 'really', 'light', 'pink', 'well', 'actually', 'w']</td>\n",
       "      <td>0</td>\n",
       "    </tr>\n",
       "    <tr>\n",
       "      <th>21286</th>\n",
       "      <td>1</td>\n",
       "      <td>5</td>\n",
       "      <td>['feminine', 'romantic', 'blouse', 'love', 'run_small', 'reviewer_say', 'go', 'size', 'want', 'wear', 'cami', 'fabric', 'soft', 'sheer', 'design', 'emphasize', 'nature', 'curve', 'woman', 'body', 'good', 'way', 'back', 'longer', 'front', 'part', 'like', 'romantic', 'floral_print', 'soft', 'fabric', 'one', 'winner']</td>\n",
       "      <td>0</td>\n",
       "    </tr>\n",
       "    <tr>\n",
       "      <th>12750</th>\n",
       "      <td>1</td>\n",
       "      <td>5</td>\n",
       "      <td>['almost', 'perfect', 'check', 'size', 'order', 'mango', 'navy', 'size', 'lbs', 'arrive', 'size', 'label', 'mango', 'fit_perfectly', 'perfect', 'length', 'legs', 'flatter', 'navy', 'hand', 'inch_shorter', 'inch', 'narrower', 'keep', 'double', 'check', 'pack', 'slip', 'label', 'inside', 'short', 'see', 'accidentally', 'send', 'p', 'clearly', 'bring_back', 'store', 'order', 'another', 'navy', 'hop', 'pair', 'mislabeled']</td>\n",
       "      <td>0</td>\n",
       "    </tr>\n",
       "    <tr>\n",
       "      <th>3168</th>\n",
       "      <td>1</td>\n",
       "      <td>5</td>\n",
       "      <td>['pleasant_surprise', 'jeans', 'pleasant_surprise', 'comfy', 'stretchy', 'fit', 'right', 'ankle', 'skinny_legs', 'love', 'slim', 'fit', 'normally', 'waist', 'better', 'fit', 'dark', 'demin', 'gold', 'button', 'give', 'dressy', 'look', 'also', 'give', 'derriere', 'nice', 'shape', 'lbs', 'slim_hips', 'top', 'jeans', 'additonal', 'sale_price']</td>\n",
       "      <td>0</td>\n",
       "    </tr>\n",
       "    <tr>\n",
       "      <th>13182</th>\n",
       "      <td>1</td>\n",
       "      <td>5</td>\n",
       "      <td>['softest', 'fabric', 'ever', 'skirt', 'super_cute', 'great', 'easy', 'skirt', 'wear', 'basically', 'anything', 'truly', 'remarkable', 'softness', 'fabric', 'find', 'store', 'sure', 'need', 'felt', 'good', 'could', 'put']</td>\n",
       "      <td>0</td>\n",
       "    </tr>\n",
       "  </tbody>\n",
       "</table>\n",
       "</div>"
      ],
      "text/plain": [
       "       Five Star  Rating  \\\n",
       "3187           1       5   \n",
       "14546          1       5   \n",
       "17431          1       5   \n",
       "8565           1       5   \n",
       "18521          1       5   \n",
       "4128           1       5   \n",
       "21286          1       5   \n",
       "12750          1       5   \n",
       "3168           1       5   \n",
       "13182          1       5   \n",
       "\n",
       "                                                                                                                                                                                                                                                                                                                                                                                                                                         Total Text  \\\n",
       "3187                                                                                                                                                                                                                                                                                                                          ['unique', 'pretty', 'top', 'pretty', 'would', 'say', 'probably', 'size', 'smaller', 'normal', 'like', 'crop', 'fit']   \n",
       "14546                                                                                                                                                                                                  ['pretty', 'top', 'top', 'really', 'beautiful', 'lace_detail', 'color', 'much', 'deeper', 'pink', 'picture', 'online', 'order', 'xs', 'petite', 'fit', 'fine', 'like', 'top', 'longer', 'wish', 'get', 'regular', 'xs', 'instead', 'pretty']   \n",
       "17431                                                                                                                                                                                                                                                                                        ['cool', 'really', 'adorable', 'retro', 'look', 'fit', 'true_size', 'get', 'size', 'larger', 'want', 'tie', 'bottom', 'days', 'wear', 'twice_already']   \n",
       "8565   ['love', 'know', 'bite', 'moot', 'point', 'since', 'chemise', 'sell', 'chance', 'come', 'back', 'stock', 'see', 'one', 'local_store', 'urge', 'try', 'fabric', 'incredible', 'luxurious', 'fit', 'amazingly', 'hard_time', 'whole', 'tight', 'chemise', 'slip', 'nightie', 'category', 'clothe', 'fairly', 'skinny', 'still', 'curvy', 'love', 'curve', 'muffin_top', 'get', 'real', 'awkward', 'try', 'look', 'sexy', 'however', 'godsend']   \n",
       "18521                                                                                                                                                                                ['fun', 'summer', 'skirt', 'skirt', 'catch_eye', 'right_away', 'clearance', 'section', 'would', 'try', 'size', 'available', 'however', 'size', 'fit', 'fine', 'print', 'bright', 'summery', 'feel', 'line', 'skirt', 'carrot', 'orange_red', 'fabric', 'soft']   \n",
       "4128                                  ['really', 'love', 'cloth_stone', 'top', 'disappoint', 'usually', 'size', 'small', 'top', 'tend', 'xs', 'halter', 'arm_hole', 'usually', 'big', 'go', 'usual_xs', 'fit_perfectly', 'nice', 'drape', 'super_soft', 'add', 'look', 'picture', 'notice', 'mute', 'pink', 'plaid', 'design', 'originally', 'think', 'navy_blue', 'white', 'plaid', 'however', 'really', 'light', 'pink', 'well', 'actually', 'w']   \n",
       "21286                                                                                                                  ['feminine', 'romantic', 'blouse', 'love', 'run_small', 'reviewer_say', 'go', 'size', 'want', 'wear', 'cami', 'fabric', 'soft', 'sheer', 'design', 'emphasize', 'nature', 'curve', 'woman', 'body', 'good', 'way', 'back', 'longer', 'front', 'part', 'like', 'romantic', 'floral_print', 'soft', 'fabric', 'one', 'winner']   \n",
       "12750        ['almost', 'perfect', 'check', 'size', 'order', 'mango', 'navy', 'size', 'lbs', 'arrive', 'size', 'label', 'mango', 'fit_perfectly', 'perfect', 'length', 'legs', 'flatter', 'navy', 'hand', 'inch_shorter', 'inch', 'narrower', 'keep', 'double', 'check', 'pack', 'slip', 'label', 'inside', 'short', 'see', 'accidentally', 'send', 'p', 'clearly', 'bring_back', 'store', 'order', 'another', 'navy', 'hop', 'pair', 'mislabeled']   \n",
       "3168                                                                                         ['pleasant_surprise', 'jeans', 'pleasant_surprise', 'comfy', 'stretchy', 'fit', 'right', 'ankle', 'skinny_legs', 'love', 'slim', 'fit', 'normally', 'waist', 'better', 'fit', 'dark', 'demin', 'gold', 'button', 'give', 'dressy', 'look', 'also', 'give', 'derriere', 'nice', 'shape', 'lbs', 'slim_hips', 'top', 'jeans', 'additonal', 'sale_price']   \n",
       "13182                                                                                                                                                                                                                 ['softest', 'fabric', 'ever', 'skirt', 'super_cute', 'great', 'easy', 'skirt', 'wear', 'basically', 'anything', 'truly', 'remarkable', 'softness', 'fabric', 'find', 'store', 'sure', 'need', 'felt', 'good', 'could', 'put']   \n",
       "\n",
       "       Prediction  \n",
       "3187            0  \n",
       "14546           0  \n",
       "17431           0  \n",
       "8565            0  \n",
       "18521           0  \n",
       "4128            0  \n",
       "21286           0  \n",
       "12750           0  \n",
       "3168            0  \n",
       "13182           0  "
      ]
     },
     "execution_count": 23,
     "metadata": {},
     "output_type": "execute_result"
    }
   ],
   "source": [
    "# Looking at rows that had a rating of 5-star, but the model predicted not 5-star\n",
    "test_rows[(test_rows['Rating'] == 5) & (test_rows['Prediction'] == 0)][:10]"
   ]
  },
  {
   "cell_type": "markdown",
   "id": "98f46ce0",
   "metadata": {
    "papermill": {
     "duration": 0.587594,
     "end_time": "2023-03-06T09:54:28.030538",
     "exception": false,
     "start_time": "2023-03-06T09:54:27.442944",
     "status": "completed"
    },
    "tags": []
   },
   "source": [
    "**Observations:**\n",
    "- "
   ]
  },
  {
   "cell_type": "markdown",
   "id": "fc9344b4",
   "metadata": {
    "papermill": {
     "duration": 0.580519,
     "end_time": "2023-03-06T09:54:29.303410",
     "exception": false,
     "start_time": "2023-03-06T09:54:28.722891",
     "status": "completed"
    },
    "tags": []
   },
   "source": [
    "\n",
    "## 5. Conclusion\n",
    "\n",
    "Looking back at the EDA performed on the data set we saw that giving less than 5-stars didn't mean that the customer didn't like the product. For example lots of customers that even gave the product a 3-Star rating also said that they would recommend the product to someone else. It is likely also then that in the review text these customers were generally quite positive about the product and so it makes sense that our model identified a significant number of false positives.\n",
    "\n",
    "Furthermore, using 5-star rating as a target variable was chosen for a few reasons:\n",
    "- 5-star ratings are the most positive review a customer can give and so is valuable to a company\n",
    "- The dataset was quite balanced (55%/45%) when split according to 5-star and non 5-star reviews (therefore the whole dataset could be used in the model)\n",
    "\n",
    "However the even split of 5-star to non 5-star reviews statistically does not match the sentiment split of the dataset, in other words it isnt as clear as 55% of the reviews texts clearly being positive reviews and 45% clearly being negatives.\n",
    "\n",
    "In terms of business takeaways it could be a good idea to try to understand why some customers leave a positive text review, but don't give the item a 5-star review. Perhaps the rating reflects not just how they like the item but some other part of their customer experience (long shipping, poor customer service, or poor fit of clothing). The company could then look to solve these user experience problems or ask more specific questions from their customer reviews so that the ratings given only reflect the customers opinion on the item of clothing they purchased.\n",
    "\n",
    "### Shorter version\n",
    "\n",
    "After performing EDA on the dataset, it was observed that a rating less than 5-stars did not necessarily mean that the customer did not like the product. For example lots of customers that even gave the product a 3-Star rating also said that they would recommend the product to someone else. As a result, the model identified a significant number of false positives. Though using 5-star rating as a target variable made sense from a business perspective, the split of 55%/45% for 5-star and non 5-star reviews did not match the sentiment split of the dataset. Going forward, it may be useful for the company to try to understand why some customers leave a positive text review but do not give the item a 5-star review. This could help improve customer experience and ensure that ratings reflect only the customer's opinion on the item they purchased.\n",
    "\n",
    "TL;DR: The rating less than 5-stars did not always indicate customer dissatisfaction. The model had significant false positives. Though the dataset was balanced, it did not match the sentiment split of the dataset. The company should focus on understanding why customers leave a positive text review but not give a 5-star rating to improve customer experience."
   ]
  },
  {
   "cell_type": "markdown",
   "id": "b4df27d8",
   "metadata": {
    "papermill": {
     "duration": 0.689838,
     "end_time": "2023-03-06T09:54:30.580769",
     "exception": false,
     "start_time": "2023-03-06T09:54:29.890931",
     "status": "completed"
    },
    "tags": []
   },
   "source": [
    "## Project Extensions\n",
    "\n",
    "- Use a pretrained Word2Vec model on the dataset and compare performance.\n",
    "- Train on more data."
   ]
  },
  {
   "cell_type": "markdown",
   "id": "f1512158",
   "metadata": {
    "papermill": {
     "duration": 0.61007,
     "end_time": "2023-03-06T09:54:31.774670",
     "exception": false,
     "start_time": "2023-03-06T09:54:31.164600",
     "status": "completed"
    },
    "tags": []
   },
   "source": [
    "# Todo\n",
    "- Add a conclusion section that summarises what I have done in the project and summarises the results\n",
    "       "
   ]
  }
 ],
 "metadata": {
  "kernelspec": {
   "display_name": "Python 3",
   "language": "python",
   "name": "python3"
  },
  "language_info": {
   "codemirror_mode": {
    "name": "ipython",
    "version": 3
   },
   "file_extension": ".py",
   "mimetype": "text/x-python",
   "name": "python",
   "nbconvert_exporter": "python",
   "pygments_lexer": "ipython3",
   "version": "3.7.12"
  },
  "papermill": {
   "default_parameters": {},
   "duration": 2422.683998,
   "end_time": "2023-03-06T09:54:35.596451",
   "environment_variables": {},
   "exception": null,
   "input_path": "__notebook__.ipynb",
   "output_path": "__notebook__.ipynb",
   "parameters": {},
   "start_time": "2023-03-06T09:14:12.912453",
   "version": "2.4.0"
  }
 },
 "nbformat": 4,
 "nbformat_minor": 5
}
