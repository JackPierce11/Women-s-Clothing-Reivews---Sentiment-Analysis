{
 "cells": [
  {
   "cell_type": "code",
   "execution_count": 1,
   "id": "b5a40f69",
   "metadata": {
    "_cell_guid": "b1076dfc-b9ad-4769-8c92-a6c4dae69d19",
    "_uuid": "8f2839f25d086af736a60e9eeb907d3b93b6e0e5",
    "execution": {
     "iopub.execute_input": "2023-03-02T14:54:24.332258Z",
     "iopub.status.busy": "2023-03-02T14:54:24.331700Z",
     "iopub.status.idle": "2023-03-02T14:54:24.358361Z",
     "shell.execute_reply": "2023-03-02T14:54:24.357047Z"
    },
    "papermill": {
     "duration": 0.03781,
     "end_time": "2023-03-02T14:54:24.361219",
     "exception": false,
     "start_time": "2023-03-02T14:54:24.323409",
     "status": "completed"
    },
    "tags": []
   },
   "outputs": [
    {
     "name": "stdout",
     "output_type": "stream",
     "text": [
      "/kaggle/input/data-preprocessed-bitri/data_preprocessed_bitri.csv\n",
      "/kaggle/input/wcr-w2v-model/wcr_trigrams_300features_5minwords_20context (2).bin\n"
     ]
    }
   ],
   "source": [
    "# This Python 3 environment comes with many helpful analytics libraries installed\n",
    "# It is defined by the kaggle/python Docker image: https://github.com/kaggle/docker-python\n",
    "# For example, here's several helpful packages to load\n",
    "\n",
    "import numpy as np # linear algebra\n",
    "import pandas as pd # data processing, CSV file I/O (e.g. pd.read_csv)\n",
    "\n",
    "# Input data files are available in the read-only \"../input/\" directory\n",
    "# For example, running this (by clicking run or pressing Shift+Enter) will list all files under the input directory\n",
    "\n",
    "import os\n",
    "for dirname, _, filenames in os.walk('/kaggle/input'):\n",
    "    for filename in filenames:\n",
    "        print(os.path.join(dirname, filename))\n",
    "\n",
    "# You can write up to 20GB to the current directory (/kaggle/working/) that gets preserved as output when you create a version using \"Save & Run All\" \n",
    "# You can also write temporary files to /kaggle/temp/, but they won't be saved outside of the current session"
   ]
  },
  {
   "cell_type": "markdown",
   "id": "a82d7d25",
   "metadata": {
    "papermill": {
     "duration": 0.00453,
     "end_time": "2023-03-02T14:54:24.370805",
     "exception": false,
     "start_time": "2023-03-02T14:54:24.366275",
     "status": "completed"
    },
    "tags": []
   },
   "source": [
    "# Women's Clothing Reviews - Sentiment Analysis: Model Building\n",
    "\n",
    "## Overall Project Goal\n",
    "In this project I want to understand this dataset on women's clothing reviews, create a Word2Vec model based off of the review texts in the data set and then use this Word2Vec model to build a sentiment analysis model on the dataset which attempts to predict whether the customer left a 5-star review or not.\n",
    "\n",
    "### Project Notebooks\n",
    "This notebook is part of a series of 3 notebooks on performing sentiment analysis on a dataset of women's clothing reviews.\n",
    "1. Women's Clothing Reviews - Sentiment Analysis: EDA **{ADD LINKS}**\n",
    "2. Women's Clothing Reviews - Sentiment Analysis: Building Word2Vec Model\n",
    "3. **Women's Clothing Reviews - Sentiment Analysis: Building a Sentiment Analysis Model**\n",
    "\n",
    "\n",
    "\n",
    "## Goal of this notebook: Building Word2Vec Model\n",
    "In this notebook I want to: vectorise the data, split it into test, train and validation sets and build our sentiment analysis model using an LSTM architecture to attempt to classify whether a customer left a 5-star review or not, using their review text."
   ]
  },
  {
   "cell_type": "markdown",
   "id": "4ffeead7",
   "metadata": {
    "papermill": {
     "duration": 0.004346,
     "end_time": "2023-03-02T14:54:24.379967",
     "exception": false,
     "start_time": "2023-03-02T14:54:24.375621",
     "status": "completed"
    },
    "tags": []
   },
   "source": [
    "## 1. Loading Libraries and Data"
   ]
  },
  {
   "cell_type": "code",
   "execution_count": 2,
   "id": "7116009e",
   "metadata": {
    "execution": {
     "iopub.execute_input": "2023-03-02T14:54:24.391044Z",
     "iopub.status.busy": "2023-03-02T14:54:24.390618Z",
     "iopub.status.idle": "2023-03-02T14:54:34.250191Z",
     "shell.execute_reply": "2023-03-02T14:54:34.248698Z"
    },
    "papermill": {
     "duration": 9.868695,
     "end_time": "2023-03-02T14:54:34.253301",
     "exception": false,
     "start_time": "2023-03-02T14:54:24.384606",
     "status": "completed"
    },
    "tags": []
   },
   "outputs": [],
   "source": [
    "# Data manipulation tools\n",
    "import numpy as np\n",
    "import pandas as pd\n",
    "\n",
    "# Data visualisation tools\n",
    "import matplotlib.pyplot as plt\n",
    "%matplotlib inline\n",
    "import seaborn as sns\n",
    "\n",
    "# Tools for building a LSTM model\n",
    "from sklearn.model_selection import train_test_split\n",
    "from keras.models import Sequential\n",
    "from keras.layers import Dense, LSTM, Dropout, Bidirectional\n",
    "from tensorflow.keras.layers import Embedding\n",
    "from tensorflow.keras.preprocessing.sequence import pad_sequences\n",
    "from keras.callbacks import EarlyStopping\n",
    "import tensorflow as tf\n",
    "\n",
    "# Evaluating model performance\n",
    "from sklearn.metrics import accuracy_score\n",
    "\n",
    "# To load the pretrained word2vec model\n",
    "from gensim.models import Word2Vec, Phrases"
   ]
  },
  {
   "cell_type": "code",
   "execution_count": 3,
   "id": "2f9139ca",
   "metadata": {
    "execution": {
     "iopub.execute_input": "2023-03-02T14:54:34.265632Z",
     "iopub.status.busy": "2023-03-02T14:54:34.264796Z",
     "iopub.status.idle": "2023-03-02T14:54:34.683684Z",
     "shell.execute_reply": "2023-03-02T14:54:34.682420Z"
    },
    "papermill": {
     "duration": 0.428171,
     "end_time": "2023-03-02T14:54:34.686552",
     "exception": false,
     "start_time": "2023-03-02T14:54:34.258381",
     "status": "completed"
    },
    "tags": []
   },
   "outputs": [],
   "source": [
    "# Loading the cleaned and preprocessed dataset\n",
    "data = pd.read_csv('/kaggle/input/data-preprocessed-bitri/data_preprocessed_bitri.csv', usecols=['Five Star', 'Total Text'])"
   ]
  },
  {
   "cell_type": "code",
   "execution_count": 4,
   "id": "c466c3ac",
   "metadata": {
    "execution": {
     "iopub.execute_input": "2023-03-02T14:54:34.698959Z",
     "iopub.status.busy": "2023-03-02T14:54:34.698560Z",
     "iopub.status.idle": "2023-03-02T14:54:34.725844Z",
     "shell.execute_reply": "2023-03-02T14:54:34.724421Z"
    },
    "papermill": {
     "duration": 0.036573,
     "end_time": "2023-03-02T14:54:34.728495",
     "exception": false,
     "start_time": "2023-03-02T14:54:34.691922",
     "status": "completed"
    },
    "tags": []
   },
   "outputs": [
    {
     "data": {
      "text/html": [
       "<div>\n",
       "<style scoped>\n",
       "    .dataframe tbody tr th:only-of-type {\n",
       "        vertical-align: middle;\n",
       "    }\n",
       "\n",
       "    .dataframe tbody tr th {\n",
       "        vertical-align: top;\n",
       "    }\n",
       "\n",
       "    .dataframe thead th {\n",
       "        text-align: right;\n",
       "    }\n",
       "</style>\n",
       "<table border=\"1\" class=\"dataframe\">\n",
       "  <thead>\n",
       "    <tr style=\"text-align: right;\">\n",
       "      <th></th>\n",
       "      <th>Five Star</th>\n",
       "      <th>Total Text</th>\n",
       "    </tr>\n",
       "  </thead>\n",
       "  <tbody>\n",
       "    <tr>\n",
       "      <th>0</th>\n",
       "      <td>0</td>\n",
       "      <td>['absolutely', 'wonderful', 'silky', 'sexy', '...</td>\n",
       "    </tr>\n",
       "    <tr>\n",
       "      <th>1</th>\n",
       "      <td>1</td>\n",
       "      <td>['love', 'dress', 'sooo', 'pretty', 'happen', ...</td>\n",
       "    </tr>\n",
       "    <tr>\n",
       "      <th>2</th>\n",
       "      <td>0</td>\n",
       "      <td>['major', 'design_flaw', 'high_hop', 'dress', ...</td>\n",
       "    </tr>\n",
       "    <tr>\n",
       "      <th>3</th>\n",
       "      <td>1</td>\n",
       "      <td>['favorite', 'buy', 'love', 'love', 'love', 'j...</td>\n",
       "    </tr>\n",
       "    <tr>\n",
       "      <th>4</th>\n",
       "      <td>1</td>\n",
       "      <td>['flatter', 'shirt', 'shirt', 'flatter', 'due'...</td>\n",
       "    </tr>\n",
       "  </tbody>\n",
       "</table>\n",
       "</div>"
      ],
      "text/plain": [
       "   Five Star                                         Total Text\n",
       "0          0  ['absolutely', 'wonderful', 'silky', 'sexy', '...\n",
       "1          1  ['love', 'dress', 'sooo', 'pretty', 'happen', ...\n",
       "2          0  ['major', 'design_flaw', 'high_hop', 'dress', ...\n",
       "3          1  ['favorite', 'buy', 'love', 'love', 'love', 'j...\n",
       "4          1  ['flatter', 'shirt', 'shirt', 'flatter', 'due'..."
      ]
     },
     "execution_count": 4,
     "metadata": {},
     "output_type": "execute_result"
    }
   ],
   "source": [
    "# Looking at the first 5 rows of the data\n",
    "data.head()"
   ]
  },
  {
   "cell_type": "markdown",
   "id": "a0fea0ab",
   "metadata": {
    "papermill": {
     "duration": 0.004656,
     "end_time": "2023-03-02T14:54:34.738340",
     "exception": false,
     "start_time": "2023-03-02T14:54:34.733684",
     "status": "completed"
    },
    "tags": []
   },
   "source": [
    "Now we are left with a dataframe that only contains two columns. The `Five Star` column, which is the target variable and the `Total Text` column, which is a concatenation of the title and the main text of the review. The `Total Text` column has also been preprocessed: it has had html removed, non letters removed, been made lowercase, stopwords removed and lemmatized. It has then be formatted to be a list of lists.\n",
    "\n",
    "## 2. Vectorising Data"
   ]
  },
  {
   "cell_type": "code",
   "execution_count": 5,
   "id": "88bd901a",
   "metadata": {
    "execution": {
     "iopub.execute_input": "2023-03-02T14:54:34.749760Z",
     "iopub.status.busy": "2023-03-02T14:54:34.749344Z",
     "iopub.status.idle": "2023-03-02T14:54:34.803205Z",
     "shell.execute_reply": "2023-03-02T14:54:34.801625Z"
    },
    "papermill": {
     "duration": 0.062903,
     "end_time": "2023-03-02T14:54:34.806115",
     "exception": false,
     "start_time": "2023-03-02T14:54:34.743212",
     "status": "completed"
    },
    "tags": []
   },
   "outputs": [
    {
     "name": "stdout",
     "output_type": "stream",
     "text": [
      "The longest text used in the model has a length 60\n"
     ]
    }
   ],
   "source": [
    "# Finding the longest review to use number in padding later\n",
    "longest_review = max([len(review.split()) for review in data['Total Text']])\n",
    "print(f'The longest text used in the model has a length {longest_review}')"
   ]
  },
  {
   "cell_type": "code",
   "execution_count": 6,
   "id": "d6ca3fd8",
   "metadata": {
    "execution": {
     "iopub.execute_input": "2023-03-02T14:54:34.819181Z",
     "iopub.status.busy": "2023-03-02T14:54:34.818461Z",
     "iopub.status.idle": "2023-03-02T14:54:34.983612Z",
     "shell.execute_reply": "2023-03-02T14:54:34.982583Z"
    },
    "papermill": {
     "duration": 0.174608,
     "end_time": "2023-03-02T14:54:34.986399",
     "exception": false,
     "start_time": "2023-03-02T14:54:34.811791",
     "status": "completed"
    },
    "tags": []
   },
   "outputs": [],
   "source": [
    "from gensim.models import KeyedVectors\n",
    "\n",
    "w2v_model = KeyedVectors.load_word2vec_format('/kaggle/input/wcr-w2v-model/wcr_trigrams_300features_5minwords_20context (2).bin', binary=True)"
   ]
  },
  {
   "cell_type": "code",
   "execution_count": 7,
   "id": "a3e07e48",
   "metadata": {
    "execution": {
     "iopub.execute_input": "2023-03-02T14:54:34.998486Z",
     "iopub.status.busy": "2023-03-02T14:54:34.998018Z",
     "iopub.status.idle": "2023-03-02T15:01:32.608585Z",
     "shell.execute_reply": "2023-03-02T15:01:32.607211Z"
    },
    "papermill": {
     "duration": 417.622124,
     "end_time": "2023-03-02T15:01:32.613731",
     "exception": false,
     "start_time": "2023-03-02T14:54:34.991607",
     "status": "completed"
    },
    "tags": []
   },
   "outputs": [
    {
     "name": "stdout",
     "output_type": "stream",
     "text": [
      "Vectorizing sentences...\n",
      "Vectorizing sentences... Done\n",
      "Transform sentences to sequences... (done)\n",
      "CPU times: user 6min 57s, sys: 198 ms, total: 6min 57s\n",
      "Wall time: 6min 57s\n"
     ]
    }
   ],
   "source": [
    "%%time\n",
    "def vectorize_data(X_data, vocab):\n",
    "    \n",
    "    # This function takes in text data in the format of a review being broken down into a list \n",
    "    # of tokens, and a our vocab dictionary from the word2vec model we previously trained. It\n",
    "    # outputs the reviews broken down into a list indexes which refer to the vectors trained by the w2v model\n",
    "    \n",
    "    \n",
    "    print('Vectorizing sentences...')\n",
    "    \n",
    "    # Get the keys from the vocab dictionary\n",
    "    keys = list(vocab.keys())\n",
    "    \n",
    "    # Define a function to check if a word is in the vocab\n",
    "    def is_known(word):\n",
    "        return word in keys\n",
    "    \n",
    "    # Define a function to encode a review by mapping each word to its index in the vocab\n",
    "    def encode_review(review):\n",
    "        return [keys.index(word) for word in review if is_known(word)]\n",
    "    \n",
    "    # Vectorize each review in the data using the encode_review function\n",
    "    vectorized_data = [encode_review(review) for review in X_data]\n",
    "    \n",
    "    print('Vectorizing sentences... Done')\n",
    "    return vectorized_data\n",
    "\n",
    "\n",
    "# This is padding the reviews so that they all have the same length\n",
    "input_length = longest_review\n",
    "X_pad = pad_sequences(\n",
    "    sequences=vectorize_data(data['Total Text'], vocab=w2v_model.key_to_index),\n",
    "    maxlen=input_length,\n",
    "    padding='post')\n",
    "print('Transform sentences to sequences... (done)')"
   ]
  },
  {
   "cell_type": "markdown",
   "id": "2cab9d03",
   "metadata": {
    "papermill": {
     "duration": 0.004789,
     "end_time": "2023-03-02T15:01:32.623607",
     "exception": false,
     "start_time": "2023-03-02T15:01:32.618818",
     "status": "completed"
    },
    "tags": []
   },
   "source": [
    "## 3. Splitting Data into Train, Test and Validation Sets"
   ]
  },
  {
   "cell_type": "code",
   "execution_count": 8,
   "id": "f5a15ddc",
   "metadata": {
    "execution": {
     "iopub.execute_input": "2023-03-02T15:01:32.636961Z",
     "iopub.status.busy": "2023-03-02T15:01:32.636140Z",
     "iopub.status.idle": "2023-03-02T15:01:32.641630Z",
     "shell.execute_reply": "2023-03-02T15:01:32.640484Z"
    },
    "papermill": {
     "duration": 0.015355,
     "end_time": "2023-03-02T15:01:32.644002",
     "exception": false,
     "start_time": "2023-03-02T15:01:32.628647",
     "status": "completed"
    },
    "tags": []
   },
   "outputs": [],
   "source": [
    "# Splitting the target variable and the text\n",
    "X_data = X_pad\n",
    "y_data = data['Five Star']"
   ]
  },
  {
   "cell_type": "code",
   "execution_count": 9,
   "id": "cfc896e0",
   "metadata": {
    "execution": {
     "iopub.execute_input": "2023-03-02T15:01:32.656033Z",
     "iopub.status.busy": "2023-03-02T15:01:32.655648Z",
     "iopub.status.idle": "2023-03-02T15:01:32.672219Z",
     "shell.execute_reply": "2023-03-02T15:01:32.670763Z"
    },
    "papermill": {
     "duration": 0.025675,
     "end_time": "2023-03-02T15:01:32.674898",
     "exception": false,
     "start_time": "2023-03-02T15:01:32.649223",
     "status": "completed"
    },
    "tags": []
   },
   "outputs": [
    {
     "name": "stdout",
     "output_type": "stream",
     "text": [
      "Training set length:  15848\n",
      "Validation set length:  3397\n",
      "Test set length:  3396\n"
     ]
    }
   ],
   "source": [
    "# Splitting the data into train, test and validation sets\n",
    "from sklearn.model_selection import train_test_split\n",
    "\n",
    "# Split data into train and test sets (70% for training and 30% for testing)\n",
    "X_train, X_test, y_train, y_test = train_test_split(X_data, y_data, test_size=0.3, random_state=42)\n",
    "\n",
    "# Split the test set into test and validation sets (50% each)\n",
    "X_test, X_val, y_test, y_val = train_test_split(X_test, y_test, test_size=0.5, random_state=42)\n",
    "\n",
    "print(\"Training set length: \", len(X_train))\n",
    "print(\"Validation set length: \", len(X_val))\n",
    "print(\"Test set length: \", len(X_test))"
   ]
  },
  {
   "cell_type": "markdown",
   "id": "a34bd313",
   "metadata": {
    "papermill": {
     "duration": 0.00519,
     "end_time": "2023-03-02T15:01:32.685660",
     "exception": false,
     "start_time": "2023-03-02T15:01:32.680470",
     "status": "completed"
    },
    "tags": []
   },
   "source": [
    "## 4. Building LSTM Sentiment Analysis Model"
   ]
  },
  {
   "cell_type": "code",
   "execution_count": 10,
   "id": "f61543ad",
   "metadata": {
    "execution": {
     "iopub.execute_input": "2023-03-02T15:01:32.698105Z",
     "iopub.status.busy": "2023-03-02T15:01:32.697721Z",
     "iopub.status.idle": "2023-03-02T15:33:01.034322Z",
     "shell.execute_reply": "2023-03-02T15:33:01.033394Z"
    },
    "papermill": {
     "duration": 1888.346221,
     "end_time": "2023-03-02T15:33:01.037123",
     "exception": false,
     "start_time": "2023-03-02T15:01:32.690902",
     "status": "completed"
    },
    "tags": []
   },
   "outputs": [
    {
     "name": "stdout",
     "output_type": "stream",
     "text": [
      "Model: \"sequential\"\n",
      "_________________________________________________________________\n",
      " Layer (type)                Output Shape              Param #   \n",
      "=================================================================\n",
      " embedding (Embedding)       (None, 60, 300)           1587300   \n",
      "                                                                 \n",
      " bidirectional (Bidirectiona  (None, 256)              439296    \n",
      " l)                                                              \n",
      "                                                                 \n",
      " dropout (Dropout)           (None, 256)               0         \n",
      "                                                                 \n",
      " dense (Dense)               (None, 64)                16448     \n",
      "                                                                 \n",
      " dropout_1 (Dropout)         (None, 64)                0         \n",
      "                                                                 \n",
      " dense_1 (Dense)             (None, 1)                 65        \n",
      "                                                                 \n",
      "=================================================================\n",
      "Total params: 2,043,109\n",
      "Trainable params: 455,809\n",
      "Non-trainable params: 1,587,300\n",
      "_________________________________________________________________\n",
      "Epoch 1/30\n",
      "159/159 [==============================] - 71s 412ms/step - loss: 0.6877 - accuracy: 0.5456 - val_loss: 0.6831 - val_accuracy: 0.5573\n",
      "Epoch 2/30\n",
      "159/159 [==============================] - 66s 413ms/step - loss: 0.6837 - accuracy: 0.5545 - val_loss: 0.6817 - val_accuracy: 0.5531\n",
      "Epoch 3/30\n",
      "159/159 [==============================] - 65s 411ms/step - loss: 0.6796 - accuracy: 0.5612 - val_loss: 0.6810 - val_accuracy: 0.5549\n",
      "Epoch 4/30\n",
      "159/159 [==============================] - 65s 409ms/step - loss: 0.6770 - accuracy: 0.5705 - val_loss: 0.6778 - val_accuracy: 0.5664\n",
      "Epoch 5/30\n",
      "159/159 [==============================] - 65s 408ms/step - loss: 0.6719 - accuracy: 0.5775 - val_loss: 0.6746 - val_accuracy: 0.5673\n",
      "Epoch 6/30\n",
      "159/159 [==============================] - 64s 405ms/step - loss: 0.6672 - accuracy: 0.5837 - val_loss: 0.6687 - val_accuracy: 0.5790\n",
      "Epoch 7/30\n",
      "159/159 [==============================] - 65s 407ms/step - loss: 0.6636 - accuracy: 0.5923 - val_loss: 0.6752 - val_accuracy: 0.5864\n",
      "Epoch 8/30\n",
      "159/159 [==============================] - 64s 406ms/step - loss: 0.6586 - accuracy: 0.5969 - val_loss: 0.6674 - val_accuracy: 0.5817\n",
      "Epoch 9/30\n",
      "159/159 [==============================] - 65s 409ms/step - loss: 0.6536 - accuracy: 0.6138 - val_loss: 0.6574 - val_accuracy: 0.5994\n",
      "Epoch 10/30\n",
      "159/159 [==============================] - 65s 408ms/step - loss: 0.6493 - accuracy: 0.6124 - val_loss: 0.6566 - val_accuracy: 0.6011\n",
      "Epoch 11/30\n",
      "159/159 [==============================] - 65s 410ms/step - loss: 0.6408 - accuracy: 0.6271 - val_loss: 0.6443 - val_accuracy: 0.6258\n",
      "Epoch 12/30\n",
      "159/159 [==============================] - 65s 409ms/step - loss: 0.6390 - accuracy: 0.6261 - val_loss: 0.6451 - val_accuracy: 0.6191\n",
      "Epoch 13/30\n",
      "159/159 [==============================] - 65s 410ms/step - loss: 0.6292 - accuracy: 0.6426 - val_loss: 0.6366 - val_accuracy: 0.6323\n",
      "Epoch 14/30\n",
      "159/159 [==============================] - 65s 408ms/step - loss: 0.6250 - accuracy: 0.6403 - val_loss: 0.6346 - val_accuracy: 0.6317\n",
      "Epoch 15/30\n",
      "159/159 [==============================] - 65s 406ms/step - loss: 0.6240 - accuracy: 0.6473 - val_loss: 0.6333 - val_accuracy: 0.6361\n",
      "Epoch 16/30\n",
      "159/159 [==============================] - 65s 407ms/step - loss: 0.6133 - accuracy: 0.6549 - val_loss: 0.6268 - val_accuracy: 0.6391\n",
      "Epoch 17/30\n",
      "159/159 [==============================] - 65s 410ms/step - loss: 0.6054 - accuracy: 0.6640 - val_loss: 0.6201 - val_accuracy: 0.6450\n",
      "Epoch 18/30\n",
      "159/159 [==============================] - 65s 407ms/step - loss: 0.6023 - accuracy: 0.6688 - val_loss: 0.6165 - val_accuracy: 0.6488\n",
      "Epoch 19/30\n",
      "159/159 [==============================] - 64s 406ms/step - loss: 0.5946 - accuracy: 0.6755 - val_loss: 0.6090 - val_accuracy: 0.6579\n",
      "Epoch 20/30\n",
      "159/159 [==============================] - 65s 407ms/step - loss: 0.5913 - accuracy: 0.6824 - val_loss: 0.6093 - val_accuracy: 0.6676\n",
      "Epoch 21/30\n",
      "159/159 [==============================] - 65s 409ms/step - loss: 0.5810 - accuracy: 0.6906 - val_loss: 0.5932 - val_accuracy: 0.6868\n",
      "Epoch 22/30\n",
      "159/159 [==============================] - 65s 408ms/step - loss: 0.5748 - accuracy: 0.6944 - val_loss: 0.5890 - val_accuracy: 0.6841\n",
      "Epoch 23/30\n",
      "159/159 [==============================] - 65s 409ms/step - loss: 0.5654 - accuracy: 0.7031 - val_loss: 0.5866 - val_accuracy: 0.6874\n",
      "Epoch 24/30\n",
      "159/159 [==============================] - 65s 408ms/step - loss: 0.5588 - accuracy: 0.7101 - val_loss: 0.5802 - val_accuracy: 0.6921\n",
      "Epoch 25/30\n",
      "159/159 [==============================] - 65s 408ms/step - loss: 0.5522 - accuracy: 0.7142 - val_loss: 0.5826 - val_accuracy: 0.6968\n",
      "Epoch 26/30\n",
      "159/159 [==============================] - 65s 407ms/step - loss: 0.5543 - accuracy: 0.7121 - val_loss: 0.5823 - val_accuracy: 0.6903\n",
      "Epoch 27/30\n",
      "159/159 [==============================] - 65s 407ms/step - loss: 0.5473 - accuracy: 0.7186 - val_loss: 0.6031 - val_accuracy: 0.6612\n",
      "Epoch 28/30\n",
      "159/159 [==============================] - 65s 407ms/step - loss: 0.5430 - accuracy: 0.7229 - val_loss: 0.5861 - val_accuracy: 0.6950\n",
      "Epoch 29/30\n",
      "159/159 [==============================] - 65s 406ms/step - loss: 0.5311 - accuracy: 0.7279 - val_loss: 0.5953 - val_accuracy: 0.6880\n"
     ]
    }
   ],
   "source": [
    "# Set random seed for reproducibility\n",
    "np.random.seed(42)\n",
    "tf.random.set_seed(42)\n",
    "\n",
    "# Instantiate the model\n",
    "def build_model(embedding_matrix: np.ndarray, input_length: int, random_seed: int = 42):\n",
    "    tf.random.set_seed(random_seed)\n",
    "    model = Sequential()\n",
    "    model.add(Embedding(\n",
    "        input_dim = embedding_matrix.shape[0],\n",
    "        output_dim = embedding_matrix.shape[1], \n",
    "        input_length = input_length,\n",
    "        weights = [embedding_matrix],\n",
    "        trainable=False))\n",
    "    model.add(Bidirectional(LSTM(128, recurrent_dropout=0.1)))\n",
    "    model.add(Dropout(0.25))\n",
    "    model.add(Dense(64))\n",
    "    model.add(Dropout(0.3))\n",
    "    model.add(Dense(1, activation='sigmoid'))\n",
    "    model.summary()\n",
    "    return model\n",
    "\n",
    "# Build the model using the w2v vectors\n",
    "model = build_model(\n",
    "    embedding_matrix=w2v_model.vectors,\n",
    "    input_length=input_length,\n",
    "    random_seed=42)\n",
    "\n",
    "# Compile the model\n",
    "model.compile(\n",
    "    loss=\"binary_crossentropy\",\n",
    "    optimizer='adam',\n",
    "    metrics=['accuracy'])\n",
    "\n",
    "# Add early stop to stop training if val loss stops changing\n",
    "early_stop = EarlyStopping(monitor='val_loss', patience=5)\n",
    "\n",
    "# Fit the model to the data\n",
    "history = model.fit(\n",
    "    x=X_train,\n",
    "    y=y_train,\n",
    "    validation_data=(X_val, y_val),\n",
    "    batch_size=100,\n",
    "    epochs=30, \n",
    "    callbacks=[early_stop])\n",
    "\n",
    "# Saving the trainined model\n",
    "model.save('LSTM_model_30epochs.h5')"
   ]
  },
  {
   "cell_type": "code",
   "execution_count": 11,
   "id": "dc75576d",
   "metadata": {
    "execution": {
     "iopub.execute_input": "2023-03-02T15:33:01.642634Z",
     "iopub.status.busy": "2023-03-02T15:33:01.642175Z",
     "iopub.status.idle": "2023-03-02T15:33:02.073312Z",
     "shell.execute_reply": "2023-03-02T15:33:02.071978Z"
    },
    "papermill": {
     "duration": 0.737638,
     "end_time": "2023-03-02T15:33:02.076749",
     "exception": false,
     "start_time": "2023-03-02T15:33:01.339111",
     "status": "completed"
    },
    "tags": []
   },
   "outputs": [
    {
     "data": {
      "image/png": "[encoded data removed]",
      "text/plain": [
       "<Figure size 1600x600 with 2 Axes>"
      ]
     },
     "metadata": {},
     "output_type": "display_data"
    }
   ],
   "source": [
    "fig, (axis1, axis2) = plt.subplots(nrows=1, ncols=2, figsize=(16,6))\n",
    "\n",
    "# summarize history for accuracy\n",
    "axis1.plot(history.history['accuracy'], label='Train', linewidth=3)\n",
    "axis1.plot(history.history['val_accuracy'], label='Validation', linewidth=3)\n",
    "axis1.set_title('Model accuracy', fontsize=16)\n",
    "axis1.set_ylabel('accuracy')\n",
    "axis1.set_xlabel('epoch')\n",
    "axis1.legend(loc='upper left')\n",
    "\n",
    "# summarize history for loss\n",
    "axis2.plot(history.history['loss'], label='Train', linewidth=3)\n",
    "axis2.plot(history.history['val_loss'], label='Validation', linewidth=3)\n",
    "axis2.set_title('Model loss', fontsize=16)\n",
    "axis2.set_ylabel('loss')\n",
    "axis2.set_xlabel('epoch')\n",
    "axis2.legend(loc='upper right')\n",
    "plt.show()"
   ]
  },
  {
   "cell_type": "code",
   "execution_count": 12,
   "id": "58c25c73",
   "metadata": {
    "execution": {
     "iopub.execute_input": "2023-03-02T15:33:02.679557Z",
     "iopub.status.busy": "2023-03-02T15:33:02.678560Z",
     "iopub.status.idle": "2023-03-02T15:33:08.325240Z",
     "shell.execute_reply": "2023-03-02T15:33:08.323087Z"
    },
    "papermill": {
     "duration": 5.949196,
     "end_time": "2023-03-02T15:33:08.327940",
     "exception": false,
     "start_time": "2023-03-02T15:33:02.378744",
     "status": "completed"
    },
    "tags": []
   },
   "outputs": [
    {
     "name": "stdout",
     "output_type": "stream",
     "text": [
      "107/107 [==============================] - 4s 33ms/step\n",
      "The accuracy score on the test set is 0.691\n"
     ]
    }
   ],
   "source": [
    "# Make predictions on the test data\n",
    "y_test_preds = model.predict(X_test)\n",
    "y_test_preds = (y_test_preds > 0.5).astype(int)\n",
    "test_accuracy = accuracy_score(y_test, y_test_preds)\n",
    "\n",
    "print(f'The accuracy score on the test set is {test_accuracy:.3f}')"
   ]
  },
  {
   "cell_type": "code",
   "execution_count": 13,
   "id": "f47b7230",
   "metadata": {
    "execution": {
     "iopub.execute_input": "2023-03-02T15:33:08.999190Z",
     "iopub.status.busy": "2023-03-02T15:33:08.997967Z",
     "iopub.status.idle": "2023-03-02T15:33:09.006116Z",
     "shell.execute_reply": "2023-03-02T15:33:09.004959Z"
    },
    "papermill": {
     "duration": 0.314414,
     "end_time": "2023-03-02T15:33:09.008350",
     "exception": false,
     "start_time": "2023-03-02T15:33:08.693936",
     "status": "completed"
    },
    "tags": []
   },
   "outputs": [
    {
     "data": {
      "text/plain": [
       "Int64Index([10936, 14320, 22062,  9298, 21681,  3187, 15808,  1704,  6692,\n",
       "             6377,\n",
       "            ...\n",
       "               49,  8692, 16699,  3410,  2893, 15446, 11960, 14197, 16882,\n",
       "            14811],\n",
       "           dtype='int64', length=3396)"
      ]
     },
     "execution_count": 13,
     "metadata": {},
     "output_type": "execute_result"
    }
   ],
   "source": [
    "y_test.index"
   ]
  },
  {
   "cell_type": "code",
   "execution_count": null,
   "id": "98973a9e",
   "metadata": {
    "papermill": {
     "duration": 0.303479,
     "end_time": "2023-03-02T15:33:09.615673",
     "exception": false,
     "start_time": "2023-03-02T15:33:09.312194",
     "status": "completed"
    },
    "tags": []
   },
   "outputs": [],
   "source": []
  },
  {
   "cell_type": "markdown",
   "id": "7ca2ff0b",
   "metadata": {
    "papermill": {
     "duration": 0.305462,
     "end_time": "2023-03-02T15:33:10.223133",
     "exception": false,
     "start_time": "2023-03-02T15:33:09.917671",
     "status": "completed"
    },
    "tags": []
   },
   "source": [
    "# Todo\n",
    "- Add a section looking at the predictions against the reality.\n",
    "    - I want to see how well the model performed on different ratings (need to find a way to make a df that has all ratings again not just 5 star or not)\n",
    "- Add a conclusion section that summarises what I have done in the project and summarises the results\n",
    "- Talk about how good the result was and investigate the quality of the data\n",
    "    - For example see if it is very hard to predict whether a review was 4 or 5 star because the text is very positive etc.\n",
    "        - Discuss what this could be due to and how it limits the predictability of the model\n",
    "       "
   ]
  }
 ],
 "metadata": {
  "kernelspec": {
   "display_name": "Python 3",
   "language": "python",
   "name": "python3"
  },
  "language_info": {
   "codemirror_mode": {
    "name": "ipython",
    "version": 3
   },
   "file_extension": ".py",
   "mimetype": "text/x-python",
   "name": "python",
   "nbconvert_exporter": "python",
   "pygments_lexer": "ipython3",
   "version": "3.7.12"
  },
  "papermill": {
   "default_parameters": {},
   "duration": 2339.209929,
   "end_time": "2023-03-02T15:33:13.585212",
   "environment_variables": {},
   "exception": null,
   "input_path": "__notebook__.ipynb",
   "output_path": "__notebook__.ipynb",
   "parameters": {},
   "start_time": "2023-03-02T14:54:14.375283",
   "version": "2.4.0"
  }
 },
 "nbformat": 4,
 "nbformat_minor": 5
}
