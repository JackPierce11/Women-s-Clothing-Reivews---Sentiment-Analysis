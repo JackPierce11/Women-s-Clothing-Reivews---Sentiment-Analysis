{
 "cells": [
  {
   "cell_type": "code",
   "execution_count": 1,
   "id": "50cba33c",
   "metadata": {
    "_cell_guid": "b1076dfc-b9ad-4769-8c92-a6c4dae69d19",
    "_uuid": "8f2839f25d086af736a60e9eeb907d3b93b6e0e5",
    "execution": {
     "iopub.execute_input": "2023-03-01T09:46:54.218017Z",
     "iopub.status.busy": "2023-03-01T09:46:54.217551Z",
     "iopub.status.idle": "2023-03-01T09:46:54.241998Z",
     "shell.execute_reply": "2023-03-01T09:46:54.240369Z"
    },
    "papermill": {
     "duration": 0.041797,
     "end_time": "2023-03-01T09:46:54.244936",
     "exception": false,
     "start_time": "2023-03-01T09:46:54.203139",
     "status": "completed"
    },
    "tags": []
   },
   "outputs": [
    {
     "name": "stdout",
     "output_type": "stream",
     "text": [
      "/kaggle/input/womens-ecommerce-clothing-reviews/Womens Clothing E-Commerce Reviews.csv\n"
     ]
    }
   ],
   "source": [
    "# This Python 3 environment comes with many helpful analytics libraries installed\n",
    "# It is defined by the kaggle/python Docker image: https://github.com/kaggle/docker-python\n",
    "# For example, here's several helpful packages to load\n",
    "\n",
    "import numpy as np # linear algebra\n",
    "import pandas as pd # data processing, CSV file I/O (e.g. pd.read_csv)\n",
    "\n",
    "# Input data files are available in the read-only \"../input/\" directory\n",
    "# For example, running this (by clicking run or pressing Shift+Enter) will list all files under the input directory\n",
    "\n",
    "import os\n",
    "for dirname, _, filenames in os.walk('/kaggle/input'):\n",
    "    for filename in filenames:\n",
    "        print(os.path.join(dirname, filename))\n",
    "\n",
    "# You can write up to 20GB to the current directory (/kaggle/working/) that gets preserved as output when you create a version using \"Save & Run All\" \n",
    "# You can also write temporary files to /kaggle/temp/, but they won't be saved outside of the current session"
   ]
  },
  {
   "cell_type": "markdown",
   "id": "a81f7337",
   "metadata": {
    "papermill": {
     "duration": 0.010538,
     "end_time": "2023-03-01T09:46:54.266239",
     "exception": false,
     "start_time": "2023-03-01T09:46:54.255701",
     "status": "completed"
    },
    "tags": []
   },
   "source": [
    "# Women's Clothing Reviews - Sentiment Analysis: EDA\n",
    "\n",
    "## Overall Project Goal\n",
    "In this project I want to understand this dataset on women's clothing reviews, create a Word2Vec model based off of the review texts in the data set and then use this Word2Vec model to build a sentiment analysis model on the dataset which attempts to predict whether the customer left a 5-star review or not.\n",
    "\n",
    "### Project Notebooks\n",
    "This notebook is part of a series of 3 notebooks on performing sentiment analysis on a dataset of women's clothing reviews.\n",
    "1. **Women's Clothing Reviews - Sentiment Analysis: EDA**\n",
    "2. Women's Clothing Reviews - Sentiment Analysis: Building Word2Vec Model **{ADD LINKS}**\n",
    "3. Women's Clothing Reviews - Sentiment Analysis: Building a Sentiment Analysis Model\n",
    "\n",
    "\n",
    "\n",
    "## Goal of this notebook: EDA\n",
    "In this notebook, I want to explore the dataset to get a better understanding of the data. Look more closely at the target variable and also do some very light data cleaning on the original data, removing data that is completely irrelevant to our goal.\n",
    "\n",
    "---\n",
    "---\n",
    "---\n",
    "\n",
    "## 1. Getting Familiar with the Data\n",
    "\n",
    "- **Clothing ID:** Integer Categorical variable that refers to the specific piece being reviewed.\n",
    "- **Age:** Positive Integer variable of the reviewers age.\n",
    "- **Title:** String variable for the title of the review.\n",
    "- **Review Text:** String variable for the review body.\n",
    "- **Rating:** Positive Ordinal Integer variable for the product score granted by the customer from 1 -Worst, to 5 Best.\n",
    "- **Recommended IND:** Binary variable stating where the customer recommends the product where 1 is recommended, 0 is not recommended.\n",
    "- **Positive Feedback Count:** Positive Integer documenting the number of other customers who found this review positive.\n",
    "- **Division Name:** Categorical name of the product high level division.\n",
    "- **Department Name:** Categorical name of the product department name.\n",
    "- **Class Name:** Categorical name of the product class name."
   ]
  },
  {
   "cell_type": "code",
   "execution_count": 2,
   "id": "c116c3e5",
   "metadata": {
    "execution": {
     "iopub.execute_input": "2023-03-01T09:46:54.290212Z",
     "iopub.status.busy": "2023-03-01T09:46:54.289510Z",
     "iopub.status.idle": "2023-03-01T09:46:55.404783Z",
     "shell.execute_reply": "2023-03-01T09:46:55.403367Z"
    },
    "papermill": {
     "duration": 1.130441,
     "end_time": "2023-03-01T09:46:55.407696",
     "exception": false,
     "start_time": "2023-03-01T09:46:54.277255",
     "status": "completed"
    },
    "tags": []
   },
   "outputs": [],
   "source": [
    "import matplotlib.pyplot as plt\n",
    "%matplotlib inline\n",
    "import seaborn as sns"
   ]
  },
  {
   "cell_type": "code",
   "execution_count": 3,
   "id": "36acf5bd",
   "metadata": {
    "execution": {
     "iopub.execute_input": "2023-03-01T09:46:55.431871Z",
     "iopub.status.busy": "2023-03-01T09:46:55.430814Z",
     "iopub.status.idle": "2023-03-01T09:46:55.708528Z",
     "shell.execute_reply": "2023-03-01T09:46:55.707417Z"
    },
    "papermill": {
     "duration": 0.29271,
     "end_time": "2023-03-01T09:46:55.711629",
     "exception": false,
     "start_time": "2023-03-01T09:46:55.418919",
     "status": "completed"
    },
    "tags": []
   },
   "outputs": [],
   "source": [
    "# Importing the dataset\n",
    "data = pd.read_csv('/kaggle/input/womens-ecommerce-clothing-reviews/Womens Clothing E-Commerce Reviews.csv', index_col='Unnamed: 0')"
   ]
  },
  {
   "cell_type": "code",
   "execution_count": 4,
   "id": "3c7ba557",
   "metadata": {
    "execution": {
     "iopub.execute_input": "2023-03-01T09:46:55.734929Z",
     "iopub.status.busy": "2023-03-01T09:46:55.734443Z",
     "iopub.status.idle": "2023-03-01T09:46:55.759084Z",
     "shell.execute_reply": "2023-03-01T09:46:55.757773Z"
    },
    "papermill": {
     "duration": 0.039977,
     "end_time": "2023-03-01T09:46:55.762397",
     "exception": false,
     "start_time": "2023-03-01T09:46:55.722420",
     "status": "completed"
    },
    "tags": []
   },
   "outputs": [
    {
     "data": {
      "text/html": [
       "<div>\n",
       "<style scoped>\n",
       "    .dataframe tbody tr th:only-of-type {\n",
       "        vertical-align: middle;\n",
       "    }\n",
       "\n",
       "    .dataframe tbody tr th {\n",
       "        vertical-align: top;\n",
       "    }\n",
       "\n",
       "    .dataframe thead th {\n",
       "        text-align: right;\n",
       "    }\n",
       "</style>\n",
       "<table border=\"1\" class=\"dataframe\">\n",
       "  <thead>\n",
       "    <tr style=\"text-align: right;\">\n",
       "      <th></th>\n",
       "      <th>Clothing ID</th>\n",
       "      <th>Age</th>\n",
       "      <th>Title</th>\n",
       "      <th>Review Text</th>\n",
       "      <th>Rating</th>\n",
       "      <th>Recommended IND</th>\n",
       "      <th>Positive Feedback Count</th>\n",
       "      <th>Division Name</th>\n",
       "      <th>Department Name</th>\n",
       "      <th>Class Name</th>\n",
       "    </tr>\n",
       "  </thead>\n",
       "  <tbody>\n",
       "    <tr>\n",
       "      <th>0</th>\n",
       "      <td>767</td>\n",
       "      <td>33</td>\n",
       "      <td>NaN</td>\n",
       "      <td>Absolutely wonderful - silky and sexy and comfortable</td>\n",
       "      <td>4</td>\n",
       "      <td>1</td>\n",
       "      <td>0</td>\n",
       "      <td>Initmates</td>\n",
       "      <td>Intimate</td>\n",
       "      <td>Intimates</td>\n",
       "    </tr>\n",
       "    <tr>\n",
       "      <th>1</th>\n",
       "      <td>1080</td>\n",
       "      <td>34</td>\n",
       "      <td>NaN</td>\n",
       "      <td>Love this dress!  it's sooo pretty.  i happened to find it in a store, and i'm glad i did bc i never would have ordered it online bc it's petite.  i bought a petite and am 5'8\".  i love the length on me- hits just a little below the knee.  would definitely be a true midi on someone who is truly petite.</td>\n",
       "      <td>5</td>\n",
       "      <td>1</td>\n",
       "      <td>4</td>\n",
       "      <td>General</td>\n",
       "      <td>Dresses</td>\n",
       "      <td>Dresses</td>\n",
       "    </tr>\n",
       "    <tr>\n",
       "      <th>2</th>\n",
       "      <td>1077</td>\n",
       "      <td>60</td>\n",
       "      <td>Some major design flaws</td>\n",
       "      <td>I had such high hopes for this dress and really wanted it to work for me. i initially ordered the petite small (my usual size) but i found this to be outrageously small. so small in fact that i could not zip it up! i reordered it in petite medium, which was just ok. overall, the top half was comfortable and fit nicely, but the bottom half had a very tight under layer and several somewhat cheap (net) over layers. imo, a major design flaw was the net over layer sewn directly into the zipper - it c</td>\n",
       "      <td>3</td>\n",
       "      <td>0</td>\n",
       "      <td>0</td>\n",
       "      <td>General</td>\n",
       "      <td>Dresses</td>\n",
       "      <td>Dresses</td>\n",
       "    </tr>\n",
       "    <tr>\n",
       "      <th>3</th>\n",
       "      <td>1049</td>\n",
       "      <td>50</td>\n",
       "      <td>My favorite buy!</td>\n",
       "      <td>I love, love, love this jumpsuit. it's fun, flirty, and fabulous! every time i wear it, i get nothing but great compliments!</td>\n",
       "      <td>5</td>\n",
       "      <td>1</td>\n",
       "      <td>0</td>\n",
       "      <td>General Petite</td>\n",
       "      <td>Bottoms</td>\n",
       "      <td>Pants</td>\n",
       "    </tr>\n",
       "    <tr>\n",
       "      <th>4</th>\n",
       "      <td>847</td>\n",
       "      <td>47</td>\n",
       "      <td>Flattering shirt</td>\n",
       "      <td>This shirt is very flattering to all due to the adjustable front tie. it is the perfect length to wear with leggings and it is sleeveless so it pairs well with any cardigan. love this shirt!!!</td>\n",
       "      <td>5</td>\n",
       "      <td>1</td>\n",
       "      <td>6</td>\n",
       "      <td>General</td>\n",
       "      <td>Tops</td>\n",
       "      <td>Blouses</td>\n",
       "    </tr>\n",
       "    <tr>\n",
       "      <th>5</th>\n",
       "      <td>1080</td>\n",
       "      <td>49</td>\n",
       "      <td>Not for the very petite</td>\n",
       "      <td>I love tracy reese dresses, but this one is not for the very petite. i am just under 5 feet tall and usually wear a 0p in this brand. this dress was very pretty out of the package but its a lot of dress. the skirt is long and very full so it overwhelmed my small frame. not a stranger to alterations, shortening and narrowing the skirt would take away from the embellishment of the garment. i love the color and the idea of the style but it just did not work on me. i returned this dress.</td>\n",
       "      <td>2</td>\n",
       "      <td>0</td>\n",
       "      <td>4</td>\n",
       "      <td>General</td>\n",
       "      <td>Dresses</td>\n",
       "      <td>Dresses</td>\n",
       "    </tr>\n",
       "    <tr>\n",
       "      <th>6</th>\n",
       "      <td>858</td>\n",
       "      <td>39</td>\n",
       "      <td>Cagrcoal shimmer fun</td>\n",
       "      <td>I aded this in my basket at hte last mintue to see what it would look like in person. (store pick up). i went with teh darkler color only because i am so pale :-) hte color is really gorgeous, and turns out it mathced everythiing i was trying on with it prefectly. it is a little baggy on me and hte xs is hte msallet size (bummer, no petite). i decided to jkeep it though, because as i said, it matvehd everything. my ejans, pants, and the 3 skirts i waas trying on (of which i ]kept all ) oops.</td>\n",
       "      <td>5</td>\n",
       "      <td>1</td>\n",
       "      <td>1</td>\n",
       "      <td>General Petite</td>\n",
       "      <td>Tops</td>\n",
       "      <td>Knits</td>\n",
       "    </tr>\n",
       "    <tr>\n",
       "      <th>7</th>\n",
       "      <td>858</td>\n",
       "      <td>39</td>\n",
       "      <td>Shimmer, surprisingly goes with lots</td>\n",
       "      <td>I ordered this in carbon for store pick up, and had a ton of stuff (as always) to try on and used this top to pair (skirts and pants). everything went with it. the color is really nice charcoal with shimmer, and went well with pencil skirts, flare pants, etc. my only compaint is it is a bit big, sleeves are long and it doesn't go in petite. also a bit loose for me, but no xxs... so i kept it and wil ldecide later since the light color is already sold out in hte smallest size...</td>\n",
       "      <td>4</td>\n",
       "      <td>1</td>\n",
       "      <td>4</td>\n",
       "      <td>General Petite</td>\n",
       "      <td>Tops</td>\n",
       "      <td>Knits</td>\n",
       "    </tr>\n",
       "    <tr>\n",
       "      <th>8</th>\n",
       "      <td>1077</td>\n",
       "      <td>24</td>\n",
       "      <td>Flattering</td>\n",
       "      <td>I love this dress. i usually get an xs but it runs a little snug in bust so i ordered up a size. very flattering and feminine with the usual retailer flair for style.</td>\n",
       "      <td>5</td>\n",
       "      <td>1</td>\n",
       "      <td>0</td>\n",
       "      <td>General</td>\n",
       "      <td>Dresses</td>\n",
       "      <td>Dresses</td>\n",
       "    </tr>\n",
       "    <tr>\n",
       "      <th>9</th>\n",
       "      <td>1077</td>\n",
       "      <td>34</td>\n",
       "      <td>Such a fun dress!</td>\n",
       "      <td>I'm 5\"5' and 125 lbs. i ordered the s petite to make sure the length wasn't too long. i typically wear an xs regular in retailer dresses. if you're less busty (34b cup or smaller), a s petite will fit you perfectly (snug, but not tight). i love that i could dress it up for a party, or down for work. i love that the tulle is longer then the fabric underneath.</td>\n",
       "      <td>5</td>\n",
       "      <td>1</td>\n",
       "      <td>0</td>\n",
       "      <td>General</td>\n",
       "      <td>Dresses</td>\n",
       "      <td>Dresses</td>\n",
       "    </tr>\n",
       "  </tbody>\n",
       "</table>\n",
       "</div>"
      ],
      "text/plain": [
       "   Clothing ID  Age                                 Title  \\\n",
       "0          767   33                                   NaN   \n",
       "1         1080   34                                   NaN   \n",
       "2         1077   60               Some major design flaws   \n",
       "3         1049   50                      My favorite buy!   \n",
       "4          847   47                      Flattering shirt   \n",
       "5         1080   49               Not for the very petite   \n",
       "6          858   39                  Cagrcoal shimmer fun   \n",
       "7          858   39  Shimmer, surprisingly goes with lots   \n",
       "8         1077   24                            Flattering   \n",
       "9         1077   34                     Such a fun dress!   \n",
       "\n",
       "                                                                                                                                                                                                                                                                                                                                                                                                                                                                                                            Review Text  \\\n",
       "0                                                                                                                                                                                                                                                                                                                                                                                                                                                                 Absolutely wonderful - silky and sexy and comfortable   \n",
       "1                                                                                                                                                                                                       Love this dress!  it's sooo pretty.  i happened to find it in a store, and i'm glad i did bc i never would have ordered it online bc it's petite.  i bought a petite and am 5'8\".  i love the length on me- hits just a little below the knee.  would definitely be a true midi on someone who is truly petite.   \n",
       "2  I had such high hopes for this dress and really wanted it to work for me. i initially ordered the petite small (my usual size) but i found this to be outrageously small. so small in fact that i could not zip it up! i reordered it in petite medium, which was just ok. overall, the top half was comfortable and fit nicely, but the bottom half had a very tight under layer and several somewhat cheap (net) over layers. imo, a major design flaw was the net over layer sewn directly into the zipper - it c   \n",
       "3                                                                                                                                                                                                                                                                                                                                                                                          I love, love, love this jumpsuit. it's fun, flirty, and fabulous! every time i wear it, i get nothing but great compliments!   \n",
       "4                                                                                                                                                                                                                                                                                                                      This shirt is very flattering to all due to the adjustable front tie. it is the perfect length to wear with leggings and it is sleeveless so it pairs well with any cardigan. love this shirt!!!   \n",
       "5              I love tracy reese dresses, but this one is not for the very petite. i am just under 5 feet tall and usually wear a 0p in this brand. this dress was very pretty out of the package but its a lot of dress. the skirt is long and very full so it overwhelmed my small frame. not a stranger to alterations, shortening and narrowing the skirt would take away from the embellishment of the garment. i love the color and the idea of the style but it just did not work on me. i returned this dress.   \n",
       "6      I aded this in my basket at hte last mintue to see what it would look like in person. (store pick up). i went with teh darkler color only because i am so pale :-) hte color is really gorgeous, and turns out it mathced everythiing i was trying on with it prefectly. it is a little baggy on me and hte xs is hte msallet size (bummer, no petite). i decided to jkeep it though, because as i said, it matvehd everything. my ejans, pants, and the 3 skirts i waas trying on (of which i ]kept all ) oops.   \n",
       "7                    I ordered this in carbon for store pick up, and had a ton of stuff (as always) to try on and used this top to pair (skirts and pants). everything went with it. the color is really nice charcoal with shimmer, and went well with pencil skirts, flare pants, etc. my only compaint is it is a bit big, sleeves are long and it doesn't go in petite. also a bit loose for me, but no xxs... so i kept it and wil ldecide later since the light color is already sold out in hte smallest size...   \n",
       "8                                                                                                                                                                                                                                                                                                                                                I love this dress. i usually get an xs but it runs a little snug in bust so i ordered up a size. very flattering and feminine with the usual retailer flair for style.   \n",
       "9                                                                                                                                              I'm 5\"5' and 125 lbs. i ordered the s petite to make sure the length wasn't too long. i typically wear an xs regular in retailer dresses. if you're less busty (34b cup or smaller), a s petite will fit you perfectly (snug, but not tight). i love that i could dress it up for a party, or down for work. i love that the tulle is longer then the fabric underneath.   \n",
       "\n",
       "   Rating  Recommended IND  Positive Feedback Count   Division Name  \\\n",
       "0       4                1                        0       Initmates   \n",
       "1       5                1                        4         General   \n",
       "2       3                0                        0         General   \n",
       "3       5                1                        0  General Petite   \n",
       "4       5                1                        6         General   \n",
       "5       2                0                        4         General   \n",
       "6       5                1                        1  General Petite   \n",
       "7       4                1                        4  General Petite   \n",
       "8       5                1                        0         General   \n",
       "9       5                1                        0         General   \n",
       "\n",
       "  Department Name Class Name  \n",
       "0        Intimate  Intimates  \n",
       "1         Dresses    Dresses  \n",
       "2         Dresses    Dresses  \n",
       "3         Bottoms      Pants  \n",
       "4            Tops    Blouses  \n",
       "5         Dresses    Dresses  \n",
       "6            Tops      Knits  \n",
       "7            Tops      Knits  \n",
       "8         Dresses    Dresses  \n",
       "9         Dresses    Dresses  "
      ]
     },
     "execution_count": 4,
     "metadata": {},
     "output_type": "execute_result"
    }
   ],
   "source": [
    "# Looking at the first 10 rows of the data\n",
    "pd.options.display.max_colwidth = 600\n",
    "data.head(10)"
   ]
  },
  {
   "cell_type": "code",
   "execution_count": 5,
   "id": "d974054f",
   "metadata": {
    "execution": {
     "iopub.execute_input": "2023-03-01T09:46:55.787150Z",
     "iopub.status.busy": "2023-03-01T09:46:55.786749Z",
     "iopub.status.idle": "2023-03-01T09:46:55.815412Z",
     "shell.execute_reply": "2023-03-01T09:46:55.813942Z"
    },
    "papermill": {
     "duration": 0.045627,
     "end_time": "2023-03-01T09:46:55.819450",
     "exception": false,
     "start_time": "2023-03-01T09:46:55.773823",
     "status": "completed"
    },
    "tags": []
   },
   "outputs": [
    {
     "name": "stdout",
     "output_type": "stream",
     "text": [
      "<class 'pandas.core.frame.DataFrame'>\n",
      "Int64Index: 23486 entries, 0 to 23485\n",
      "Data columns (total 10 columns):\n",
      " #   Column                   Non-Null Count  Dtype \n",
      "---  ------                   --------------  ----- \n",
      " 0   Clothing ID              23486 non-null  int64 \n",
      " 1   Age                      23486 non-null  int64 \n",
      " 2   Title                    19676 non-null  object\n",
      " 3   Review Text              22641 non-null  object\n",
      " 4   Rating                   23486 non-null  int64 \n",
      " 5   Recommended IND          23486 non-null  int64 \n",
      " 6   Positive Feedback Count  23486 non-null  int64 \n",
      " 7   Division Name            23472 non-null  object\n",
      " 8   Department Name          23472 non-null  object\n",
      " 9   Class Name               23472 non-null  object\n",
      "dtypes: int64(5), object(5)\n",
      "memory usage: 2.0+ MB\n"
     ]
    }
   ],
   "source": [
    "# General information on the dataset\n",
    "data.info()"
   ]
  },
  {
   "cell_type": "markdown",
   "id": "5781e111",
   "metadata": {
    "papermill": {
     "duration": 0.011477,
     "end_time": "2023-03-01T09:46:55.843544",
     "exception": false,
     "start_time": "2023-03-01T09:46:55.832067",
     "status": "completed"
    },
    "tags": []
   },
   "source": [
    "#### Observations:\n",
    "- We can see that there are 5 columns of the integer data type and 5 object columns\n",
    "    - `Clothing ID` is not continuous data (will be changed to object datatype)\n",
    "    - `Rating` is ordinal data\n",
    "    - `Recommended IND` is categorical data (will leave as int64 datatype)\n",
    "- We can see that there is some missing data, we will explore this later"
   ]
  },
  {
   "cell_type": "code",
   "execution_count": 6,
   "id": "45984ceb",
   "metadata": {
    "execution": {
     "iopub.execute_input": "2023-03-01T09:46:55.869565Z",
     "iopub.status.busy": "2023-03-01T09:46:55.868157Z",
     "iopub.status.idle": "2023-03-01T09:46:55.887438Z",
     "shell.execute_reply": "2023-03-01T09:46:55.886416Z"
    },
    "papermill": {
     "duration": 0.03504,
     "end_time": "2023-03-01T09:46:55.889968",
     "exception": false,
     "start_time": "2023-03-01T09:46:55.854928",
     "status": "completed"
    },
    "tags": []
   },
   "outputs": [],
   "source": [
    "# Changing `Clothing ID` datatype to object\n",
    "data['Clothing ID'] = data['Clothing ID'].astype(object)\n",
    "\n",
    "# Renaming `Recommended IND`\n",
    "data = data.rename(columns={'Recommended IND': 'Recommend'})"
   ]
  },
  {
   "cell_type": "markdown",
   "id": "98c5e69b",
   "metadata": {
    "papermill": {
     "duration": 0.01121,
     "end_time": "2023-03-01T09:46:55.913273",
     "exception": false,
     "start_time": "2023-03-01T09:46:55.902063",
     "status": "completed"
    },
    "tags": []
   },
   "source": [
    "### 1.1 Finding Missing Data\n",
    "\n",
    "We will rigorously deal with missing data in the data cleaning notebook. For now let's look at sources of missing data so that it can be taken into account during EDA and perform simple data cleaning where necessary."
   ]
  },
  {
   "cell_type": "code",
   "execution_count": 7,
   "id": "021e328d",
   "metadata": {
    "execution": {
     "iopub.execute_input": "2023-03-01T09:46:55.937019Z",
     "iopub.status.busy": "2023-03-01T09:46:55.936590Z",
     "iopub.status.idle": "2023-03-01T09:46:55.956282Z",
     "shell.execute_reply": "2023-03-01T09:46:55.955372Z"
    },
    "papermill": {
     "duration": 0.034336,
     "end_time": "2023-03-01T09:46:55.958522",
     "exception": false,
     "start_time": "2023-03-01T09:46:55.924186",
     "status": "completed"
    },
    "tags": []
   },
   "outputs": [
    {
     "data": {
      "text/plain": [
       "Clothing ID                   0\n",
       "Age                           0\n",
       "Title                      3810\n",
       "Review Text                 845\n",
       "Rating                        0\n",
       "Recommend                     0\n",
       "Positive Feedback Count       0\n",
       "Division Name                14\n",
       "Department Name              14\n",
       "Class Name                   14\n",
       "dtype: int64"
      ]
     },
     "execution_count": 7,
     "metadata": {},
     "output_type": "execute_result"
    }
   ],
   "source": [
    "# Looking at the missing data in every column\n",
    "data.isna().sum()"
   ]
  },
  {
   "cell_type": "markdown",
   "id": "e76a2396",
   "metadata": {
    "papermill": {
     "duration": 0.010691,
     "end_time": "2023-03-01T09:46:55.980272",
     "exception": false,
     "start_time": "2023-03-01T09:46:55.969581",
     "status": "completed"
    },
    "tags": []
   },
   "source": [
    "**Observations**:\n",
    "- We can see that the last three columns have some missing data, these columns are not relevent to our project and will be removed in the cleaned dataset anyway.\n",
    "- We are missing 3810 titles, which is quite a high amount. In the final model we could ignore titles, append them to the full review text, try to feature engineer rows with missing titles etc.\n",
    "- We are missing 845 reviews. Because we want to perform sentiment analysis on the reviews in the dataset, these rows will be removed from the dataset."
   ]
  },
  {
   "cell_type": "markdown",
   "id": "fc88b3f1",
   "metadata": {
    "papermill": {
     "duration": 0.013889,
     "end_time": "2023-03-01T09:46:56.006229",
     "exception": false,
     "start_time": "2023-03-01T09:46:55.992340",
     "status": "completed"
    },
    "tags": []
   },
   "source": [
    "## 2. EDA\n",
    "\n",
    "### 2.1 EDA: Numerical and Ordinal Variables\n",
    "\n",
    "Let's look at the distributions for the numerical and ordinal data."
   ]
  },
  {
   "cell_type": "code",
   "execution_count": 8,
   "id": "7c35cd52",
   "metadata": {
    "execution": {
     "iopub.execute_input": "2023-03-01T09:46:56.031290Z",
     "iopub.status.busy": "2023-03-01T09:46:56.030499Z",
     "iopub.status.idle": "2023-03-01T09:46:57.204180Z",
     "shell.execute_reply": "2023-03-01T09:46:57.202886Z"
    },
    "papermill": {
     "duration": 1.189246,
     "end_time": "2023-03-01T09:46:57.206980",
     "exception": false,
     "start_time": "2023-03-01T09:46:56.017734",
     "status": "completed"
    },
    "tags": []
   },
   "outputs": [
    {
     "data": {
      "image/png": "[encoded data removed]",
      "text/plain": [
       "<Figure size 1700x300 with 4 Axes>"
      ]
     },
     "metadata": {},
     "output_type": "display_data"
    }
   ],
   "source": [
    "# Defining the numerical and ordinal variables (inclding `Recommend` although it is categorical)\n",
    "num_cols = ['Age', 'Positive Feedback Count']\n",
    "ord_cols = ['Rating', 'Recommend']\n",
    "\n",
    "# Creating the figure\n",
    "fig = plt.figure(figsize=(17,3))\n",
    "\n",
    "# Subplot for `Age`\n",
    "plt.subplot(1,4,1)\n",
    "sns.histplot(data=data, x='Age', bins=np.ptp(data['Age']), kde=True)\n",
    "plt.title('Distribution of `Age`')\n",
    "plt.ylabel('')\n",
    "\n",
    "# Subplot for `Positive Feedback Count`\n",
    "plt.subplot(1,4,2)\n",
    "sns.histplot(data=data, x='Positive Feedback Count', bins=30, kde=True)\n",
    "plt.title('Distribution of `Positive Feedback Count`')\n",
    "plt.ylabel('')\n",
    "\n",
    "# Subplot for `Rating`\n",
    "plt.subplot(1,4,3)\n",
    "ax = sns.countplot(data=data, x='Rating')\n",
    "plt.title('Distribution of `Rating`')\n",
    "plt.ylabel('')\n",
    "# Add normalized counts to Rating plot\n",
    "total = float(len(data['Rating']))\n",
    "for p in ax.patches:\n",
    "    height = p.get_height()\n",
    "    ax.text(p.get_x()+p.get_width()/2., height+0.5, '{:.1%}'.format(height/total), ha=\"center\") \n",
    "\n",
    "# Subplot for `Recommend`\n",
    "plt.subplot(1,4,4)\n",
    "ax = sns.countplot(data=data, x='Recommend')\n",
    "plt.title('Distribution of `Recommend`')\n",
    "plt.ylabel('')\n",
    "# Add normalized counts to Recommend plot\n",
    "total = float(len(data['Recommend']))\n",
    "for p in ax.patches:\n",
    "    height = p.get_height()\n",
    "    ax.text(p.get_x()+p.get_width()/2., height+0.5, '{:.1%}'.format(height/total), ha=\"center\") \n",
    "\n",
    "plt.show()\n"
   ]
  },
  {
   "cell_type": "markdown",
   "id": "1b02d9f8",
   "metadata": {
    "papermill": {
     "duration": 0.012543,
     "end_time": "2023-03-01T09:46:57.232732",
     "exception": false,
     "start_time": "2023-03-01T09:46:57.220189",
     "status": "completed"
    },
    "tags": []
   },
   "source": [
    "#### Observations:\n",
    "- The `Age` distribution follows what we would expect for the consumers in the market. The distribution is normal in general, and slightly skewed to the right. This is to be expected as we could assume that younger women tend to do more clothes shopping online.\n",
    "- The `Positive Feedback Count` distribution is heavily skewed as most reviews do not receive any feedback.\n",
    "- The `Rating` column shows that most people leave a 5 star rating, and that in general customers tend to leave positive reviews.\n",
    "- The `Recommend` column shows that the vast majority of reviewers would recommend their purchase.\n",
    "\n",
    "Let's explore some relationships between these variables further:\n"
   ]
  },
  {
   "cell_type": "code",
   "execution_count": 9,
   "id": "d99a9be2",
   "metadata": {
    "execution": {
     "iopub.execute_input": "2023-03-01T09:46:57.260624Z",
     "iopub.status.busy": "2023-03-01T09:46:57.260172Z",
     "iopub.status.idle": "2023-03-01T09:46:57.555228Z",
     "shell.execute_reply": "2023-03-01T09:46:57.554326Z"
    },
    "papermill": {
     "duration": 0.311876,
     "end_time": "2023-03-01T09:46:57.557667",
     "exception": false,
     "start_time": "2023-03-01T09:46:57.245791",
     "status": "completed"
    },
    "tags": []
   },
   "outputs": [
    {
     "data": {
      "image/png": "[encoded data removed]",
      "text/plain": [
       "<Figure size 640x480 with 1 Axes>"
      ]
     },
     "metadata": {},
     "output_type": "display_data"
    }
   ],
   "source": [
    "# Bar chart of `Rating` but split by `Recommend`\n",
    "ax = sns.countplot(data=data, x='Rating', hue='Recommend')\n",
    "for container in ax.containers:\n",
    "    ax.bar_label(container)\n",
    "plt.title('Distribution of `Rating`')\n",
    "plt.ylabel('')\n",
    "\n",
    "plt.show()"
   ]
  },
  {
   "cell_type": "markdown",
   "id": "e388e5c2",
   "metadata": {
    "papermill": {
     "duration": 0.012475,
     "end_time": "2023-03-01T09:46:57.582855",
     "exception": false,
     "start_time": "2023-03-01T09:46:57.570380",
     "status": "completed"
    },
    "tags": []
   },
   "source": [
    "#### Observations:\n",
    " - Here we can see that the vast majority of customers that review an item either 4 or 5 stars would recommend it to a friend.\n",
    " - When an item has recieved a 3 star rating, roughly 40% of customers would still recommend it to a friend (perhaps this implies that they liked the clothing but their review reflects poor fit, or delivery or some other factor)\n",
    " - Customers that gave a 1 or 2 star review were very unlikely to recommend the item to a friend.\n",
    " \n",
    "Lets look at some of the individual reviews for when a customer reviewed the dress 5 stars but wouldn't suggest it to a friend and when a customer reviewed the dress 1 star but said that they would recommend it to a friend."
   ]
  },
  {
   "cell_type": "code",
   "execution_count": 10,
   "id": "fbc550de",
   "metadata": {
    "execution": {
     "iopub.execute_input": "2023-03-01T09:46:57.610018Z",
     "iopub.status.busy": "2023-03-01T09:46:57.609581Z",
     "iopub.status.idle": "2023-03-01T09:46:57.621483Z",
     "shell.execute_reply": "2023-03-01T09:46:57.620267Z"
    },
    "papermill": {
     "duration": 0.028537,
     "end_time": "2023-03-01T09:46:57.624082",
     "exception": false,
     "start_time": "2023-03-01T09:46:57.595545",
     "status": "completed"
    },
    "tags": []
   },
   "outputs": [
    {
     "data": {
      "text/plain": [
       "7443     I ordered my usual sz s during the promo. arrived yesterday & the fit is perfect w/ a little room to spare for layering. it's a snap front closure, front patch pockets, & attached hood that is small to med size-not huge or overwhelming. it's 100% acrylic which isn't my 1st choice, but soft, comfy & seems good quality. length falls abt 3\" below my knees. arm length is fine. pretty much looks as in the pic including the marled color. if you are in need of a great functional long swtr w/ good looks\n",
       "9161                                                                                                                                                                                                                                This an absolutely beautiful quality stylish coat but through no fault of the coat, i had to return it because i looked like a bear in it. i'm too short and too round around the middle for this type check and this type material. i wouldn't want to discourage anyone from trying it.\n",
       "9675                                                                                                                                                                                                                                                                             I didn't realize how much i would love this. wore it to work the other day and got more compliments than i have in a very long time on an outfit! it's comfortable and easy and flattering. bought this totally on a whim and so glad i did!\n",
       "9685                                                                                                                                                                                                                                                                                                                                                                                                                   This shirt is like the best worn in flannel with a little feminine flair! super soft and great length.\n",
       "11636    I've wondered abt this swtr but hesitated to order being it has dolman sleeves. decided to wait for it to come in at the local store. yesterday i spotted it in the store & tried on the orange, labeled 'red' online. i was really looking for the 'cream' but the store did not have it. well, the orange is really much prettier in person. fit is perfect in my usual size s. overall body fit & length is generous, sleeves are wrist length & i'm only 5'3\". most likely the sleeves will be shorter on taller\n",
       "Name: Review Text, dtype: object"
      ]
     },
     "execution_count": 10,
     "metadata": {},
     "output_type": "execute_result"
    }
   ],
   "source": [
    "# Looking at reviews for customers that gave 5 star but said they wouldn't recommend the item\n",
    "five_no_rec = data[(data['Rating'] == 5) & (data['Recommend'] == 0)]\n",
    "five_no_rec['Review Text'][5:10]"
   ]
  },
  {
   "cell_type": "markdown",
   "id": "7bfb6a17",
   "metadata": {
    "papermill": {
     "duration": 0.012286,
     "end_time": "2023-03-01T09:46:57.649338",
     "exception": false,
     "start_time": "2023-03-01T09:46:57.637052",
     "status": "completed"
    },
    "tags": []
   },
   "source": [
    "I think in general from looking at these reviews it appears the customers mostly made a mistake when filling out the review. Clearly they like the item and some even imply that they recommend it, for example one review above says: **\"I wouldn't want to discourage anyone from trying it.\"** If we assume all these cases are down to error it would mean that out of 13111 5 star reviews, 25 customers accidently filled in that they wouldn't recommend the item. This is an **error rate of 0.2%** which seems like a reasonable error to assume.\n",
    "\n",
    "Lets look at customers which gave a 1 star review but said they would recommend the item to check if a similar error is occuring in the data there."
   ]
  },
  {
   "cell_type": "code",
   "execution_count": 11,
   "id": "91d299d1",
   "metadata": {
    "execution": {
     "iopub.execute_input": "2023-03-01T09:46:57.677491Z",
     "iopub.status.busy": "2023-03-01T09:46:57.677085Z",
     "iopub.status.idle": "2023-03-01T09:46:57.687288Z",
     "shell.execute_reply": "2023-03-01T09:46:57.685995Z"
    },
    "papermill": {
     "duration": 0.026917,
     "end_time": "2023-03-01T09:46:57.689573",
     "exception": false,
     "start_time": "2023-03-01T09:46:57.662656",
     "status": "completed"
    },
    "tags": []
   },
   "outputs": [
    {
     "data": {
      "text/plain": [
       "2427                                                                                                                                                                                                                                                                                                                                                                                                                        Beautiful jacket and i got lots of compliments. true to size. it's not thick but it's very warm.\n",
       "2872                                                                                                                                                                                                                                                                                                                                                                            Very cute top. i went down a size because for me it was a little large in the back, but that was just my taste. i purchased the denim print.\n",
       "5570                                                                                                                                                                                                                                                                                                                                                                            I love this t-shirt because it has the combination of elegance and relazation to a \"t\".\\r\\nit's soft, pretty and covers my wide bottom well.\n",
       "6216                                                                                                                                                                                                                                                                                                                                                                                                                                               Love the movement of the blouse and how it falls. great quality material.\n",
       "7740    I loved the color and design until i tried it on in the store. i am 5'5\" with a slender build. i tried my usual xs but couldn't manage to put this shirt on me without risking smear my makeup or scratch my face by the elastic band at the neckline. the band is so small even fully stretched out. i have a normal sized head just in case you wonder... i gave up after wrestling with it. i can only imagine how uncomfortable to wear something with a tight elastic band choking me...funny... but not funny.\n",
       "Name: Review Text, dtype: object"
      ]
     },
     "execution_count": 11,
     "metadata": {},
     "output_type": "execute_result"
    }
   ],
   "source": [
    "one_rec = data[(data['Rating'] == 1) & (data['Recommend'] == 1)]\n",
    "one_rec['Review Text'][:5]"
   ]
  },
  {
   "cell_type": "markdown",
   "id": "e6b9034a",
   "metadata": {
    "papermill": {
     "duration": 0.013237,
     "end_time": "2023-03-01T09:46:57.715924",
     "exception": false,
     "start_time": "2023-03-01T09:46:57.702687",
     "status": "completed"
    },
    "tags": []
   },
   "source": [
    "These cases are harder to explain and there appears to be a variety of reasons for the disparity in the rating and recommendation:\n",
    "- Some appear to have accidently given the one star review, as their review text is very positive.\n",
    "- Some maybe gave it a 1 star because they didn't like it, but they felt that other people would.\n",
    "- Some appear to have accidently recommended it."
   ]
  },
  {
   "cell_type": "code",
   "execution_count": 12,
   "id": "31420029",
   "metadata": {
    "execution": {
     "iopub.execute_input": "2023-03-01T09:46:57.744499Z",
     "iopub.status.busy": "2023-03-01T09:46:57.743688Z",
     "iopub.status.idle": "2023-03-01T09:46:57.763077Z",
     "shell.execute_reply": "2023-03-01T09:46:57.761636Z"
    },
    "papermill": {
     "duration": 0.036918,
     "end_time": "2023-03-01T09:46:57.765903",
     "exception": false,
     "start_time": "2023-03-01T09:46:57.728985",
     "status": "completed"
    },
    "tags": []
   },
   "outputs": [
    {
     "data": {
      "text/html": [
       "<div>\n",
       "<style scoped>\n",
       "    .dataframe tbody tr th:only-of-type {\n",
       "        vertical-align: middle;\n",
       "    }\n",
       "\n",
       "    .dataframe tbody tr th {\n",
       "        vertical-align: top;\n",
       "    }\n",
       "\n",
       "    .dataframe thead th {\n",
       "        text-align: right;\n",
       "    }\n",
       "</style>\n",
       "<table border=\"1\" class=\"dataframe\">\n",
       "  <thead>\n",
       "    <tr style=\"text-align: right;\">\n",
       "      <th></th>\n",
       "      <th>Age</th>\n",
       "      <th>Recommend</th>\n",
       "      <th>Positive Feedback Count</th>\n",
       "    </tr>\n",
       "    <tr>\n",
       "      <th>Rating</th>\n",
       "      <th></th>\n",
       "      <th></th>\n",
       "      <th></th>\n",
       "    </tr>\n",
       "  </thead>\n",
       "  <tbody>\n",
       "    <tr>\n",
       "      <th>1</th>\n",
       "      <td>43.693587</td>\n",
       "      <td>0.019002</td>\n",
       "      <td>3.459620</td>\n",
       "    </tr>\n",
       "    <tr>\n",
       "      <th>2</th>\n",
       "      <td>42.622364</td>\n",
       "      <td>0.060064</td>\n",
       "      <td>3.325879</td>\n",
       "    </tr>\n",
       "    <tr>\n",
       "      <th>3</th>\n",
       "      <td>42.158481</td>\n",
       "      <td>0.414141</td>\n",
       "      <td>3.145246</td>\n",
       "    </tr>\n",
       "    <tr>\n",
       "      <th>4</th>\n",
       "      <td>42.887532</td>\n",
       "      <td>0.966910</td>\n",
       "      <td>2.405554</td>\n",
       "    </tr>\n",
       "    <tr>\n",
       "      <th>5</th>\n",
       "      <td>43.583124</td>\n",
       "      <td>0.998096</td>\n",
       "      <td>2.299749</td>\n",
       "    </tr>\n",
       "  </tbody>\n",
       "</table>\n",
       "</div>"
      ],
      "text/plain": [
       "              Age  Recommend  Positive Feedback Count\n",
       "Rating                                               \n",
       "1       43.693587   0.019002                 3.459620\n",
       "2       42.622364   0.060064                 3.325879\n",
       "3       42.158481   0.414141                 3.145246\n",
       "4       42.887532   0.966910                 2.405554\n",
       "5       43.583124   0.998096                 2.299749"
      ]
     },
     "execution_count": 12,
     "metadata": {},
     "output_type": "execute_result"
    }
   ],
   "source": [
    "# Looking at how the data splits when grouped by `Rating`\n",
    "data.groupby('Rating').mean()"
   ]
  },
  {
   "cell_type": "markdown",
   "id": "c53ac946",
   "metadata": {
    "papermill": {
     "duration": 0.013623,
     "end_time": "2023-03-01T09:46:57.793023",
     "exception": false,
     "start_time": "2023-03-01T09:46:57.779400",
     "status": "completed"
    },
    "tags": []
   },
   "source": [
    "#### Observations:\n",
    "- We can see that each rating has roughly the same average age, therefore it appears that despite their age must customers appear to review similarly.\n",
    "- We can see again the percentages of customers that would recommend the item split by star rating.\n",
    "- We can also see that lower ratings are more likely to recieve a positive feedback count, which implies that customers have more appreciation for the negative reviews of others (which dissuade them from making what they consider a 'poor purchase') than they do for the positive reviews."
   ]
  },
  {
   "cell_type": "markdown",
   "id": "dee0ddbf",
   "metadata": {
    "papermill": {
     "duration": 0.012821,
     "end_time": "2023-03-01T09:46:57.819061",
     "exception": false,
     "start_time": "2023-03-01T09:46:57.806240",
     "status": "completed"
    },
    "tags": []
   },
   "source": [
    "### 2.2 Categorical Variables\n",
    "\n",
    "Let's split the data into text data (the review and title) and categorical data and explore these seperately."
   ]
  },
  {
   "cell_type": "code",
   "execution_count": 13,
   "id": "b41790ce",
   "metadata": {
    "execution": {
     "iopub.execute_input": "2023-03-01T09:46:57.848060Z",
     "iopub.status.busy": "2023-03-01T09:46:57.847614Z",
     "iopub.status.idle": "2023-03-01T09:46:57.857183Z",
     "shell.execute_reply": "2023-03-01T09:46:57.855667Z"
    },
    "papermill": {
     "duration": 0.027174,
     "end_time": "2023-03-01T09:46:57.859930",
     "exception": false,
     "start_time": "2023-03-01T09:46:57.832756",
     "status": "completed"
    },
    "tags": []
   },
   "outputs": [],
   "source": [
    "# Correcting a spelling error in the dataset\n",
    "data['Division Name'] = data['Division Name'].replace({'Initmates': 'Intimates'})"
   ]
  },
  {
   "cell_type": "code",
   "execution_count": 14,
   "id": "5e392d96",
   "metadata": {
    "execution": {
     "iopub.execute_input": "2023-03-01T09:46:57.888168Z",
     "iopub.status.busy": "2023-03-01T09:46:57.887738Z",
     "iopub.status.idle": "2023-03-01T09:46:57.892949Z",
     "shell.execute_reply": "2023-03-01T09:46:57.891974Z"
    },
    "papermill": {
     "duration": 0.021997,
     "end_time": "2023-03-01T09:46:57.895241",
     "exception": false,
     "start_time": "2023-03-01T09:46:57.873244",
     "status": "completed"
    },
    "tags": []
   },
   "outputs": [],
   "source": [
    "# Defining the different variables to investigate into text groups and into categorical variables\n",
    "text_cols = ['Title', 'Review Text']\n",
    "cat_cols = ['Division Name', 'Department Name', 'Class Name']"
   ]
  },
  {
   "cell_type": "code",
   "execution_count": 15,
   "id": "d2e91905",
   "metadata": {
    "execution": {
     "iopub.execute_input": "2023-03-01T09:46:57.924428Z",
     "iopub.status.busy": "2023-03-01T09:46:57.923176Z",
     "iopub.status.idle": "2023-03-01T09:46:58.601837Z",
     "shell.execute_reply": "2023-03-01T09:46:58.600686Z"
    },
    "papermill": {
     "duration": 0.696219,
     "end_time": "2023-03-01T09:46:58.604892",
     "exception": false,
     "start_time": "2023-03-01T09:46:57.908673",
     "status": "completed"
    },
    "tags": []
   },
   "outputs": [
    {
     "data": {
      "image/png": "[encoded data removed]",
      "text/plain": [
       "<Figure size 2000x400 with 3 Axes>"
      ]
     },
     "metadata": {},
     "output_type": "display_data"
    }
   ],
   "source": [
    "# Defining the figure to look at categorical columns on the same plot\n",
    "fig = plt.figure(figsize=(20,4))\n",
    "             \n",
    "# Iterating through categorical columns and creating bar charts\n",
    "for i, col in enumerate(cat_cols):\n",
    "    plt.subplot(1,4,i+1)\n",
    "    plt.title(col+' bar chart')\n",
    "    sns.countplot(data=data, x=col, order = data[col].value_counts().index)\n",
    "    if col == 'Class Name':\n",
    "        plt.xticks(rotation=90)"
   ]
  },
  {
   "cell_type": "markdown",
   "id": "64589835",
   "metadata": {
    "papermill": {
     "duration": 0.013729,
     "end_time": "2023-03-01T09:46:58.632901",
     "exception": false,
     "start_time": "2023-03-01T09:46:58.619172",
     "status": "completed"
    },
    "tags": []
   },
   "source": [
    "#### Observations:\n",
    "- Here we can see that most items reviewed were under the `General` division. The other two categories are `General Petite` and `Intimates`, which implies that perhaps one of the vendor's target market is petite women.\n",
    "- We can see that the most reviewed items were tops. Here tops refers to all items that are worn on the upper body (not just t-shirts)\n",
    "- The most reviewed items were dresses.\n",
    "\n",
    "### 2.3 Looking at number of words in reviews and titles\n",
    "\n",
    "Lets look at the length of reviews and titles and see how these relate to other variables. As we will be doing sentiment anaylsis, rows that contain neither the title or a review are irrelevant to us. Therefore in this EDA we will look at the data which has titles and reviews. We will remove the rows that have no review but leave the rows that don't have a title, as we might be able to do some feature engineering later in the project.\n"
   ]
  },
  {
   "cell_type": "code",
   "execution_count": 16,
   "id": "d46e6132",
   "metadata": {
    "execution": {
     "iopub.execute_input": "2023-03-01T09:46:58.663049Z",
     "iopub.status.busy": "2023-03-01T09:46:58.662628Z",
     "iopub.status.idle": "2023-03-01T09:46:58.677500Z",
     "shell.execute_reply": "2023-03-01T09:46:58.676378Z"
    },
    "papermill": {
     "duration": 0.033189,
     "end_time": "2023-03-01T09:46:58.680225",
     "exception": false,
     "start_time": "2023-03-01T09:46:58.647036",
     "status": "completed"
    },
    "tags": []
   },
   "outputs": [],
   "source": [
    "# Removing rows that have no review text\n",
    "ind_to_drop = data[data['Review Text'].isna()].index\n",
    "data = data.drop(ind_to_drop, axis=0)"
   ]
  },
  {
   "cell_type": "code",
   "execution_count": 17,
   "id": "ed1da2da",
   "metadata": {
    "execution": {
     "iopub.execute_input": "2023-03-01T09:46:58.711619Z",
     "iopub.status.busy": "2023-03-01T09:46:58.710812Z",
     "iopub.status.idle": "2023-03-01T09:46:58.730089Z",
     "shell.execute_reply": "2023-03-01T09:46:58.729110Z"
    },
    "papermill": {
     "duration": 0.037812,
     "end_time": "2023-03-01T09:46:58.732703",
     "exception": false,
     "start_time": "2023-03-01T09:46:58.694891",
     "status": "completed"
    },
    "tags": []
   },
   "outputs": [],
   "source": [
    "# Some data cleaning for the text columns so that we can find the length of the texts\n",
    "data['Title'] = data['Title'].fillna('')\n",
    "data[data['Title'] == ' '] = ''"
   ]
  },
  {
   "cell_type": "code",
   "execution_count": 18,
   "id": "ca830a90",
   "metadata": {
    "execution": {
     "iopub.execute_input": "2023-03-01T09:46:58.764263Z",
     "iopub.status.busy": "2023-03-01T09:46:58.763444Z",
     "iopub.status.idle": "2023-03-01T09:46:58.874319Z",
     "shell.execute_reply": "2023-03-01T09:46:58.872841Z"
    },
    "papermill": {
     "duration": 0.129529,
     "end_time": "2023-03-01T09:46:58.877107",
     "exception": false,
     "start_time": "2023-03-01T09:46:58.747578",
     "status": "completed"
    },
    "tags": []
   },
   "outputs": [],
   "source": [
    "# Adding new columns to the dataset that contain the length of the respective texts\n",
    "data['Review Length'] = data['Review Text'].apply(lambda x: len(x.split(' ')))\n",
    "data['Title Length'] = data['Title'].apply(lambda x: len(x.split(' ')))"
   ]
  },
  {
   "cell_type": "code",
   "execution_count": 19,
   "id": "d37877a1",
   "metadata": {
    "execution": {
     "iopub.execute_input": "2023-03-01T09:46:58.909190Z",
     "iopub.status.busy": "2023-03-01T09:46:58.908430Z",
     "iopub.status.idle": "2023-03-01T09:46:58.932690Z",
     "shell.execute_reply": "2023-03-01T09:46:58.931135Z"
    },
    "papermill": {
     "duration": 0.042992,
     "end_time": "2023-03-01T09:46:58.935283",
     "exception": false,
     "start_time": "2023-03-01T09:46:58.892291",
     "status": "completed"
    },
    "tags": []
   },
   "outputs": [
    {
     "name": "stdout",
     "output_type": "stream",
     "text": [
      "0.00 percent of rows have no review and 13.10 percent have no title\n"
     ]
    }
   ],
   "source": [
    "# Working out number of reviews title and reviews with no text\n",
    "no_review = (data[data['Review Text'] == ''].shape[0] / data.shape[0]) * 100\n",
    "no_title = (data[data['Title'] == ''].shape[0] / data.shape[0]) * 100\n",
    "print('{:.2f} percent of rows have no review and {:.2f} percent have no title'.format(no_review, no_title))\n"
   ]
  },
  {
   "cell_type": "code",
   "execution_count": 20,
   "id": "16d9c6b0",
   "metadata": {
    "execution": {
     "iopub.execute_input": "2023-03-01T09:46:58.966505Z",
     "iopub.status.busy": "2023-03-01T09:46:58.965535Z",
     "iopub.status.idle": "2023-03-01T09:46:59.825874Z",
     "shell.execute_reply": "2023-03-01T09:46:59.824464Z"
    },
    "papermill": {
     "duration": 0.878609,
     "end_time": "2023-03-01T09:46:59.828625",
     "exception": false,
     "start_time": "2023-03-01T09:46:58.950016",
     "status": "completed"
    },
    "tags": []
   },
   "outputs": [
    {
     "data": {
      "image/png": "[encoded data removed]",
      "text/plain": [
       "<Figure size 1700x300 with 2 Axes>"
      ]
     },
     "metadata": {},
     "output_type": "display_data"
    }
   ],
   "source": [
    "# Creating the figure\n",
    "fig = plt.figure(figsize=(17,3))\n",
    "\n",
    "# Subplot for `Review Length`\n",
    "ax1 = plt.subplot(1,2,1)\n",
    "sns.histplot(data=data, x='Review Length', bins=np.ptp(data['Review Length']), kde=True)\n",
    "plt.title('Histogram of Review Length')\n",
    "plt.ylabel('')\n",
    "\n",
    "# Add mean line for `Review Length`\n",
    "mean_length = data['Review Length'].mean()\n",
    "ax1.axvline(mean_length, color='red', label='Mean')\n",
    "plt.text(mean_length + 2, 320, f\"Mean: {mean_length:.2f}\", color='red', fontsize=12)\n",
    "\n",
    "# Subplot for `Title Length`\n",
    "ax2 = plt.subplot(1,2,2)\n",
    "sns.histplot(data=data[data['Title'] != ''], x='Title Length', binwidth=1)\n",
    "plt.title('Histogram of Title Length')\n",
    "plt.ylabel('')\n",
    "\n",
    "# Add mean line for `Title Length` (not including titles with length 0)\n",
    "mean_title_length = data[data['Title'] != '']['Title Length'].mean()\n",
    "ax2.axvline(mean_title_length, color='red', label='Mean')\n",
    "plt.text(mean_title_length + 1.1, 4500, f\"Mean: {mean_title_length:.2f}\", color='red', fontsize=12)\n",
    "\n",
    "plt.show()\n"
   ]
  },
  {
   "cell_type": "markdown",
   "id": "bb0fd765",
   "metadata": {
    "papermill": {
     "duration": 0.016988,
     "end_time": "2023-03-01T09:46:59.861861",
     "exception": false,
     "start_time": "2023-03-01T09:46:59.844873",
     "status": "completed"
    },
    "tags": []
   },
   "source": [
    "#### Note:\n",
    "- In the above histograms the reviews without any text had already been removed from the dataset and the reviews without a title were not considered in the histogram looking at title length. 13.10% of reviews had no title.\n",
    "\n",
    "#### Observations:\n",
    "- We can see that the review length is not normally distributed. It looks like it could be made up of two normal distributions that are combined. I will investigate this further below.\n",
    "- The title length has a normal distribution and is skewed to the right."
   ]
  },
  {
   "cell_type": "code",
   "execution_count": 21,
   "id": "d911eb1c",
   "metadata": {
    "execution": {
     "iopub.execute_input": "2023-03-01T09:46:59.895984Z",
     "iopub.status.busy": "2023-03-01T09:46:59.895247Z",
     "iopub.status.idle": "2023-03-01T09:46:59.908140Z",
     "shell.execute_reply": "2023-03-01T09:46:59.906752Z"
    },
    "papermill": {
     "duration": 0.033192,
     "end_time": "2023-03-01T09:46:59.911088",
     "exception": false,
     "start_time": "2023-03-01T09:46:59.877896",
     "status": "completed"
    },
    "tags": []
   },
   "outputs": [],
   "source": [
    "data['Rating Class'] = data['Rating'].map({\n",
    "    5: 'Positive',\n",
    "    4: 'Positive',\n",
    "    3: 'Neutral',\n",
    "    2: 'Negative',\n",
    "    1: 'Negative'\n",
    "})"
   ]
  },
  {
   "cell_type": "code",
   "execution_count": 22,
   "id": "ed4ff838",
   "metadata": {
    "execution": {
     "iopub.execute_input": "2023-03-01T09:46:59.943300Z",
     "iopub.status.busy": "2023-03-01T09:46:59.942875Z",
     "iopub.status.idle": "2023-03-01T09:47:01.899916Z",
     "shell.execute_reply": "2023-03-01T09:47:01.898543Z"
    },
    "papermill": {
     "duration": 1.97639,
     "end_time": "2023-03-01T09:47:01.902830",
     "exception": false,
     "start_time": "2023-03-01T09:46:59.926440",
     "status": "completed"
    },
    "tags": []
   },
   "outputs": [
    {
     "data": {
      "image/png": "[encoded data removed]",
      "text/plain": [
       "<Figure size 1700x300 with 2 Axes>"
      ]
     },
     "metadata": {},
     "output_type": "display_data"
    }
   ],
   "source": [
    "# Creating the figure\n",
    "fig = plt.figure(figsize=(17,3))\n",
    "\n",
    "# Subplot for `Review Length`\n",
    "ax1 = plt.subplot(1,2,1)\n",
    "sns.histplot(data=data[data['Review Length'] > 1], x='Review Length', bins=np.ptp(data['Review Length']), hue='Recommend')\n",
    "plt.title('')\n",
    "plt.ylabel('')\n",
    "\n",
    "# Add mean line for `Review Length`\n",
    "mean_length = data['Review Length'].mean()\n",
    "ax1.axvline(mean_length, color='red', label='Mean')\n",
    "plt.text(mean_length + 2, 320, f\"Mean: {mean_length:.2f}\", color='red', fontsize=12)\n",
    "\n",
    "\n",
    "# Subplot for `Review Length`\n",
    "ax1 = plt.subplot(1,2,2)\n",
    "sns.histplot(data=data[data['Review Length'] > 1], x='Review Length', bins=np.ptp(data['Review Length']), hue='Rating Class')\n",
    "plt.title('')\n",
    "plt.ylabel('')\n",
    "\n",
    "# Add mean line for `Review Length`\n",
    "mean_length = data['Review Length'].mean()\n",
    "ax1.axvline(mean_length, color='red', label='Mean')\n",
    "plt.text(mean_length + 2, 320, f\"Mean: {mean_length:.2f}\", color='red', fontsize=12)\n",
    "\n",
    "plt.show()"
   ]
  },
  {
   "cell_type": "markdown",
   "id": "8e4ca0ad",
   "metadata": {
    "papermill": {
     "duration": 0.016695,
     "end_time": "2023-03-01T09:47:01.936197",
     "exception": false,
     "start_time": "2023-03-01T09:47:01.919502",
     "status": "completed"
    },
    "tags": []
   },
   "source": [
    "Here we can see that in general positive reviews and reviews that also contain a recommendation can sometimes have a greater number of words in the review text, leading to this second peak around 95 words. We see this second peak also in negative reviews or reviews that done contain a recommendation, however it is less pronounced.\n",
    "\n",
    "Perhaps this could be due to limits on the length of the review. Therefore customers that were going to write reviews longer than the word limit had to shorten there review, leading to this 'artificial' peak.\n",
    "\n",
    "\n",
    "## 3. Target Variables (5-star review or not)"
   ]
  },
  {
   "cell_type": "code",
   "execution_count": 23,
   "id": "d3930bf2",
   "metadata": {
    "execution": {
     "iopub.execute_input": "2023-03-01T09:47:01.970551Z",
     "iopub.status.busy": "2023-03-01T09:47:01.970099Z",
     "iopub.status.idle": "2023-03-01T09:47:01.986124Z",
     "shell.execute_reply": "2023-03-01T09:47:01.985205Z"
    },
    "papermill": {
     "duration": 0.035843,
     "end_time": "2023-03-01T09:47:01.988557",
     "exception": false,
     "start_time": "2023-03-01T09:47:01.952714",
     "status": "completed"
    },
    "tags": []
   },
   "outputs": [],
   "source": [
    "# Craeting a new column to contain the target variable\n",
    "data['Five Star'] = data['Rating'].apply(lambda x: 1 if x==5 else 0)"
   ]
  },
  {
   "cell_type": "code",
   "execution_count": 24,
   "id": "6000d7bc",
   "metadata": {
    "execution": {
     "iopub.execute_input": "2023-03-01T09:47:02.023058Z",
     "iopub.status.busy": "2023-03-01T09:47:02.022642Z",
     "iopub.status.idle": "2023-03-01T09:47:02.237607Z",
     "shell.execute_reply": "2023-03-01T09:47:02.236416Z"
    },
    "papermill": {
     "duration": 0.235989,
     "end_time": "2023-03-01T09:47:02.240629",
     "exception": false,
     "start_time": "2023-03-01T09:47:02.004640",
     "status": "completed"
    },
    "tags": []
   },
   "outputs": [
    {
     "data": {
      "image/png": "[encoded data removed]",
      "text/plain": [
       "<Figure size 640x480 with 1 Axes>"
      ]
     },
     "metadata": {},
     "output_type": "display_data"
    }
   ],
   "source": [
    "# barplot for the target variable\n",
    "ax = sns.countplot(data=data, x='Five Star')\n",
    "plt.title('Bar Plot showing reviews with 5-stars or not')\n",
    "plt.xlabel('')\n",
    "plt.ylabel('')\n",
    "for p in ax.patches:\n",
    "    height = p.get_height()\n",
    "    ax.text(p.get_x()+p.get_width()/2., height+0.5, '{:.1%}'.format(height/total), ha=\"center\")"
   ]
  },
  {
   "cell_type": "markdown",
   "id": "757de8d6",
   "metadata": {
    "papermill": {
     "duration": 0.016989,
     "end_time": "2023-03-01T09:47:02.274567",
     "exception": false,
     "start_time": "2023-03-01T09:47:02.257578",
     "status": "completed"
    },
    "tags": []
   },
   "source": [
    "**Observations**:\n",
    " - We can see that 56% of reviews gave a 5 star rating and 44% gave a 4-star or less rating. This means that the target variable is slightly unbalanced. This will have to be accounted for in the final sentiment analysis model."
   ]
  },
  {
   "cell_type": "markdown",
   "id": "d0d7151c",
   "metadata": {
    "papermill": {
     "duration": 0.016797,
     "end_time": "2023-03-01T09:47:02.308210",
     "exception": false,
     "start_time": "2023-03-01T09:47:02.291413",
     "status": "completed"
    },
    "tags": []
   },
   "source": [
    "## 4. Light Cleaning and Saving the Dataset"
   ]
  },
  {
   "cell_type": "code",
   "execution_count": 25,
   "id": "97173f13",
   "metadata": {
    "execution": {
     "iopub.execute_input": "2023-03-01T09:47:02.343458Z",
     "iopub.status.busy": "2023-03-01T09:47:02.342534Z",
     "iopub.status.idle": "2023-03-01T09:47:02.361146Z",
     "shell.execute_reply": "2023-03-01T09:47:02.360319Z"
    },
    "papermill": {
     "duration": 0.038398,
     "end_time": "2023-03-01T09:47:02.363289",
     "exception": false,
     "start_time": "2023-03-01T09:47:02.324891",
     "status": "completed"
    },
    "tags": []
   },
   "outputs": [
    {
     "data": {
      "text/html": [
       "<div>\n",
       "<style scoped>\n",
       "    .dataframe tbody tr th:only-of-type {\n",
       "        vertical-align: middle;\n",
       "    }\n",
       "\n",
       "    .dataframe tbody tr th {\n",
       "        vertical-align: top;\n",
       "    }\n",
       "\n",
       "    .dataframe thead th {\n",
       "        text-align: right;\n",
       "    }\n",
       "</style>\n",
       "<table border=\"1\" class=\"dataframe\">\n",
       "  <thead>\n",
       "    <tr style=\"text-align: right;\">\n",
       "      <th></th>\n",
       "      <th>Clothing ID</th>\n",
       "      <th>Age</th>\n",
       "      <th>Title</th>\n",
       "      <th>Review Text</th>\n",
       "      <th>Rating</th>\n",
       "      <th>Recommend</th>\n",
       "      <th>Positive Feedback Count</th>\n",
       "      <th>Division Name</th>\n",
       "      <th>Department Name</th>\n",
       "      <th>Class Name</th>\n",
       "      <th>Review Length</th>\n",
       "      <th>Title Length</th>\n",
       "      <th>Rating Class</th>\n",
       "      <th>Five Star</th>\n",
       "    </tr>\n",
       "  </thead>\n",
       "  <tbody>\n",
       "    <tr>\n",
       "      <th>0</th>\n",
       "      <td>767</td>\n",
       "      <td>33</td>\n",
       "      <td></td>\n",
       "      <td>Absolutely wonderful - silky and sexy and comfortable</td>\n",
       "      <td>4</td>\n",
       "      <td>1</td>\n",
       "      <td>0</td>\n",
       "      <td>Intimates</td>\n",
       "      <td>Intimate</td>\n",
       "      <td>Intimates</td>\n",
       "      <td>8</td>\n",
       "      <td>1</td>\n",
       "      <td>Positive</td>\n",
       "      <td>0</td>\n",
       "    </tr>\n",
       "    <tr>\n",
       "      <th>1</th>\n",
       "      <td>1080</td>\n",
       "      <td>34</td>\n",
       "      <td></td>\n",
       "      <td>Love this dress!  it's sooo pretty.  i happened to find it in a store, and i'm glad i did bc i never would have ordered it online bc it's petite.  i bought a petite and am 5'8\".  i love the length on me- hits just a little below the knee.  would definitely be a true midi on someone who is truly petite.</td>\n",
       "      <td>5</td>\n",
       "      <td>1</td>\n",
       "      <td>4</td>\n",
       "      <td>General</td>\n",
       "      <td>Dresses</td>\n",
       "      <td>Dresses</td>\n",
       "      <td>67</td>\n",
       "      <td>1</td>\n",
       "      <td>Positive</td>\n",
       "      <td>1</td>\n",
       "    </tr>\n",
       "    <tr>\n",
       "      <th>2</th>\n",
       "      <td>1077</td>\n",
       "      <td>60</td>\n",
       "      <td>Some major design flaws</td>\n",
       "      <td>I had such high hopes for this dress and really wanted it to work for me. i initially ordered the petite small (my usual size) but i found this to be outrageously small. so small in fact that i could not zip it up! i reordered it in petite medium, which was just ok. overall, the top half was comfortable and fit nicely, but the bottom half had a very tight under layer and several somewhat cheap (net) over layers. imo, a major design flaw was the net over layer sewn directly into the zipper - it c</td>\n",
       "      <td>3</td>\n",
       "      <td>0</td>\n",
       "      <td>0</td>\n",
       "      <td>General</td>\n",
       "      <td>Dresses</td>\n",
       "      <td>Dresses</td>\n",
       "      <td>98</td>\n",
       "      <td>4</td>\n",
       "      <td>Neutral</td>\n",
       "      <td>0</td>\n",
       "    </tr>\n",
       "    <tr>\n",
       "      <th>3</th>\n",
       "      <td>1049</td>\n",
       "      <td>50</td>\n",
       "      <td>My favorite buy!</td>\n",
       "      <td>I love, love, love this jumpsuit. it's fun, flirty, and fabulous! every time i wear it, i get nothing but great compliments!</td>\n",
       "      <td>5</td>\n",
       "      <td>1</td>\n",
       "      <td>0</td>\n",
       "      <td>General Petite</td>\n",
       "      <td>Bottoms</td>\n",
       "      <td>Pants</td>\n",
       "      <td>22</td>\n",
       "      <td>3</td>\n",
       "      <td>Positive</td>\n",
       "      <td>1</td>\n",
       "    </tr>\n",
       "    <tr>\n",
       "      <th>4</th>\n",
       "      <td>847</td>\n",
       "      <td>47</td>\n",
       "      <td>Flattering shirt</td>\n",
       "      <td>This shirt is very flattering to all due to the adjustable front tie. it is the perfect length to wear with leggings and it is sleeveless so it pairs well with any cardigan. love this shirt!!!</td>\n",
       "      <td>5</td>\n",
       "      <td>1</td>\n",
       "      <td>6</td>\n",
       "      <td>General</td>\n",
       "      <td>Tops</td>\n",
       "      <td>Blouses</td>\n",
       "      <td>36</td>\n",
       "      <td>2</td>\n",
       "      <td>Positive</td>\n",
       "      <td>1</td>\n",
       "    </tr>\n",
       "  </tbody>\n",
       "</table>\n",
       "</div>"
      ],
      "text/plain": [
       "  Clothing ID Age                    Title  \\\n",
       "0         767  33                            \n",
       "1        1080  34                            \n",
       "2        1077  60  Some major design flaws   \n",
       "3        1049  50         My favorite buy!   \n",
       "4         847  47         Flattering shirt   \n",
       "\n",
       "                                                                                                                                                                                                                                                                                                                                                                                                                                                                                                            Review Text  \\\n",
       "0                                                                                                                                                                                                                                                                                                                                                                                                                                                                 Absolutely wonderful - silky and sexy and comfortable   \n",
       "1                                                                                                                                                                                                       Love this dress!  it's sooo pretty.  i happened to find it in a store, and i'm glad i did bc i never would have ordered it online bc it's petite.  i bought a petite and am 5'8\".  i love the length on me- hits just a little below the knee.  would definitely be a true midi on someone who is truly petite.   \n",
       "2  I had such high hopes for this dress and really wanted it to work for me. i initially ordered the petite small (my usual size) but i found this to be outrageously small. so small in fact that i could not zip it up! i reordered it in petite medium, which was just ok. overall, the top half was comfortable and fit nicely, but the bottom half had a very tight under layer and several somewhat cheap (net) over layers. imo, a major design flaw was the net over layer sewn directly into the zipper - it c   \n",
       "3                                                                                                                                                                                                                                                                                                                                                                                          I love, love, love this jumpsuit. it's fun, flirty, and fabulous! every time i wear it, i get nothing but great compliments!   \n",
       "4                                                                                                                                                                                                                                                                                                                      This shirt is very flattering to all due to the adjustable front tie. it is the perfect length to wear with leggings and it is sleeveless so it pairs well with any cardigan. love this shirt!!!   \n",
       "\n",
       "  Rating Recommend Positive Feedback Count   Division Name Department Name  \\\n",
       "0      4         1                       0       Intimates        Intimate   \n",
       "1      5         1                       4         General         Dresses   \n",
       "2      3         0                       0         General         Dresses   \n",
       "3      5         1                       0  General Petite         Bottoms   \n",
       "4      5         1                       6         General            Tops   \n",
       "\n",
       "  Class Name  Review Length  Title Length Rating Class  Five Star  \n",
       "0  Intimates              8             1     Positive          0  \n",
       "1    Dresses             67             1     Positive          1  \n",
       "2    Dresses             98             4      Neutral          0  \n",
       "3      Pants             22             3     Positive          1  \n",
       "4    Blouses             36             2     Positive          1  "
      ]
     },
     "execution_count": 25,
     "metadata": {},
     "output_type": "execute_result"
    }
   ],
   "source": [
    "data.head()"
   ]
  },
  {
   "cell_type": "markdown",
   "id": "c29c14a5",
   "metadata": {
    "papermill": {
     "duration": 0.01667,
     "end_time": "2023-03-01T09:47:02.396902",
     "exception": false,
     "start_time": "2023-03-01T09:47:02.380232",
     "status": "completed"
    },
    "tags": []
   },
   "source": [
    "Now that we have performed EDA on the dataset, we will move on to building our Word2Vec model before building the sentiment analysis model. Therefore we can remove some columns from the dataset that are irrelevent to the rest of the project."
   ]
  },
  {
   "cell_type": "code",
   "execution_count": 26,
   "id": "2c4fc5cd",
   "metadata": {
    "execution": {
     "iopub.execute_input": "2023-03-01T09:47:02.432542Z",
     "iopub.status.busy": "2023-03-01T09:47:02.431930Z",
     "iopub.status.idle": "2023-03-01T09:47:02.445906Z",
     "shell.execute_reply": "2023-03-01T09:47:02.445034Z"
    },
    "papermill": {
     "duration": 0.034598,
     "end_time": "2023-03-01T09:47:02.448308",
     "exception": false,
     "start_time": "2023-03-01T09:47:02.413710",
     "status": "completed"
    },
    "tags": []
   },
   "outputs": [
    {
     "data": {
      "text/plain": [
       "Title          0\n",
       "Review Text    0\n",
       "Five Star      0\n",
       "dtype: int64"
      ]
     },
     "execution_count": 26,
     "metadata": {},
     "output_type": "execute_result"
    }
   ],
   "source": [
    "# Creating a datasubset that will be used in the rest of the project\n",
    "data_subset = data[['Title', 'Review Text', 'Five Star']].reset_index(drop=True)\n",
    "\n",
    "# Checking for missing values in the data subset\n",
    "data_subset.isna().sum()"
   ]
  },
  {
   "cell_type": "code",
   "execution_count": 27,
   "id": "9bf7d30b",
   "metadata": {
    "execution": {
     "iopub.execute_input": "2023-03-01T09:47:02.484056Z",
     "iopub.status.busy": "2023-03-01T09:47:02.483444Z",
     "iopub.status.idle": "2023-03-01T09:47:02.493781Z",
     "shell.execute_reply": "2023-03-01T09:47:02.492520Z"
    },
    "papermill": {
     "duration": 0.031041,
     "end_time": "2023-03-01T09:47:02.496162",
     "exception": false,
     "start_time": "2023-03-01T09:47:02.465121",
     "status": "completed"
    },
    "tags": []
   },
   "outputs": [
    {
     "data": {
      "text/html": [
       "<div>\n",
       "<style scoped>\n",
       "    .dataframe tbody tr th:only-of-type {\n",
       "        vertical-align: middle;\n",
       "    }\n",
       "\n",
       "    .dataframe tbody tr th {\n",
       "        vertical-align: top;\n",
       "    }\n",
       "\n",
       "    .dataframe thead th {\n",
       "        text-align: right;\n",
       "    }\n",
       "</style>\n",
       "<table border=\"1\" class=\"dataframe\">\n",
       "  <thead>\n",
       "    <tr style=\"text-align: right;\">\n",
       "      <th></th>\n",
       "      <th>Title</th>\n",
       "      <th>Review Text</th>\n",
       "      <th>Five Star</th>\n",
       "    </tr>\n",
       "  </thead>\n",
       "  <tbody>\n",
       "    <tr>\n",
       "      <th>0</th>\n",
       "      <td></td>\n",
       "      <td>Absolutely wonderful - silky and sexy and comfortable</td>\n",
       "      <td>0</td>\n",
       "    </tr>\n",
       "    <tr>\n",
       "      <th>1</th>\n",
       "      <td></td>\n",
       "      <td>Love this dress!  it's sooo pretty.  i happened to find it in a store, and i'm glad i did bc i never would have ordered it online bc it's petite.  i bought a petite and am 5'8\".  i love the length on me- hits just a little below the knee.  would definitely be a true midi on someone who is truly petite.</td>\n",
       "      <td>1</td>\n",
       "    </tr>\n",
       "    <tr>\n",
       "      <th>2</th>\n",
       "      <td>Some major design flaws</td>\n",
       "      <td>I had such high hopes for this dress and really wanted it to work for me. i initially ordered the petite small (my usual size) but i found this to be outrageously small. so small in fact that i could not zip it up! i reordered it in petite medium, which was just ok. overall, the top half was comfortable and fit nicely, but the bottom half had a very tight under layer and several somewhat cheap (net) over layers. imo, a major design flaw was the net over layer sewn directly into the zipper - it c</td>\n",
       "      <td>0</td>\n",
       "    </tr>\n",
       "    <tr>\n",
       "      <th>3</th>\n",
       "      <td>My favorite buy!</td>\n",
       "      <td>I love, love, love this jumpsuit. it's fun, flirty, and fabulous! every time i wear it, i get nothing but great compliments!</td>\n",
       "      <td>1</td>\n",
       "    </tr>\n",
       "    <tr>\n",
       "      <th>4</th>\n",
       "      <td>Flattering shirt</td>\n",
       "      <td>This shirt is very flattering to all due to the adjustable front tie. it is the perfect length to wear with leggings and it is sleeveless so it pairs well with any cardigan. love this shirt!!!</td>\n",
       "      <td>1</td>\n",
       "    </tr>\n",
       "  </tbody>\n",
       "</table>\n",
       "</div>"
      ],
      "text/plain": [
       "                     Title  \\\n",
       "0                            \n",
       "1                            \n",
       "2  Some major design flaws   \n",
       "3         My favorite buy!   \n",
       "4         Flattering shirt   \n",
       "\n",
       "                                                                                                                                                                                                                                                                                                                                                                                                                                                                                                            Review Text  \\\n",
       "0                                                                                                                                                                                                                                                                                                                                                                                                                                                                 Absolutely wonderful - silky and sexy and comfortable   \n",
       "1                                                                                                                                                                                                       Love this dress!  it's sooo pretty.  i happened to find it in a store, and i'm glad i did bc i never would have ordered it online bc it's petite.  i bought a petite and am 5'8\".  i love the length on me- hits just a little below the knee.  would definitely be a true midi on someone who is truly petite.   \n",
       "2  I had such high hopes for this dress and really wanted it to work for me. i initially ordered the petite small (my usual size) but i found this to be outrageously small. so small in fact that i could not zip it up! i reordered it in petite medium, which was just ok. overall, the top half was comfortable and fit nicely, but the bottom half had a very tight under layer and several somewhat cheap (net) over layers. imo, a major design flaw was the net over layer sewn directly into the zipper - it c   \n",
       "3                                                                                                                                                                                                                                                                                                                                                                                          I love, love, love this jumpsuit. it's fun, flirty, and fabulous! every time i wear it, i get nothing but great compliments!   \n",
       "4                                                                                                                                                                                                                                                                                                                      This shirt is very flattering to all due to the adjustable front tie. it is the perfect length to wear with leggings and it is sleeveless so it pairs well with any cardigan. love this shirt!!!   \n",
       "\n",
       "   Five Star  \n",
       "0          0  \n",
       "1          1  \n",
       "2          0  \n",
       "3          1  \n",
       "4          1  "
      ]
     },
     "execution_count": 27,
     "metadata": {},
     "output_type": "execute_result"
    }
   ],
   "source": [
    "data_subset.head()"
   ]
  },
  {
   "cell_type": "markdown",
   "id": "712a3a33",
   "metadata": {
    "papermill": {
     "duration": 0.016891,
     "end_time": "2023-03-01T09:47:02.530546",
     "exception": false,
     "start_time": "2023-03-01T09:47:02.513655",
     "status": "completed"
    },
    "tags": []
   },
   "source": [
    "Note that there is still missing data in the 'Title' column but it is stored as an empty string instead of null value."
   ]
  },
  {
   "cell_type": "code",
   "execution_count": 28,
   "id": "d4ab146d",
   "metadata": {
    "execution": {
     "iopub.execute_input": "2023-03-01T09:47:02.566963Z",
     "iopub.status.busy": "2023-03-01T09:47:02.566571Z",
     "iopub.status.idle": "2023-03-01T09:47:02.577219Z",
     "shell.execute_reply": "2023-03-01T09:47:02.575796Z"
    },
    "papermill": {
     "duration": 0.033105,
     "end_time": "2023-03-01T09:47:02.580780",
     "exception": false,
     "start_time": "2023-03-01T09:47:02.547675",
     "status": "completed"
    },
    "tags": []
   },
   "outputs": [
    {
     "name": "stdout",
     "output_type": "stream",
     "text": [
      "There are 13.1% of reviews missing a title in the data subset\n"
     ]
    }
   ],
   "source": [
    "no_title_perc = round(len(data_subset[data_subset['Title'] == '']) / data_subset.shape[0] * 100, 2)\n",
    "print(f'There are {no_title_perc}% of reviews missing a title in the data subset')"
   ]
  },
  {
   "cell_type": "code",
   "execution_count": 29,
   "id": "f2ced0d4",
   "metadata": {
    "execution": {
     "iopub.execute_input": "2023-03-01T09:47:02.617453Z",
     "iopub.status.busy": "2023-03-01T09:47:02.617017Z",
     "iopub.status.idle": "2023-03-01T09:47:02.809222Z",
     "shell.execute_reply": "2023-03-01T09:47:02.807931Z"
    },
    "papermill": {
     "duration": 0.213811,
     "end_time": "2023-03-01T09:47:02.812262",
     "exception": false,
     "start_time": "2023-03-01T09:47:02.598451",
     "status": "completed"
    },
    "tags": []
   },
   "outputs": [],
   "source": [
    "data_subset.to_csv('reviews_cleaned.csv', index=True)"
   ]
  },
  {
   "cell_type": "markdown",
   "id": "54641593",
   "metadata": {
    "papermill": {
     "duration": 0.017519,
     "end_time": "2023-03-01T09:47:02.847058",
     "exception": false,
     "start_time": "2023-03-01T09:47:02.829539",
     "status": "completed"
    },
    "tags": []
   },
   "source": [
    "# TODO:\n",
    "- Read through notebook\n",
    "    - Does all the writing make sense\n",
    "    - Are the graphs informative and visually pleasing\n",
    "    - Is the notebook well organised?\n",
    "        - Do the headings and their numbers make sense\n",
    "        - Should I add a table of contents\n",
    "- Add a conclusions section?"
   ]
  }
 ],
 "metadata": {
  "kernelspec": {
   "display_name": "Python 3",
   "language": "python",
   "name": "python3"
  },
  "language_info": {
   "codemirror_mode": {
    "name": "ipython",
    "version": 3
   },
   "file_extension": ".py",
   "mimetype": "text/x-python",
   "name": "python",
   "nbconvert_exporter": "python",
   "pygments_lexer": "ipython3",
   "version": "3.7.12"
  },
  "papermill": {
   "default_parameters": {},
   "duration": 19.450339,
   "end_time": "2023-03-01T09:47:03.687259",
   "environment_variables": {},
   "exception": null,
   "input_path": "__notebook__.ipynb",
   "output_path": "__notebook__.ipynb",
   "parameters": {},
   "start_time": "2023-03-01T09:46:44.236920",
   "version": "2.3.4"
  }
 },
 "nbformat": 4,
 "nbformat_minor": 5
}
